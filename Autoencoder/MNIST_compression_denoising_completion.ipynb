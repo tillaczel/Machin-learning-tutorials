{
  "nbformat": 4,
  "nbformat_minor": 0,
  "metadata": {
    "colab": {
      "name": "MNIST compression denoising completion.ipynb",
      "provenance": [],
      "collapsed_sections": [],
      "include_colab_link": true
    },
    "kernelspec": {
      "name": "python3",
      "display_name": "Python 3"
    },
    "accelerator": "GPU"
  },
  "cells": [
    {
      "cell_type": "markdown",
      "metadata": {
        "id": "view-in-github",
        "colab_type": "text"
      },
      "source": [
        "<a href=\"https://colab.research.google.com/github/tillaczel/Machine-learning-workshop/blob/master/Autoencoder/MNIST_compression_denoising_completion.ipynb\" target=\"_parent\"><img src=\"https://colab.research.google.com/assets/colab-badge.svg\" alt=\"Open In Colab\"/></a>"
      ]
    },
    {
      "cell_type": "markdown",
      "metadata": {
        "id": "AvW0Z1RYjyxe",
        "colab_type": "text"
      },
      "source": [
        "# Autoencoder MNIST\n",
        "\n",
        "An autoencoder transforms the input into a reduced representation and converts it back to the input. It can be used for image compression, image denoising, super resolution, night sight, etc. To read more about autoencoders go to (https://blog.keras.io/building-autoencoders-in-keras.html).\n",
        "\n",
        "\n"
      ]
    },
    {
      "cell_type": "markdown",
      "metadata": {
        "id": "uX3cep4ZknpE",
        "colab_type": "text"
      },
      "source": [
        "## Importing libraries"
      ]
    },
    {
      "cell_type": "code",
      "metadata": {
        "id": "LBipAWt8bMhI",
        "colab_type": "code",
        "outputId": "91a51b0e-c77d-4438-ff9a-df9a61f48c97",
        "colab": {
          "base_uri": "https://localhost:8080/",
          "height": 625
        }
      },
      "source": [
        "!pip install tensorflow --upgrade\n",
        "import tensorflow as tf\n",
        "print(tf.__version__)\n",
        "\n",
        "from tensorflow.keras import layers\n",
        "from tensorflow.keras.models import Model\n",
        "from tensorflow.keras import optimizers\n",
        "from tensorflow.keras.datasets import mnist\n",
        "import numpy as np\n",
        "import matplotlib.pyplot as plt"
      ],
      "execution_count": 0,
      "outputs": [
        {
          "output_type": "stream",
          "text": [
            "Requirement already up-to-date: tensorflow in /usr/local/lib/python3.6/dist-packages (2.0.0)\n",
            "Requirement already satisfied, skipping upgrade: google-pasta>=0.1.6 in /usr/local/lib/python3.6/dist-packages (from tensorflow) (0.1.8)\n",
            "Requirement already satisfied, skipping upgrade: gast==0.2.2 in /usr/local/lib/python3.6/dist-packages (from tensorflow) (0.2.2)\n",
            "Requirement already satisfied, skipping upgrade: termcolor>=1.1.0 in /usr/local/lib/python3.6/dist-packages (from tensorflow) (1.1.0)\n",
            "Requirement already satisfied, skipping upgrade: tensorboard<2.1.0,>=2.0.0 in /usr/local/lib/python3.6/dist-packages (from tensorflow) (2.0.2)\n",
            "Requirement already satisfied, skipping upgrade: keras-preprocessing>=1.0.5 in /usr/local/lib/python3.6/dist-packages (from tensorflow) (1.1.0)\n",
            "Requirement already satisfied, skipping upgrade: grpcio>=1.8.6 in /usr/local/lib/python3.6/dist-packages (from tensorflow) (1.15.0)\n",
            "Requirement already satisfied, skipping upgrade: numpy<2.0,>=1.16.0 in /usr/local/lib/python3.6/dist-packages (from tensorflow) (1.17.4)\n",
            "Requirement already satisfied, skipping upgrade: opt-einsum>=2.3.2 in /usr/local/lib/python3.6/dist-packages (from tensorflow) (3.1.0)\n",
            "Requirement already satisfied, skipping upgrade: keras-applications>=1.0.8 in /usr/local/lib/python3.6/dist-packages (from tensorflow) (1.0.8)\n",
            "Requirement already satisfied, skipping upgrade: six>=1.10.0 in /usr/local/lib/python3.6/dist-packages (from tensorflow) (1.12.0)\n",
            "Requirement already satisfied, skipping upgrade: protobuf>=3.6.1 in /usr/local/lib/python3.6/dist-packages (from tensorflow) (3.10.0)\n",
            "Requirement already satisfied, skipping upgrade: wrapt>=1.11.1 in /usr/local/lib/python3.6/dist-packages (from tensorflow) (1.11.2)\n",
            "Requirement already satisfied, skipping upgrade: absl-py>=0.7.0 in /usr/local/lib/python3.6/dist-packages (from tensorflow) (0.8.1)\n",
            "Requirement already satisfied, skipping upgrade: tensorflow-estimator<2.1.0,>=2.0.0 in /usr/local/lib/python3.6/dist-packages (from tensorflow) (2.0.1)\n",
            "Requirement already satisfied, skipping upgrade: astor>=0.6.0 in /usr/local/lib/python3.6/dist-packages (from tensorflow) (0.8.1)\n",
            "Requirement already satisfied, skipping upgrade: wheel>=0.26 in /usr/local/lib/python3.6/dist-packages (from tensorflow) (0.33.6)\n",
            "Requirement already satisfied, skipping upgrade: setuptools>=41.0.0 in /usr/local/lib/python3.6/dist-packages (from tensorboard<2.1.0,>=2.0.0->tensorflow) (42.0.2)\n",
            "Requirement already satisfied, skipping upgrade: google-auth<2,>=1.6.3 in /usr/local/lib/python3.6/dist-packages (from tensorboard<2.1.0,>=2.0.0->tensorflow) (1.9.0)\n",
            "Requirement already satisfied, skipping upgrade: markdown>=2.6.8 in /usr/local/lib/python3.6/dist-packages (from tensorboard<2.1.0,>=2.0.0->tensorflow) (3.1.1)\n",
            "Requirement already satisfied, skipping upgrade: google-auth-oauthlib<0.5,>=0.4.1 in /usr/local/lib/python3.6/dist-packages (from tensorboard<2.1.0,>=2.0.0->tensorflow) (0.4.1)\n",
            "Requirement already satisfied, skipping upgrade: werkzeug>=0.11.15 in /usr/local/lib/python3.6/dist-packages (from tensorboard<2.1.0,>=2.0.0->tensorflow) (0.16.0)\n",
            "Requirement already satisfied, skipping upgrade: requests<3,>=2.21.0 in /usr/local/lib/python3.6/dist-packages (from tensorboard<2.1.0,>=2.0.0->tensorflow) (2.21.0)\n",
            "Requirement already satisfied, skipping upgrade: h5py in /usr/local/lib/python3.6/dist-packages (from keras-applications>=1.0.8->tensorflow) (2.8.0)\n",
            "Requirement already satisfied, skipping upgrade: rsa<4.1,>=3.1.4 in /usr/local/lib/python3.6/dist-packages (from google-auth<2,>=1.6.3->tensorboard<2.1.0,>=2.0.0->tensorflow) (4.0)\n",
            "Requirement already satisfied, skipping upgrade: cachetools<3.2,>=2.0.0 in /usr/local/lib/python3.6/dist-packages (from google-auth<2,>=1.6.3->tensorboard<2.1.0,>=2.0.0->tensorflow) (3.1.1)\n",
            "Requirement already satisfied, skipping upgrade: pyasn1-modules>=0.2.1 in /usr/local/lib/python3.6/dist-packages (from google-auth<2,>=1.6.3->tensorboard<2.1.0,>=2.0.0->tensorflow) (0.2.7)\n",
            "Requirement already satisfied, skipping upgrade: requests-oauthlib>=0.7.0 in /usr/local/lib/python3.6/dist-packages (from google-auth-oauthlib<0.5,>=0.4.1->tensorboard<2.1.0,>=2.0.0->tensorflow) (1.3.0)\n",
            "Requirement already satisfied, skipping upgrade: chardet<3.1.0,>=3.0.2 in /usr/local/lib/python3.6/dist-packages (from requests<3,>=2.21.0->tensorboard<2.1.0,>=2.0.0->tensorflow) (3.0.4)\n",
            "Requirement already satisfied, skipping upgrade: urllib3<1.25,>=1.21.1 in /usr/local/lib/python3.6/dist-packages (from requests<3,>=2.21.0->tensorboard<2.1.0,>=2.0.0->tensorflow) (1.24.3)\n",
            "Requirement already satisfied, skipping upgrade: idna<2.9,>=2.5 in /usr/local/lib/python3.6/dist-packages (from requests<3,>=2.21.0->tensorboard<2.1.0,>=2.0.0->tensorflow) (2.8)\n",
            "Requirement already satisfied, skipping upgrade: certifi>=2017.4.17 in /usr/local/lib/python3.6/dist-packages (from requests<3,>=2.21.0->tensorboard<2.1.0,>=2.0.0->tensorflow) (2019.11.28)\n",
            "Requirement already satisfied, skipping upgrade: pyasn1>=0.1.3 in /usr/local/lib/python3.6/dist-packages (from rsa<4.1,>=3.1.4->google-auth<2,>=1.6.3->tensorboard<2.1.0,>=2.0.0->tensorflow) (0.4.8)\n",
            "Requirement already satisfied, skipping upgrade: oauthlib>=3.0.0 in /usr/local/lib/python3.6/dist-packages (from requests-oauthlib>=0.7.0->google-auth-oauthlib<0.5,>=0.4.1->tensorboard<2.1.0,>=2.0.0->tensorflow) (3.1.0)\n",
            "2.0.0\n"
          ],
          "name": "stdout"
        }
      ]
    },
    {
      "cell_type": "markdown",
      "metadata": {
        "id": "GeNRTzMZj456",
        "colab_type": "text"
      },
      "source": [
        "## Data preparation"
      ]
    },
    {
      "cell_type": "markdown",
      "metadata": {
        "id": "HGj9o6Mak2LC",
        "colab_type": "text"
      },
      "source": [
        "### Loading the dataset\n",
        "\n",
        "Loading the dataset and visualizing the first training sample"
      ]
    },
    {
      "cell_type": "code",
      "metadata": {
        "id": "Sog3RWOIb4ik",
        "colab_type": "code",
        "outputId": "81041298-cf62-4231-c75a-c5fe016982c6",
        "colab": {
          "base_uri": "https://localhost:8080/",
          "height": 566
        }
      },
      "source": [
        "(x_train, y_train), (x_test, y_test) = mnist.load_data()\n",
        "\n",
        "print(f'Train x shape: {x_train.shape}')\n",
        "print(f'Train y shape: {y_train.shape}')\n",
        "print(f'Test x shape: {x_test.shape}')\n",
        "print(f'Test y shape: {y_test.shape}')\n",
        "\n",
        "fig = plt.figure(figsize=(8,8))\n",
        "plt.imshow(x_train[0], cmap='gray')\n",
        "plt.title(y_train[0])\n",
        "plt.show()"
      ],
      "execution_count": 0,
      "outputs": [
        {
          "output_type": "stream",
          "text": [
            "Train x shape: (60000, 28, 28)\n",
            "Train y shape: (60000,)\n",
            "Test x shape: (10000, 28, 28)\n",
            "Test y shape: (10000,)\n"
          ],
          "name": "stdout"
        },
        {
          "output_type": "display_data",
          "data": {
            "image/png": "[encoded data removed]",
            "text/plain": [
              "<Figure size 576x576 with 1 Axes>"
            ]
          },
          "metadata": {
            "tags": []
          }
        }
      ]
    },
    {
      "cell_type": "markdown",
      "metadata": {
        "id": "5hTZONu0kxrU",
        "colab_type": "text"
      },
      "source": [
        "### Input normalisation and reshaping\n",
        "\n",
        "Neural networks work the best, if the inputs are normalised, because the weights do not have to take on extreme values. The imput needs to be reshaped, because the Conv2D layer requires a 4 dimensional input."
      ]
    },
    {
      "cell_type": "code",
      "metadata": {
        "id": "h6Sk6kKccJVR",
        "colab_type": "code",
        "outputId": "899c127c-23ef-4e65-f1b2-38a7b8e8859f",
        "colab": {
          "base_uri": "https://localhost:8080/",
          "height": 50
        }
      },
      "source": [
        "x_train_norm, x_test_norm,= x_train/255, x_test/255\n",
        "print(f'Min normalised train x: {np.min(x_train_norm)}')\n",
        "print(f'Max normalised train x: {np.max(x_train_norm)}')"
      ],
      "execution_count": 0,
      "outputs": [
        {
          "output_type": "stream",
          "text": [
            "Min normalised train x: 0.0\n",
            "Max normalised train x: 1.0\n"
          ],
          "name": "stdout"
        }
      ]
    },
    {
      "cell_type": "code",
      "metadata": {
        "id": "l8MrP2mvcOXV",
        "colab_type": "code",
        "outputId": "11d2934b-574a-4611-a617-abaa4abd09a2",
        "colab": {
          "base_uri": "https://localhost:8080/",
          "height": 34
        }
      },
      "source": [
        "x_train_norm, x_test_norm = x_train_norm[:, :, :, np.newaxis], x_test_norm[:, :, :, np.newaxis]\n",
        "print(f'New shape of training data: {x_train_norm.shape}')"
      ],
      "execution_count": 0,
      "outputs": [
        {
          "output_type": "stream",
          "text": [
            "New shape of training data: (60000, 28, 28, 1)\n"
          ],
          "name": "stdout"
        }
      ]
    },
    {
      "cell_type": "markdown",
      "metadata": {
        "id": "kbw8bHP6KDeQ",
        "colab_type": "text"
      },
      "source": [
        "## Feed forward autoencoder"
      ]
    },
    {
      "cell_type": "markdown",
      "metadata": {
        "id": "o2qsQUV0lQRD",
        "colab_type": "text"
      },
      "source": [
        "### Creating the model\n",
        "\n",
        "First lets define the bottleneck size. This determines the image compression factor. An input image of 28X28 has 784 pixels. A bottleneck of 32 is a 24.5 times compression.\n",
        "\n",
        "To create the encoder and decoder models, I am using the Model API. First I am defining the encoder, then the decoder. The autoencoder is defined by connecting the two networks. Because the models were defined on the same graph, If we train the autoencoder network, the encoder and decoder will be trained at the same time."
      ]
    },
    {
      "cell_type": "code",
      "metadata": {
        "id": "jtajRjYucVw5",
        "colab_type": "code",
        "outputId": "647ab0d8-4400-45de-c5e9-0ad7e5601e08",
        "colab": {
          "base_uri": "https://localhost:8080/",
          "height": 1000
        }
      },
      "source": [
        "encoding_dim = 32\n",
        "\n",
        "input_e = layers.Input((28, 28, 1))\n",
        "e = layers.Flatten()(input_e)\n",
        "e = layers.Dense(128, activation='relu')(e)\n",
        "output_e = layers.Dense(encoding_dim, activation='relu')(e)\n",
        "encoder = Model(input_e, output_e)\n",
        "encoder.summary()\n",
        "\n",
        "input_d = layers.Input((encoding_dim))\n",
        "d = layers.Dense(128, activation='relu')(input_d)\n",
        "d = layers.Dense(784, activation='sigmoid')(d)\n",
        "output_d = layers.Reshape((28, 28, 1))(d)\n",
        "decoder = Model(input_d, output_d)\n",
        "decoder.summary()\n",
        "\n",
        "autoencoder = Model(input_e, decoder(encoder(input_e)))\n",
        "autoencoder.summary()\n",
        "\n",
        "opt = optimizers.Adam(lr=0.01)\n",
        "autoencoder.compile(optimizer=opt,\n",
        "            loss='mse')\n",
        "\n",
        "history = autoencoder.fit(x_train_norm, x_train_norm, validation_data=(x_test_norm, x_test_norm), epochs=10, batch_size=256)\n"
      ],
      "execution_count": 0,
      "outputs": [
        {
          "output_type": "stream",
          "text": [
            "Model: \"model\"\n",
            "_________________________________________________________________\n",
            "Layer (type)                 Output Shape              Param #   \n",
            "=================================================================\n",
            "input_1 (InputLayer)         [(None, 28, 28, 1)]       0         \n",
            "_________________________________________________________________\n",
            "flatten (Flatten)            (None, 784)               0         \n",
            "_________________________________________________________________\n",
            "dense (Dense)                (None, 128)               100480    \n",
            "_________________________________________________________________\n",
            "dense_1 (Dense)              (None, 32)                4128      \n",
            "=================================================================\n",
            "Total params: 104,608\n",
            "Trainable params: 104,608\n",
            "Non-trainable params: 0\n",
            "_________________________________________________________________\n",
            "Model: \"model_1\"\n",
            "_________________________________________________________________\n",
            "Layer (type)                 Output Shape              Param #   \n",
            "=================================================================\n",
            "input_2 (InputLayer)         [(None, 32)]              0         \n",
            "_________________________________________________________________\n",
            "dense_2 (Dense)              (None, 128)               4224      \n",
            "_________________________________________________________________\n",
            "dense_3 (Dense)              (None, 784)               101136    \n",
            "_________________________________________________________________\n",
            "reshape (Reshape)            (None, 28, 28, 1)         0         \n",
            "=================================================================\n",
            "Total params: 105,360\n",
            "Trainable params: 105,360\n",
            "Non-trainable params: 0\n",
            "_________________________________________________________________\n",
            "Model: \"model_2\"\n",
            "_________________________________________________________________\n",
            "Layer (type)                 Output Shape              Param #   \n",
            "=================================================================\n",
            "input_1 (InputLayer)         [(None, 28, 28, 1)]       0         \n",
            "_________________________________________________________________\n",
            "model (Model)                (None, 32)                104608    \n",
            "_________________________________________________________________\n",
            "model_1 (Model)              (None, 28, 28, 1)         105360    \n",
            "=================================================================\n",
            "Total params: 209,968\n",
            "Trainable params: 209,968\n",
            "Non-trainable params: 0\n",
            "_________________________________________________________________\n",
            "Train on 60000 samples, validate on 10000 samples\n",
            "Epoch 1/10\n",
            "60000/60000 [==============================] - 3s 57us/sample - loss: 0.0390 - val_loss: 0.0242\n",
            "Epoch 2/10\n",
            "60000/60000 [==============================] - 3s 45us/sample - loss: 0.0220 - val_loss: 0.0202\n",
            "Epoch 3/10\n",
            "60000/60000 [==============================] - 3s 45us/sample - loss: 0.0198 - val_loss: 0.0189\n",
            "Epoch 4/10\n",
            "60000/60000 [==============================] - 3s 45us/sample - loss: 0.0188 - val_loss: 0.0182\n",
            "Epoch 5/10\n",
            "60000/60000 [==============================] - 3s 45us/sample - loss: 0.0181 - val_loss: 0.0177\n",
            "Epoch 6/10\n",
            "60000/60000 [==============================] - 3s 45us/sample - loss: 0.0176 - val_loss: 0.0173\n",
            "Epoch 7/10\n",
            "60000/60000 [==============================] - 3s 47us/sample - loss: 0.0173 - val_loss: 0.0167\n",
            "Epoch 8/10\n",
            "60000/60000 [==============================] - 3s 45us/sample - loss: 0.0170 - val_loss: 0.0167\n",
            "Epoch 9/10\n",
            "60000/60000 [==============================] - 3s 46us/sample - loss: 0.0168 - val_loss: 0.0165\n",
            "Epoch 10/10\n",
            "60000/60000 [==============================] - 3s 45us/sample - loss: 0.0166 - val_loss: 0.0163\n"
          ],
          "name": "stdout"
        }
      ]
    },
    {
      "cell_type": "markdown",
      "metadata": {
        "id": "nKAf_5WiKM3o",
        "colab_type": "text"
      },
      "source": [
        "### Visualizing the results\n",
        "\n",
        "I created 2 rows of 10 images. The first row contains the original images and the second the output of the model. Note, that the reconstructiuon is not perfect, some information was lost durring the compression."
      ]
    },
    {
      "cell_type": "code",
      "metadata": {
        "id": "h-u5u6smjZxs",
        "colab_type": "code",
        "outputId": "e67cc749-d43a-4fe1-e5d4-1d4d321085dc",
        "colab": {
          "base_uri": "https://localhost:8080/",
          "height": 265
        }
      },
      "source": [
        "decoded_imgs = autoencoder.predict(x_test_norm)\n",
        "print(x_test_norm[0].shape)\n",
        "\n",
        "plt.figure(figsize=(20,4))\n",
        "for i in range(10):\n",
        "    plt.subplot(2,10,i+1)\n",
        "    plt.xticks([])\n",
        "    plt.yticks([])\n",
        "    plt.imshow(x_test_norm[i][:, :, 0], cmap='gray')\n",
        "\n",
        "    plt.subplot(2,10,i+11)\n",
        "    plt.xticks([])\n",
        "    plt.yticks([])\n",
        "    plt.imshow(decoded_imgs[i][:, :, 0], cmap='gray')\n",
        "\n",
        "plt.show()"
      ],
      "execution_count": 0,
      "outputs": [
        {
          "output_type": "stream",
          "text": [
            "(28, 28, 1)\n"
          ],
          "name": "stdout"
        },
        {
          "output_type": "display_data",
          "data": {
            "image/png": "[encoded data removed]",
            "text/plain": [
              "<Figure size 1440x288 with 20 Axes>"
            ]
          },
          "metadata": {
            "tags": []
          }
        }
      ]
    },
    {
      "cell_type": "markdown",
      "metadata": {
        "id": "uuzfrGuhKg99",
        "colab_type": "text"
      },
      "source": [
        "## Concolutional autoencoder"
      ]
    },
    {
      "cell_type": "markdown",
      "metadata": {
        "id": "cHnJx-TyKkln",
        "colab_type": "text"
      },
      "source": [
        "### Creating the model\n",
        "\n",
        "The concolutional autoencoder is similiar to the feed forward autoencoder. The Conv2D and MaxPool layers can reduce the size of the image. In the decoder instead of the Conv2D, the Conv2DTranspose and instead of the MaxPooling2D, the UpSampling2D is used.\n"
      ]
    },
    {
      "cell_type": "code",
      "metadata": {
        "id": "WkH6ZYC5r1Dd",
        "colab_type": "code",
        "outputId": "581bd76c-57d8-419b-f7f6-df996ff3ef1d",
        "colab": {
          "base_uri": "https://localhost:8080/",
          "height": 1000
        }
      },
      "source": [
        "encoding_dim = 32\n",
        "\n",
        "input_e = layers.Input((28, 28, 1))\n",
        "e = layers.Conv2D(16, (3, 3), activation='relu',padding='same')(input_e)\n",
        "e = layers.MaxPooling2D(pool_size=(2, 2), padding='same')(e)\n",
        "e = layers.Conv2D(8, (3, 3), activation='relu', padding='same')(e)\n",
        "e = layers.MaxPooling2D(pool_size=(2, 2), padding='same')(e)\n",
        "e = layers.Flatten()(e)\n",
        "output_e = layers.Dense(encoding_dim, activation='relu')(e)\n",
        "encoder = Model(input_e, output_e)\n",
        "encoder.summary()\n",
        "\n",
        "input_d = layers.Input((encoding_dim))\n",
        "d = layers.Dense(392, activation='relu')(input_d)\n",
        "d = layers.Reshape((7, 7, 8))(d)\n",
        "d = layers.Conv2DTranspose(8, (3, 3), activation='relu', padding='same')(d)\n",
        "d = layers.UpSampling2D((2, 2))(d)\n",
        "d = layers.Conv2DTranspose(32, (3, 3), activation='relu', padding='same')(d)\n",
        "d = layers.UpSampling2D((2, 2))(d)\n",
        "output_d = layers.Conv2DTranspose(1, (3, 3), activation='sigmoid', padding='same')(d)\n",
        "decoder = Model(input_d, output_d)\n",
        "decoder.summary()\n",
        "\n",
        "autoencoder = Model(input_e, decoder(encoder(input_e)))\n",
        "autoencoder.summary()\n",
        "\n",
        "opt = optimizers.Adam(lr=0.001)\n",
        "autoencoder.compile(optimizer=opt,\n",
        "            loss='mse')\n",
        "\n",
        "history = autoencoder.fit(x_train_norm, x_train_norm, validation_data=(x_test_norm, x_test_norm), epochs=3, batch_size=32)"
      ],
      "execution_count": 0,
      "outputs": [
        {
          "output_type": "stream",
          "text": [
            "Model: \"model_12\"\n",
            "_________________________________________________________________\n",
            "Layer (type)                 Output Shape              Param #   \n",
            "=================================================================\n",
            "input_9 (InputLayer)         [(None, 28, 28, 1)]       0         \n",
            "_________________________________________________________________\n",
            "conv2d_5 (Conv2D)            (None, 28, 28, 16)        160       \n",
            "_________________________________________________________________\n",
            "max_pooling2d_2 (MaxPooling2 (None, 14, 14, 16)        0         \n",
            "_________________________________________________________________\n",
            "conv2d_6 (Conv2D)            (None, 14, 14, 8)         1160      \n",
            "_________________________________________________________________\n",
            "max_pooling2d_3 (MaxPooling2 (None, 7, 7, 8)           0         \n",
            "_________________________________________________________________\n",
            "flatten_4 (Flatten)          (None, 392)               0         \n",
            "_________________________________________________________________\n",
            "dense_14 (Dense)             (None, 32)                12576     \n",
            "=================================================================\n",
            "Total params: 13,896\n",
            "Trainable params: 13,896\n",
            "Non-trainable params: 0\n",
            "_________________________________________________________________\n",
            "Model: \"model_13\"\n",
            "_________________________________________________________________\n",
            "Layer (type)                 Output Shape              Param #   \n",
            "=================================================================\n",
            "input_10 (InputLayer)        [(None, 32)]              0         \n",
            "_________________________________________________________________\n",
            "dense_15 (Dense)             (None, 392)               12936     \n",
            "_________________________________________________________________\n",
            "reshape_4 (Reshape)          (None, 7, 7, 8)           0         \n",
            "_________________________________________________________________\n",
            "conv2d_transpose (Conv2DTran (None, 7, 7, 8)           584       \n",
            "_________________________________________________________________\n",
            "up_sampling2d_2 (UpSampling2 (None, 14, 14, 8)         0         \n",
            "_________________________________________________________________\n",
            "conv2d_transpose_1 (Conv2DTr (None, 14, 14, 32)        2336      \n",
            "_________________________________________________________________\n",
            "up_sampling2d_3 (UpSampling2 (None, 28, 28, 32)        0         \n",
            "_________________________________________________________________\n",
            "conv2d_transpose_2 (Conv2DTr (None, 28, 28, 1)         289       \n",
            "=================================================================\n",
            "Total params: 16,145\n",
            "Trainable params: 16,145\n",
            "Non-trainable params: 0\n",
            "_________________________________________________________________\n",
            "Model: \"model_14\"\n",
            "_________________________________________________________________\n",
            "Layer (type)                 Output Shape              Param #   \n",
            "=================================================================\n",
            "input_9 (InputLayer)         [(None, 28, 28, 1)]       0         \n",
            "_________________________________________________________________\n",
            "model_12 (Model)             (None, 32)                13896     \n",
            "_________________________________________________________________\n",
            "model_13 (Model)             (None, 28, 28, 1)         16145     \n",
            "=================================================================\n",
            "Total params: 30,041\n",
            "Trainable params: 30,041\n",
            "Non-trainable params: 0\n",
            "_________________________________________________________________\n",
            "Train on 60000 samples, validate on 10000 samples\n",
            "Epoch 1/3\n",
            "60000/60000 [==============================] - 81s 1ms/sample - loss: 0.0249 - val_loss: 0.0132\n",
            "Epoch 2/3\n",
            "60000/60000 [==============================] - 79s 1ms/sample - loss: 0.0114 - val_loss: 0.0100\n",
            "Epoch 3/3\n",
            "60000/60000 [==============================] - 79s 1ms/sample - loss: 0.0097 - val_loss: 0.0090\n"
          ],
          "name": "stdout"
        }
      ]
    },
    {
      "cell_type": "markdown",
      "metadata": {
        "id": "iavJTS-hL7Cc",
        "colab_type": "text"
      },
      "source": [
        "### Visualizing the results\n",
        "\n",
        "Same visualization as before."
      ]
    },
    {
      "cell_type": "code",
      "metadata": {
        "id": "wAh58t7XwnH2",
        "colab_type": "code",
        "outputId": "cd408683-83c3-4fa2-8a2d-badcc83917c9",
        "colab": {
          "base_uri": "https://localhost:8080/",
          "height": 265
        }
      },
      "source": [
        "decoded_imgs = autoencoder.predict(x_test_norm)\n",
        "print(x_test_norm[0].shape)\n",
        "\n",
        "plt.figure(figsize=(20,4))\n",
        "for i in range(10):\n",
        "    plt.subplot(2,10,i+1)\n",
        "    plt.xticks([])\n",
        "    plt.yticks([])\n",
        "    plt.imshow(x_test_norm[i][:, :, 0], cmap='gray')\n",
        "\n",
        "    plt.subplot(2,10,i+11)\n",
        "    plt.xticks([])\n",
        "    plt.yticks([])\n",
        "    plt.imshow(decoded_imgs[i][:, :, 0], cmap='gray')\n",
        "\n",
        "plt.show()"
      ],
      "execution_count": 0,
      "outputs": [
        {
          "output_type": "stream",
          "text": [
            "(28, 28, 1)\n"
          ],
          "name": "stdout"
        },
        {
          "output_type": "display_data",
          "data": {
            "image/png": "[encoded data removed]",
            "text/plain": [
              "<Figure size 1440x288 with 20 Axes>"
            ]
          },
          "metadata": {
            "tags": []
          }
        }
      ]
    },
    {
      "cell_type": "markdown",
      "metadata": {
        "id": "widK-NX3kOog",
        "colab_type": "text"
      },
      "source": [
        "## Image denoising\n",
        "\n",
        "An autoencoder can be used for image denoising by adding noise to the input image."
      ]
    },
    {
      "cell_type": "code",
      "metadata": {
        "id": "0KXAi7N36Fb7",
        "colab_type": "code",
        "colab": {}
      },
      "source": [
        "noise_factor = 0.1\n",
        "\n",
        "x_train_noisy = x_train_norm+np.random.normal(0, noise_factor, size=x_train_norm.shape) \n",
        "x_test_noisy = x_test_norm+np.random.normal(0, noise_factor, size=x_test_norm.shape) "
      ],
      "execution_count": 0,
      "outputs": []
    },
    {
      "cell_type": "code",
      "metadata": {
        "id": "8AXp_4GA5wp7",
        "colab_type": "code",
        "outputId": "6a307180-aba6-4012-cbc7-4a145d983de9",
        "colab": {
          "base_uri": "https://localhost:8080/",
          "height": 1000
        }
      },
      "source": [
        "encoding_dim = 32\n",
        "\n",
        "input_e = layers.Input((28, 28, 1))\n",
        "e = layers.Flatten()(input_e)\n",
        "e = layers.Dense(128, activation='relu')(e)\n",
        "output_e = layers.Dense(encoding_dim, activation='relu')(e)\n",
        "encoder = Model(input_e, output_e)\n",
        "encoder.summary()\n",
        "\n",
        "input_d = layers.Input((encoding_dim))\n",
        "d = layers.Dense(128, activation='relu')(input_d)\n",
        "d = layers.Dense(784, activation='sigmoid')(d)\n",
        "output_d = layers.Reshape((28, 28, 1))(d)\n",
        "decoder = Model(input_d, output_d)\n",
        "decoder.summary()\n",
        "\n",
        "autoencoder = Model(input_e, decoder(encoder(input_e)))\n",
        "autoencoder.summary()\n",
        "\n",
        "opt = optimizers.Adam(lr=0.01)\n",
        "autoencoder.compile(optimizer=opt,\n",
        "            loss='mse')\n",
        "\n",
        "history = autoencoder.fit(x_train_noisy, x_train_norm, validation_data=(x_test_noisy, x_test_norm), epochs=10, batch_size=256)\n"
      ],
      "execution_count": 0,
      "outputs": [
        {
          "output_type": "stream",
          "text": [
            "Model: \"model_6\"\n",
            "_________________________________________________________________\n",
            "Layer (type)                 Output Shape              Param #   \n",
            "=================================================================\n",
            "input_5 (InputLayer)         [(None, 28, 28, 1)]       0         \n",
            "_________________________________________________________________\n",
            "flatten_2 (Flatten)          (None, 784)               0         \n",
            "_________________________________________________________________\n",
            "dense_6 (Dense)              (None, 128)               100480    \n",
            "_________________________________________________________________\n",
            "dense_7 (Dense)              (None, 32)                4128      \n",
            "=================================================================\n",
            "Total params: 104,608\n",
            "Trainable params: 104,608\n",
            "Non-trainable params: 0\n",
            "_________________________________________________________________\n",
            "Model: \"model_7\"\n",
            "_________________________________________________________________\n",
            "Layer (type)                 Output Shape              Param #   \n",
            "=================================================================\n",
            "input_6 (InputLayer)         [(None, 32)]              0         \n",
            "_________________________________________________________________\n",
            "dense_8 (Dense)              (None, 128)               4224      \n",
            "_________________________________________________________________\n",
            "dense_9 (Dense)              (None, 784)               101136    \n",
            "_________________________________________________________________\n",
            "reshape_2 (Reshape)          (None, 28, 28, 1)         0         \n",
            "=================================================================\n",
            "Total params: 105,360\n",
            "Trainable params: 105,360\n",
            "Non-trainable params: 0\n",
            "_________________________________________________________________\n",
            "Model: \"model_8\"\n",
            "_________________________________________________________________\n",
            "Layer (type)                 Output Shape              Param #   \n",
            "=================================================================\n",
            "input_5 (InputLayer)         [(None, 28, 28, 1)]       0         \n",
            "_________________________________________________________________\n",
            "model_6 (Model)              (None, 32)                104608    \n",
            "_________________________________________________________________\n",
            "model_7 (Model)              (None, 28, 28, 1)         105360    \n",
            "=================================================================\n",
            "Total params: 209,968\n",
            "Trainable params: 209,968\n",
            "Non-trainable params: 0\n",
            "_________________________________________________________________\n",
            "Train on 60000 samples, validate on 10000 samples\n",
            "Epoch 1/10\n",
            "60000/60000 [==============================] - 3s 54us/sample - loss: 0.0355 - val_loss: 0.0189\n",
            "Epoch 2/10\n",
            "60000/60000 [==============================] - 3s 44us/sample - loss: 0.0173 - val_loss: 0.0157\n",
            "Epoch 3/10\n",
            "60000/60000 [==============================] - 3s 43us/sample - loss: 0.0147 - val_loss: 0.0138\n",
            "Epoch 4/10\n",
            "60000/60000 [==============================] - 3s 43us/sample - loss: 0.0136 - val_loss: 0.0134\n",
            "Epoch 5/10\n",
            "60000/60000 [==============================] - 3s 43us/sample - loss: 0.0130 - val_loss: 0.0128\n",
            "Epoch 6/10\n",
            "60000/60000 [==============================] - 3s 43us/sample - loss: 0.0125 - val_loss: 0.0124\n",
            "Epoch 7/10\n",
            "60000/60000 [==============================] - 3s 44us/sample - loss: 0.0122 - val_loss: 0.0120\n",
            "Epoch 8/10\n",
            "60000/60000 [==============================] - 3s 44us/sample - loss: 0.0119 - val_loss: 0.0119\n",
            "Epoch 9/10\n",
            "60000/60000 [==============================] - 3s 43us/sample - loss: 0.0118 - val_loss: 0.0117\n",
            "Epoch 10/10\n",
            "60000/60000 [==============================] - 3s 45us/sample - loss: 0.0116 - val_loss: 0.0113\n"
          ],
          "name": "stdout"
        }
      ]
    },
    {
      "cell_type": "code",
      "metadata": {
        "id": "Ea3SKyWW50VE",
        "colab_type": "code",
        "outputId": "382e0f22-9802-4cdc-a283-813308e37152",
        "colab": {
          "base_uri": "https://localhost:8080/",
          "height": 376
        }
      },
      "source": [
        "decoded_imgs = autoencoder.predict(x_test_noisy)\n",
        "print(x_test_noisy[0].shape)\n",
        "\n",
        "plt.figure(figsize=(20,6))\n",
        "for i in range(10):\n",
        "    plt.subplot(3,10,i+1)\n",
        "    plt.xticks([])\n",
        "    plt.yticks([])\n",
        "    plt.imshow(x_test_norm[i][:, :, 0], cmap='gray')\n",
        "\n",
        "    plt.subplot(3,10,i+11)\n",
        "    plt.xticks([])\n",
        "    plt.yticks([])\n",
        "    plt.imshow(x_test_noisy[i][:, :, 0], cmap='gray')\n",
        "\n",
        "    plt.subplot(3,10,i+21)\n",
        "    plt.xticks([])\n",
        "    plt.yticks([])\n",
        "    plt.imshow(decoded_imgs[i][:, :, 0], cmap='gray')\n",
        "\n",
        "plt.show()"
      ],
      "execution_count": 0,
      "outputs": [
        {
          "output_type": "stream",
          "text": [
            "(28, 28, 1)\n"
          ],
          "name": "stdout"
        },
        {
          "output_type": "display_data",
          "data": {
            "image/png": "[encoded data removed]",
            "text/plain": [
              "<Figure size 1440x432 with 30 Axes>"
            ]
          },
          "metadata": {
            "tags": []
          }
        }
      ]
    },
    {
      "cell_type": "markdown",
      "metadata": {
        "id": "pDsNO4_ckqcn",
        "colab_type": "text"
      },
      "source": [
        "## Image completion\n",
        "\n",
        "In the following example I am showing, how autoencoders can be used for image completion. First a mask needs to be applied to the image. The input of the autoencoder is the masked image and the output the content of the outmasked region."
      ]
    },
    {
      "cell_type": "code",
      "metadata": {
        "id": "dSYORinG8EdS",
        "colab_type": "code",
        "colab": {}
      },
      "source": [
        "mask_size = [12, 12]\n",
        "\n",
        "x_train_masked = x_train_norm.copy()\n",
        "y_train_masked = np.zeros((x_train_norm.shape[0], mask_size[0], mask_size[1], 1))\n",
        "for i in range(x_train_norm.shape[0]):\n",
        "    mask_loc = [np.random.randint(0, x_train_norm.shape[1]-mask_size[0]), np.random.randint(0, x_train_norm.shape[2]-mask_size[1])]\n",
        "    y_train_masked[i] = x_train_masked[i, mask_loc[0]:mask_loc[0]+mask_size[0], mask_loc[1]:mask_loc[1]+mask_size[1]]\n",
        "    x_train_masked[i, mask_loc[0]:mask_loc[0]+mask_size[0], mask_loc[1]:mask_loc[1]+mask_size[1]] = -1 \n",
        "\n",
        "x_test_masked = x_test_norm.copy()\n",
        "y_test_masked = np.zeros((x_test_norm.shape[0], mask_size[0], mask_size[1], 1))\n",
        "for i in range(x_test_norm.shape[0]):\n",
        "    mask_loc = [np.random.randint(0, x_test_masked.shape[1]-mask_size[0]), np.random.randint(0, x_test_masked.shape[2]-mask_size[1])]\n",
        "    y_test_masked[i] = x_test_masked[i, mask_loc[0]:mask_loc[0]+mask_size[0], mask_loc[1]:mask_loc[1]+mask_size[1]]\n",
        "    x_test_masked[i, mask_loc[0]:mask_loc[0]+mask_size[0], mask_loc[1]:mask_loc[1]+mask_size[1]] = -1 "
      ],
      "execution_count": 0,
      "outputs": []
    },
    {
      "cell_type": "code",
      "metadata": {
        "id": "7mBjzeNw8Bqd",
        "colab_type": "code",
        "outputId": "9161cb75-7582-4a44-e648-25590751ae23",
        "colab": {
          "base_uri": "https://localhost:8080/",
          "height": 1000
        }
      },
      "source": [
        "encoding_dim = 32\n",
        "\n",
        "input_e = layers.Input((28, 28, 1))\n",
        "e = layers.Flatten()(input_e)\n",
        "e = layers.Dense(128, activation='relu')(e)\n",
        "output_e = layers.Dense(encoding_dim, activation='relu')(e)\n",
        "encoder = Model(input_e, output_e)\n",
        "encoder.summary()\n",
        "\n",
        "input_d = layers.Input((encoding_dim))\n",
        "d = layers.Dense(128, activation='relu')(input_d)\n",
        "d = layers.Dense(mask_size[0]*mask_size[1], activation='sigmoid')(d)\n",
        "output_d = layers.Reshape((mask_size[0], mask_size[1], 1))(d)\n",
        "decoder = Model(input_d, output_d)\n",
        "decoder.summary()\n",
        "\n",
        "autoencoder = Model(input_e, decoder(encoder(input_e)))\n",
        "autoencoder.summary()\n",
        "\n",
        "opt = optimizers.Adam(lr=0.01)\n",
        "autoencoder.compile(optimizer=opt,\n",
        "            loss='mse')\n",
        "\n",
        "history = autoencoder.fit(x_train_masked, y_train_masked, validation_data=(x_test_masked, y_test_masked), epochs=10, batch_size=256)\n"
      ],
      "execution_count": 0,
      "outputs": [
        {
          "output_type": "stream",
          "text": [
            "Model: \"model_9\"\n",
            "_________________________________________________________________\n",
            "Layer (type)                 Output Shape              Param #   \n",
            "=================================================================\n",
            "input_7 (InputLayer)         [(None, 28, 28, 1)]       0         \n",
            "_________________________________________________________________\n",
            "flatten_3 (Flatten)          (None, 784)               0         \n",
            "_________________________________________________________________\n",
            "dense_10 (Dense)             (None, 128)               100480    \n",
            "_________________________________________________________________\n",
            "dense_11 (Dense)             (None, 32)                4128      \n",
            "=================================================================\n",
            "Total params: 104,608\n",
            "Trainable params: 104,608\n",
            "Non-trainable params: 0\n",
            "_________________________________________________________________\n",
            "Model: \"model_10\"\n",
            "_________________________________________________________________\n",
            "Layer (type)                 Output Shape              Param #   \n",
            "=================================================================\n",
            "input_8 (InputLayer)         [(None, 32)]              0         \n",
            "_________________________________________________________________\n",
            "dense_12 (Dense)             (None, 128)               4224      \n",
            "_________________________________________________________________\n",
            "dense_13 (Dense)             (None, 144)               18576     \n",
            "_________________________________________________________________\n",
            "reshape_3 (Reshape)          (None, 12, 12, 1)         0         \n",
            "=================================================================\n",
            "Total params: 22,800\n",
            "Trainable params: 22,800\n",
            "Non-trainable params: 0\n",
            "_________________________________________________________________\n",
            "Model: \"model_11\"\n",
            "_________________________________________________________________\n",
            "Layer (type)                 Output Shape              Param #   \n",
            "=================================================================\n",
            "input_7 (InputLayer)         [(None, 28, 28, 1)]       0         \n",
            "_________________________________________________________________\n",
            "model_9 (Model)              (None, 32)                104608    \n",
            "_________________________________________________________________\n",
            "model_10 (Model)             (None, 12, 12, 1)         22800     \n",
            "=================================================================\n",
            "Total params: 127,408\n",
            "Trainable params: 127,408\n",
            "Non-trainable params: 0\n",
            "_________________________________________________________________\n",
            "Train on 60000 samples, validate on 10000 samples\n",
            "Epoch 1/10\n",
            "60000/60000 [==============================] - 2s 38us/sample - loss: 0.1157 - val_loss: 0.1089\n",
            "Epoch 2/10\n",
            "60000/60000 [==============================] - 2s 29us/sample - loss: 0.1032 - val_loss: 0.1028\n",
            "Epoch 3/10\n",
            "60000/60000 [==============================] - 2s 28us/sample - loss: 0.0985 - val_loss: 0.0995\n",
            "Epoch 4/10\n",
            "60000/60000 [==============================] - 2s 27us/sample - loss: 0.0958 - val_loss: 0.0968\n",
            "Epoch 5/10\n",
            "60000/60000 [==============================] - 2s 28us/sample - loss: 0.0938 - val_loss: 0.0969\n",
            "Epoch 6/10\n",
            "60000/60000 [==============================] - 2s 29us/sample - loss: 0.0922 - val_loss: 0.0957\n",
            "Epoch 7/10\n",
            "60000/60000 [==============================] - 2s 27us/sample - loss: 0.0906 - val_loss: 0.0937\n",
            "Epoch 8/10\n",
            "60000/60000 [==============================] - 2s 28us/sample - loss: 0.0895 - val_loss: 0.0937\n",
            "Epoch 9/10\n",
            "60000/60000 [==============================] - 2s 27us/sample - loss: 0.0890 - val_loss: 0.0926\n",
            "Epoch 10/10\n",
            "60000/60000 [==============================] - 2s 29us/sample - loss: 0.0883 - val_loss: 0.0923\n"
          ],
          "name": "stdout"
        }
      ]
    },
    {
      "cell_type": "code",
      "metadata": {
        "id": "ivXVfgKD8DY7",
        "colab_type": "code",
        "outputId": "4f8b9672-59af-4414-cf46-082fc23f328c",
        "colab": {
          "base_uri": "https://localhost:8080/",
          "height": 376
        }
      },
      "source": [
        "decoded_imgs = autoencoder.predict(x_test_masked)\n",
        "x_test_masked_vis = x_test_masked.copy()\n",
        "x_test_masked_vis[x_test_masked_vis==-1] = 1\n",
        "x_test_masked_vis_res = x_test_masked.copy()\n",
        "x_test_masked_vis_res[x_test_masked_vis_res==-1] = decoded_imgs.flatten()\n",
        "print(x_test_norm[0].shape)\n",
        "\n",
        "plt.figure(figsize=(20,6))\n",
        "for i in range(10):\n",
        "    plt.subplot(3,10,i+1)\n",
        "    plt.xticks([])\n",
        "    plt.yticks([])\n",
        "    plt.imshow(x_test_norm[i][:, :, 0], cmap='gray')\n",
        "\n",
        "    plt.subplot(3,10,i+11)\n",
        "    plt.xticks([])\n",
        "    plt.yticks([])\n",
        "    plt.imshow(x_test_masked_vis[i][:, :, 0], cmap='gray')\n",
        "\n",
        "    plt.subplot(3,10,i+21)\n",
        "    plt.xticks([])\n",
        "    plt.yticks([])\n",
        "    plt.imshow(x_test_masked_vis_res[i][:, :, 0], cmap='gray')\n",
        "\n",
        "plt.show()"
      ],
      "execution_count": 0,
      "outputs": [
        {
          "output_type": "stream",
          "text": [
            "(28, 28, 1)\n"
          ],
          "name": "stdout"
        },
        {
          "output_type": "display_data",
          "data": {
            "image/png": "[encoded data removed]",
            "text/plain": [
              "<Figure size 1440x432 with 30 Axes>"
            ]
          },
          "metadata": {
            "tags": []
          }
        }
      ]
    },
    {
      "cell_type": "markdown",
      "metadata": {
        "id": "I_ewp2wXlMve",
        "colab_type": "text"
      },
      "source": [
        "The autoencoder was somewhat able to learn to complete the image. In some cases the edges of the outmasked area can be clearly seen. Maybe a better method would be to give the whole image as the output of the autoencoder."
      ]
    }
  ]
}