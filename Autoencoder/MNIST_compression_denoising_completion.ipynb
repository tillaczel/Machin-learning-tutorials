{
  "nbformat": 4,
  "nbformat_minor": 0,
  "metadata": {
    "colab": {
      "name": "MNIST compression denoising completion.ipynb",
      "provenance": [],
      "collapsed_sections": [],
      "include_colab_link": true
    },
    "kernelspec": {
      "name": "python3",
      "display_name": "Python 3"
    },
    "accelerator": "GPU"
  },
  "cells": [
    {
      "cell_type": "markdown",
      "metadata": {
        "id": "view-in-github",
        "colab_type": "text"
      },
      "source": [
        "<a href=\"https://colab.research.google.com/github/tillaczel/Machine-learning-workshop/blob/master/Autoencoder/MNIST_compression_denoising_completion.ipynb\" target=\"_parent\"><img src=\"https://colab.research.google.com/assets/colab-badge.svg\" alt=\"Open In Colab\"/></a>"
      ]
    },
    {
      "cell_type": "markdown",
      "metadata": {
        "id": "AvW0Z1RYjyxe",
        "colab_type": "text"
      },
      "source": [
        "# Autoencoder MNIST\n",
        "\n",
        "An autoencoder transforms the input into a reduced representation and converts it back to the input. It can be used for image compression, image denoising, super resolution, night sight, etc. To read more about autoencoders go to (https://blog.keras.io/building-autoencoders-in-keras.html).\n",
        "\n",
        "\n"
      ]
    },
    {
      "cell_type": "markdown",
      "metadata": {
        "id": "uX3cep4ZknpE",
        "colab_type": "text"
      },
      "source": [
        "## Importing libraries"
      ]
    },
    {
      "cell_type": "code",
      "metadata": {
        "id": "LBipAWt8bMhI",
        "colab_type": "code",
        "outputId": "815142b8-2fe6-46be-f6c9-856ca3b2e663",
        "colab": {
          "base_uri": "https://localhost:8080/",
          "height": 642
        }
      },
      "source": [
        "!pip install tensorflow --upgrade\n",
        "import tensorflow as tf\n",
        "print(tf.__version__)\n",
        "\n",
        "from tensorflow.keras import layers\n",
        "from tensorflow.keras.models import Model\n",
        "from tensorflow.keras import optimizers\n",
        "from tensorflow.keras.datasets import mnist\n",
        "import numpy as np\n",
        "import matplotlib.pyplot as plt"
      ],
      "execution_count": 21,
      "outputs": [
        {
          "output_type": "stream",
          "text": [
            "Requirement already up-to-date: tensorflow in /usr/local/lib/python3.6/dist-packages (2.1.0)\n",
            "Requirement already satisfied, skipping upgrade: wrapt>=1.11.1 in /usr/local/lib/python3.6/dist-packages (from tensorflow) (1.11.2)\n",
            "Requirement already satisfied, skipping upgrade: protobuf>=3.8.0 in /usr/local/lib/python3.6/dist-packages (from tensorflow) (3.10.0)\n",
            "Requirement already satisfied, skipping upgrade: astor>=0.6.0 in /usr/local/lib/python3.6/dist-packages (from tensorflow) (0.8.1)\n",
            "Requirement already satisfied, skipping upgrade: google-pasta>=0.1.6 in /usr/local/lib/python3.6/dist-packages (from tensorflow) (0.1.8)\n",
            "Requirement already satisfied, skipping upgrade: six>=1.12.0 in /usr/local/lib/python3.6/dist-packages (from tensorflow) (1.12.0)\n",
            "Requirement already satisfied, skipping upgrade: gast==0.2.2 in /usr/local/lib/python3.6/dist-packages (from tensorflow) (0.2.2)\n",
            "Requirement already satisfied, skipping upgrade: absl-py>=0.7.0 in /usr/local/lib/python3.6/dist-packages (from tensorflow) (0.9.0)\n",
            "Requirement already satisfied, skipping upgrade: keras-preprocessing>=1.1.0 in /usr/local/lib/python3.6/dist-packages (from tensorflow) (1.1.0)\n",
            "Requirement already satisfied, skipping upgrade: termcolor>=1.1.0 in /usr/local/lib/python3.6/dist-packages (from tensorflow) (1.1.0)\n",
            "Requirement already satisfied, skipping upgrade: tensorflow-estimator<2.2.0,>=2.1.0rc0 in /usr/local/lib/python3.6/dist-packages (from tensorflow) (2.1.0)\n",
            "Requirement already satisfied, skipping upgrade: grpcio>=1.8.6 in /usr/local/lib/python3.6/dist-packages (from tensorflow) (1.27.1)\n",
            "Requirement already satisfied, skipping upgrade: wheel>=0.26; python_version >= \"3\" in /usr/local/lib/python3.6/dist-packages (from tensorflow) (0.34.2)\n",
            "Requirement already satisfied, skipping upgrade: keras-applications>=1.0.8 in /usr/local/lib/python3.6/dist-packages (from tensorflow) (1.0.8)\n",
            "Requirement already satisfied, skipping upgrade: numpy<2.0,>=1.16.0 in /usr/local/lib/python3.6/dist-packages (from tensorflow) (1.17.5)\n",
            "Requirement already satisfied, skipping upgrade: scipy==1.4.1; python_version >= \"3\" in /usr/local/lib/python3.6/dist-packages (from tensorflow) (1.4.1)\n",
            "Requirement already satisfied, skipping upgrade: opt-einsum>=2.3.2 in /usr/local/lib/python3.6/dist-packages (from tensorflow) (3.1.0)\n",
            "Requirement already satisfied, skipping upgrade: tensorboard<2.2.0,>=2.1.0 in /usr/local/lib/python3.6/dist-packages (from tensorflow) (2.1.1)\n",
            "Requirement already satisfied, skipping upgrade: setuptools in /usr/local/lib/python3.6/dist-packages (from protobuf>=3.8.0->tensorflow) (45.2.0)\n",
            "Requirement already satisfied, skipping upgrade: h5py in /usr/local/lib/python3.6/dist-packages (from keras-applications>=1.0.8->tensorflow) (2.8.0)\n",
            "Requirement already satisfied, skipping upgrade: google-auth-oauthlib<0.5,>=0.4.1 in /usr/local/lib/python3.6/dist-packages (from tensorboard<2.2.0,>=2.1.0->tensorflow) (0.4.1)\n",
            "Requirement already satisfied, skipping upgrade: markdown>=2.6.8 in /usr/local/lib/python3.6/dist-packages (from tensorboard<2.2.0,>=2.1.0->tensorflow) (3.2.1)\n",
            "Requirement already satisfied, skipping upgrade: requests<3,>=2.21.0 in /usr/local/lib/python3.6/dist-packages (from tensorboard<2.2.0,>=2.1.0->tensorflow) (2.21.0)\n",
            "Requirement already satisfied, skipping upgrade: google-auth<2,>=1.6.3 in /usr/local/lib/python3.6/dist-packages (from tensorboard<2.2.0,>=2.1.0->tensorflow) (1.7.2)\n",
            "Requirement already satisfied, skipping upgrade: werkzeug>=0.11.15 in /usr/local/lib/python3.6/dist-packages (from tensorboard<2.2.0,>=2.1.0->tensorflow) (1.0.0)\n",
            "Requirement already satisfied, skipping upgrade: requests-oauthlib>=0.7.0 in /usr/local/lib/python3.6/dist-packages (from google-auth-oauthlib<0.5,>=0.4.1->tensorboard<2.2.0,>=2.1.0->tensorflow) (1.3.0)\n",
            "Requirement already satisfied, skipping upgrade: chardet<3.1.0,>=3.0.2 in /usr/local/lib/python3.6/dist-packages (from requests<3,>=2.21.0->tensorboard<2.2.0,>=2.1.0->tensorflow) (3.0.4)\n",
            "Requirement already satisfied, skipping upgrade: urllib3<1.25,>=1.21.1 in /usr/local/lib/python3.6/dist-packages (from requests<3,>=2.21.0->tensorboard<2.2.0,>=2.1.0->tensorflow) (1.24.3)\n",
            "Requirement already satisfied, skipping upgrade: idna<2.9,>=2.5 in /usr/local/lib/python3.6/dist-packages (from requests<3,>=2.21.0->tensorboard<2.2.0,>=2.1.0->tensorflow) (2.8)\n",
            "Requirement already satisfied, skipping upgrade: certifi>=2017.4.17 in /usr/local/lib/python3.6/dist-packages (from requests<3,>=2.21.0->tensorboard<2.2.0,>=2.1.0->tensorflow) (2019.11.28)\n",
            "Requirement already satisfied, skipping upgrade: cachetools<3.2,>=2.0.0 in /usr/local/lib/python3.6/dist-packages (from google-auth<2,>=1.6.3->tensorboard<2.2.0,>=2.1.0->tensorflow) (3.1.1)\n",
            "Requirement already satisfied, skipping upgrade: pyasn1-modules>=0.2.1 in /usr/local/lib/python3.6/dist-packages (from google-auth<2,>=1.6.3->tensorboard<2.2.0,>=2.1.0->tensorflow) (0.2.8)\n",
            "Requirement already satisfied, skipping upgrade: rsa<4.1,>=3.1.4 in /usr/local/lib/python3.6/dist-packages (from google-auth<2,>=1.6.3->tensorboard<2.2.0,>=2.1.0->tensorflow) (4.0)\n",
            "Requirement already satisfied, skipping upgrade: oauthlib>=3.0.0 in /usr/local/lib/python3.6/dist-packages (from requests-oauthlib>=0.7.0->google-auth-oauthlib<0.5,>=0.4.1->tensorboard<2.2.0,>=2.1.0->tensorflow) (3.1.0)\n",
            "Requirement already satisfied, skipping upgrade: pyasn1<0.5.0,>=0.4.6 in /usr/local/lib/python3.6/dist-packages (from pyasn1-modules>=0.2.1->google-auth<2,>=1.6.3->tensorboard<2.2.0,>=2.1.0->tensorflow) (0.4.8)\n",
            "2.1.0\n"
          ],
          "name": "stdout"
        }
      ]
    },
    {
      "cell_type": "markdown",
      "metadata": {
        "id": "GeNRTzMZj456",
        "colab_type": "text"
      },
      "source": [
        "## Data preparation"
      ]
    },
    {
      "cell_type": "markdown",
      "metadata": {
        "id": "HGj9o6Mak2LC",
        "colab_type": "text"
      },
      "source": [
        "### Loading the dataset\n",
        "\n",
        "Loading the dataset and visualizing the first training sample"
      ]
    },
    {
      "cell_type": "code",
      "metadata": {
        "id": "Sog3RWOIb4ik",
        "colab_type": "code",
        "outputId": "74ec10c1-05f6-45e7-d8cb-321c06ebb348",
        "colab": {
          "base_uri": "https://localhost:8080/",
          "height": 566
        }
      },
      "source": [
        "(x_train, y_train), (x_test, y_test) = mnist.load_data()\n",
        "\n",
        "print(f'Train x shape: {x_train.shape}')\n",
        "print(f'Train y shape: {y_train.shape}')\n",
        "print(f'Test x shape: {x_test.shape}')\n",
        "print(f'Test y shape: {y_test.shape}')\n",
        "\n",
        "fig = plt.figure(figsize=(8,8))\n",
        "plt.imshow(x_train[0], cmap='gray')\n",
        "plt.title(y_train[0])\n",
        "plt.show()"
      ],
      "execution_count": 22,
      "outputs": [
        {
          "output_type": "stream",
          "text": [
            "Train x shape: (60000, 28, 28)\n",
            "Train y shape: (60000,)\n",
            "Test x shape: (10000, 28, 28)\n",
            "Test y shape: (10000,)\n"
          ],
          "name": "stdout"
        },
        {
          "output_type": "display_data",
          "data": {
            "image/png": "[encoded data removed]",
            "text/plain": [
              "<Figure size 576x576 with 1 Axes>"
            ]
          },
          "metadata": {
            "tags": []
          }
        }
      ]
    },
    {
      "cell_type": "markdown",
      "metadata": {
        "id": "5hTZONu0kxrU",
        "colab_type": "text"
      },
      "source": [
        "### Input normalisation and reshaping\n",
        "\n",
        "Neural networks work the best, if the inputs are normalised, because the weights do not have to take on extreme values. The imput needs to be reshaped, because the Conv2D layer requires a 4 dimensional input."
      ]
    },
    {
      "cell_type": "code",
      "metadata": {
        "id": "h6Sk6kKccJVR",
        "colab_type": "code",
        "outputId": "e33190ca-99d2-49d6-dc19-85752868c909",
        "colab": {
          "base_uri": "https://localhost:8080/",
          "height": 50
        }
      },
      "source": [
        "x_train_norm, x_test_norm,= x_train/255, x_test/255\n",
        "print(f'Min normalised train x: {np.min(x_train_norm)}')\n",
        "print(f'Max normalised train x: {np.max(x_train_norm)}')"
      ],
      "execution_count": 23,
      "outputs": [
        {
          "output_type": "stream",
          "text": [
            "Min normalised train x: 0.0\n",
            "Max normalised train x: 1.0\n"
          ],
          "name": "stdout"
        }
      ]
    },
    {
      "cell_type": "code",
      "metadata": {
        "id": "l8MrP2mvcOXV",
        "colab_type": "code",
        "outputId": "7aadec9e-b088-40f0-9ccf-1c61289c183b",
        "colab": {
          "base_uri": "https://localhost:8080/",
          "height": 34
        }
      },
      "source": [
        "x_train_norm, x_test_norm = x_train_norm[:, :, :, np.newaxis], x_test_norm[:, :, :, np.newaxis]\n",
        "print(f'New shape of training data: {x_train_norm.shape}')"
      ],
      "execution_count": 24,
      "outputs": [
        {
          "output_type": "stream",
          "text": [
            "New shape of training data: (60000, 28, 28, 1)\n"
          ],
          "name": "stdout"
        }
      ]
    },
    {
      "cell_type": "markdown",
      "metadata": {
        "id": "kbw8bHP6KDeQ",
        "colab_type": "text"
      },
      "source": [
        "## Feed forward autoencoder"
      ]
    },
    {
      "cell_type": "markdown",
      "metadata": {
        "id": "o2qsQUV0lQRD",
        "colab_type": "text"
      },
      "source": [
        "### Creating the model\n",
        "\n",
        "First lets define the bottleneck size. This determines the image compression factor. An input image of 28X28 has 784 pixels. A bottleneck of 32 is a 24.5 times compression.\n",
        "\n",
        "To create the encoder and decoder models, I am using the Model API. First I am defining the encoder, then the decoder. The autoencoder is defined by connecting the two networks. Because the models were defined on the same graph, If we train the autoencoder network, the encoder and decoder will be trained at the same time."
      ]
    },
    {
      "cell_type": "code",
      "metadata": {
        "id": "jtajRjYucVw5",
        "colab_type": "code",
        "outputId": "2d83a32a-92bc-45de-c612-e9877431292f",
        "colab": {
          "base_uri": "https://localhost:8080/",
          "height": 1000
        }
      },
      "source": [
        "encoding_dim = 32\n",
        "\n",
        "input_e = layers.Input((28, 28, 1))\n",
        "e = layers.Flatten()(input_e)\n",
        "e = layers.Dense(128, activation='relu')(e)\n",
        "output_e = layers.Dense(encoding_dim, activation='relu')(e)\n",
        "encoder = Model(input_e, output_e)\n",
        "encoder.summary()\n",
        "\n",
        "input_d = layers.Input((encoding_dim))\n",
        "d = layers.Dense(128, activation='relu')(input_d)\n",
        "d = layers.Dense(784, activation='sigmoid')(d)\n",
        "output_d = layers.Reshape((28, 28, 1))(d)\n",
        "decoder = Model(input_d, output_d)\n",
        "decoder.summary()\n",
        "\n",
        "autoencoder = Model(input_e, decoder(encoder(input_e)))\n",
        "autoencoder.summary()\n",
        "\n",
        "opt = optimizers.Adam(lr=0.01)\n",
        "autoencoder.compile(optimizer=opt,\n",
        "            loss='mse')\n",
        "\n",
        "history = autoencoder.fit(x_train_norm, x_train_norm, validation_data=(x_test_norm, x_test_norm), epochs=30, batch_size=256)\n"
      ],
      "execution_count": 25,
      "outputs": [
        {
          "output_type": "stream",
          "text": [
            "Model: \"model_18\"\n",
            "_________________________________________________________________\n",
            "Layer (type)                 Output Shape              Param #   \n",
            "=================================================================\n",
            "input_13 (InputLayer)        [(None, 28, 28, 1)]       0         \n",
            "_________________________________________________________________\n",
            "flatten_6 (Flatten)          (None, 784)               0         \n",
            "_________________________________________________________________\n",
            "dense_22 (Dense)             (None, 128)               100480    \n",
            "_________________________________________________________________\n",
            "dense_23 (Dense)             (None, 32)                4128      \n",
            "=================================================================\n",
            "Total params: 104,608\n",
            "Trainable params: 104,608\n",
            "Non-trainable params: 0\n",
            "_________________________________________________________________\n",
            "Model: \"model_19\"\n",
            "_________________________________________________________________\n",
            "Layer (type)                 Output Shape              Param #   \n",
            "=================================================================\n",
            "input_14 (InputLayer)        [(None, 32)]              0         \n",
            "_________________________________________________________________\n",
            "dense_24 (Dense)             (None, 128)               4224      \n",
            "_________________________________________________________________\n",
            "dense_25 (Dense)             (None, 784)               101136    \n",
            "_________________________________________________________________\n",
            "reshape_6 (Reshape)          (None, 28, 28, 1)         0         \n",
            "=================================================================\n",
            "Total params: 105,360\n",
            "Trainable params: 105,360\n",
            "Non-trainable params: 0\n",
            "_________________________________________________________________\n",
            "Model: \"model_20\"\n",
            "_________________________________________________________________\n",
            "Layer (type)                 Output Shape              Param #   \n",
            "=================================================================\n",
            "input_13 (InputLayer)        [(None, 28, 28, 1)]       0         \n",
            "_________________________________________________________________\n",
            "model_18 (Model)             (None, 32)                104608    \n",
            "_________________________________________________________________\n",
            "model_19 (Model)             (None, 28, 28, 1)         105360    \n",
            "=================================================================\n",
            "Total params: 209,968\n",
            "Trainable params: 209,968\n",
            "Non-trainable params: 0\n",
            "_________________________________________________________________\n",
            "Train on 60000 samples, validate on 10000 samples\n",
            "Epoch 1/30\n",
            "60000/60000 [==============================] - 1s 24us/sample - loss: 0.0386 - val_loss: 0.0235\n",
            "Epoch 2/30\n",
            "60000/60000 [==============================] - 1s 18us/sample - loss: 0.0215 - val_loss: 0.0192\n",
            "Epoch 3/30\n",
            "60000/60000 [==============================] - 1s 17us/sample - loss: 0.0189 - val_loss: 0.0179\n",
            "Epoch 4/30\n",
            "60000/60000 [==============================] - 1s 18us/sample - loss: 0.0177 - val_loss: 0.0171\n",
            "Epoch 5/30\n",
            "60000/60000 [==============================] - 1s 17us/sample - loss: 0.0171 - val_loss: 0.0166\n",
            "Epoch 6/30\n",
            "60000/60000 [==============================] - 1s 17us/sample - loss: 0.0166 - val_loss: 0.0163\n",
            "Epoch 7/30\n",
            "60000/60000 [==============================] - 1s 17us/sample - loss: 0.0163 - val_loss: 0.0158\n",
            "Epoch 8/30\n",
            "60000/60000 [==============================] - 1s 17us/sample - loss: 0.0160 - val_loss: 0.0159\n",
            "Epoch 9/30\n",
            "60000/60000 [==============================] - 1s 17us/sample - loss: 0.0159 - val_loss: 0.0157\n",
            "Epoch 10/30\n",
            "60000/60000 [==============================] - 1s 17us/sample - loss: 0.0157 - val_loss: 0.0154\n",
            "Epoch 11/30\n",
            "60000/60000 [==============================] - 1s 17us/sample - loss: 0.0156 - val_loss: 0.0155\n",
            "Epoch 12/30\n",
            "60000/60000 [==============================] - 1s 17us/sample - loss: 0.0155 - val_loss: 0.0152\n",
            "Epoch 13/30\n",
            "60000/60000 [==============================] - 1s 17us/sample - loss: 0.0154 - val_loss: 0.0151\n",
            "Epoch 14/30\n",
            "60000/60000 [==============================] - 1s 17us/sample - loss: 0.0153 - val_loss: 0.0153\n",
            "Epoch 15/30\n",
            "60000/60000 [==============================] - 1s 17us/sample - loss: 0.0152 - val_loss: 0.0155\n",
            "Epoch 16/30\n",
            "60000/60000 [==============================] - 1s 17us/sample - loss: 0.0152 - val_loss: 0.0151\n",
            "Epoch 17/30\n",
            "60000/60000 [==============================] - 1s 17us/sample - loss: 0.0151 - val_loss: 0.0150\n",
            "Epoch 18/30\n",
            "60000/60000 [==============================] - 1s 17us/sample - loss: 0.0151 - val_loss: 0.0153\n",
            "Epoch 19/30\n",
            "60000/60000 [==============================] - 1s 17us/sample - loss: 0.0150 - val_loss: 0.0148\n",
            "Epoch 20/30\n",
            "60000/60000 [==============================] - 1s 17us/sample - loss: 0.0149 - val_loss: 0.0149\n",
            "Epoch 21/30\n",
            "60000/60000 [==============================] - 1s 17us/sample - loss: 0.0150 - val_loss: 0.0149\n",
            "Epoch 22/30\n",
            "60000/60000 [==============================] - 1s 17us/sample - loss: 0.0149 - val_loss: 0.0149\n",
            "Epoch 23/30\n",
            "60000/60000 [==============================] - 1s 17us/sample - loss: 0.0148 - val_loss: 0.0147\n",
            "Epoch 24/30\n",
            "60000/60000 [==============================] - 1s 17us/sample - loss: 0.0148 - val_loss: 0.0149\n",
            "Epoch 25/30\n",
            "60000/60000 [==============================] - 1s 17us/sample - loss: 0.0148 - val_loss: 0.0148\n",
            "Epoch 26/30\n",
            "60000/60000 [==============================] - 1s 17us/sample - loss: 0.0148 - val_loss: 0.0148\n",
            "Epoch 27/30\n",
            "60000/60000 [==============================] - 1s 17us/sample - loss: 0.0147 - val_loss: 0.0148\n",
            "Epoch 28/30\n",
            "60000/60000 [==============================] - 1s 17us/sample - loss: 0.0147 - val_loss: 0.0146\n",
            "Epoch 29/30\n",
            "60000/60000 [==============================] - 1s 17us/sample - loss: 0.0147 - val_loss: 0.0146\n",
            "Epoch 30/30\n",
            "60000/60000 [==============================] - 1s 17us/sample - loss: 0.0147 - val_loss: 0.0145\n"
          ],
          "name": "stdout"
        }
      ]
    },
    {
      "cell_type": "markdown",
      "metadata": {
        "id": "nKAf_5WiKM3o",
        "colab_type": "text"
      },
      "source": [
        "### Visualizing the results\n",
        "\n",
        "I created 2 rows of 10 images. The first row contains the original images and the second the output of the model. Note, that the reconstructiuon is not perfect, some information was lost durring the compression."
      ]
    },
    {
      "cell_type": "code",
      "metadata": {
        "id": "h-u5u6smjZxs",
        "colab_type": "code",
        "outputId": "52923b06-2861-4b31-c1fa-b429d1c4ea30",
        "colab": {
          "base_uri": "https://localhost:8080/",
          "height": 265
        }
      },
      "source": [
        "decoded_imgs = autoencoder.predict(x_test_norm)\n",
        "print(x_test_norm[0].shape)\n",
        "\n",
        "plt.figure(figsize=(20,4))\n",
        "for i in range(10):\n",
        "    plt.subplot(2,10,i+1)\n",
        "    plt.xticks([])\n",
        "    plt.yticks([])\n",
        "    plt.imshow(x_test_norm[i][:, :, 0], cmap='gray')\n",
        "\n",
        "    plt.subplot(2,10,i+11)\n",
        "    plt.xticks([])\n",
        "    plt.yticks([])\n",
        "    plt.imshow(decoded_imgs[i][:, :, 0], cmap='gray')\n",
        "\n",
        "plt.show()"
      ],
      "execution_count": 26,
      "outputs": [
        {
          "output_type": "stream",
          "text": [
            "(28, 28, 1)\n"
          ],
          "name": "stdout"
        },
        {
          "output_type": "display_data",
          "data": {
            "image/png": "[encoded data removed]",
            "text/plain": [
              "<Figure size 1440x288 with 20 Axes>"
            ]
          },
          "metadata": {
            "tags": []
          }
        }
      ]
    },
    {
      "cell_type": "markdown",
      "metadata": {
        "id": "uuzfrGuhKg99",
        "colab_type": "text"
      },
      "source": [
        "## Concolutional autoencoder"
      ]
    },
    {
      "cell_type": "markdown",
      "metadata": {
        "id": "cHnJx-TyKkln",
        "colab_type": "text"
      },
      "source": [
        "### Creating the model\n",
        "\n",
        "The concolutional autoencoder is similiar to the feed forward autoencoder. The Conv2D and MaxPool layers can reduce the size of the image. In the decoder instead of the Conv2D, the Conv2DTranspose and instead of the MaxPooling2D, the UpSampling2D is used.\n"
      ]
    },
    {
      "cell_type": "code",
      "metadata": {
        "id": "WkH6ZYC5r1Dd",
        "colab_type": "code",
        "outputId": "256e88a2-a0e7-45c4-8bdb-b4624c087cf6",
        "colab": {
          "base_uri": "https://localhost:8080/",
          "height": 1000
        }
      },
      "source": [
        "encoding_dim = 32\n",
        "\n",
        "input_e = layers.Input((28, 28, 1))\n",
        "e = layers.Conv2D(16, (3, 3), activation='relu',padding='same')(input_e)\n",
        "e = layers.MaxPooling2D(pool_size=(2, 2), padding='same')(e)\n",
        "e = layers.Conv2D(8, (3, 3), activation='relu', padding='same')(e)\n",
        "e = layers.MaxPooling2D(pool_size=(2, 2), padding='same')(e)\n",
        "e = layers.Flatten()(e)\n",
        "output_e = layers.Dense(encoding_dim, activation='relu')(e)\n",
        "encoder = Model(input_e, output_e)\n",
        "encoder.summary()\n",
        "\n",
        "input_d = layers.Input((encoding_dim))\n",
        "d = layers.Dense(392, activation='relu')(input_d)\n",
        "d = layers.Reshape((7, 7, 8))(d)\n",
        "d = layers.Conv2DTranspose(8, (3, 3), activation='relu', padding='same')(d)\n",
        "d = layers.UpSampling2D((2, 2))(d)\n",
        "d = layers.Conv2DTranspose(32, (3, 3), activation='relu', padding='same')(d)\n",
        "d = layers.UpSampling2D((2, 2))(d)\n",
        "output_d = layers.Conv2DTranspose(1, (3, 3), activation='sigmoid', padding='same')(d)\n",
        "decoder = Model(input_d, output_d)\n",
        "decoder.summary()\n",
        "\n",
        "autoencoder = Model(input_e, decoder(encoder(input_e)))\n",
        "autoencoder.summary()\n",
        "\n",
        "opt = optimizers.Adam(lr=0.001)\n",
        "autoencoder.compile(optimizer=opt,\n",
        "            loss='mse')\n",
        "\n",
        "history = autoencoder.fit(x_train_norm, x_train_norm, validation_data=(x_test_norm, x_test_norm), epochs=30, batch_size=32)"
      ],
      "execution_count": 27,
      "outputs": [
        {
          "output_type": "stream",
          "text": [
            "Model: \"model_21\"\n",
            "_________________________________________________________________\n",
            "Layer (type)                 Output Shape              Param #   \n",
            "=================================================================\n",
            "input_15 (InputLayer)        [(None, 28, 28, 1)]       0         \n",
            "_________________________________________________________________\n",
            "conv2d_2 (Conv2D)            (None, 28, 28, 16)        160       \n",
            "_________________________________________________________________\n",
            "max_pooling2d_2 (MaxPooling2 (None, 14, 14, 16)        0         \n",
            "_________________________________________________________________\n",
            "conv2d_3 (Conv2D)            (None, 14, 14, 8)         1160      \n",
            "_________________________________________________________________\n",
            "max_pooling2d_3 (MaxPooling2 (None, 7, 7, 8)           0         \n",
            "_________________________________________________________________\n",
            "flatten_7 (Flatten)          (None, 392)               0         \n",
            "_________________________________________________________________\n",
            "dense_26 (Dense)             (None, 32)                12576     \n",
            "=================================================================\n",
            "Total params: 13,896\n",
            "Trainable params: 13,896\n",
            "Non-trainable params: 0\n",
            "_________________________________________________________________\n",
            "Model: \"model_22\"\n",
            "_________________________________________________________________\n",
            "Layer (type)                 Output Shape              Param #   \n",
            "=================================================================\n",
            "input_16 (InputLayer)        [(None, 32)]              0         \n",
            "_________________________________________________________________\n",
            "dense_27 (Dense)             (None, 392)               12936     \n",
            "_________________________________________________________________\n",
            "reshape_7 (Reshape)          (None, 7, 7, 8)           0         \n",
            "_________________________________________________________________\n",
            "conv2d_transpose_3 (Conv2DTr (None, 7, 7, 8)           584       \n",
            "_________________________________________________________________\n",
            "up_sampling2d_2 (UpSampling2 (None, 14, 14, 8)         0         \n",
            "_________________________________________________________________\n",
            "conv2d_transpose_4 (Conv2DTr (None, 14, 14, 32)        2336      \n",
            "_________________________________________________________________\n",
            "up_sampling2d_3 (UpSampling2 (None, 28, 28, 32)        0         \n",
            "_________________________________________________________________\n",
            "conv2d_transpose_5 (Conv2DTr (None, 28, 28, 1)         289       \n",
            "=================================================================\n",
            "Total params: 16,145\n",
            "Trainable params: 16,145\n",
            "Non-trainable params: 0\n",
            "_________________________________________________________________\n",
            "Model: \"model_23\"\n",
            "_________________________________________________________________\n",
            "Layer (type)                 Output Shape              Param #   \n",
            "=================================================================\n",
            "input_15 (InputLayer)        [(None, 28, 28, 1)]       0         \n",
            "_________________________________________________________________\n",
            "model_21 (Model)             (None, 32)                13896     \n",
            "_________________________________________________________________\n",
            "model_22 (Model)             (None, 28, 28, 1)         16145     \n",
            "=================================================================\n",
            "Total params: 30,041\n",
            "Trainable params: 30,041\n",
            "Non-trainable params: 0\n",
            "_________________________________________________________________\n",
            "Train on 60000 samples, validate on 10000 samples\n",
            "Epoch 1/30\n",
            "60000/60000 [==============================] - 7s 116us/sample - loss: 0.0276 - val_loss: 0.0150\n",
            "Epoch 2/30\n",
            "60000/60000 [==============================] - 6s 107us/sample - loss: 0.0136 - val_loss: 0.0123\n",
            "Epoch 3/30\n",
            "60000/60000 [==============================] - 6s 107us/sample - loss: 0.0117 - val_loss: 0.0109\n",
            "Epoch 4/30\n",
            "60000/60000 [==============================] - 6s 108us/sample - loss: 0.0107 - val_loss: 0.0102\n",
            "Epoch 5/30\n",
            "60000/60000 [==============================] - 6s 106us/sample - loss: 0.0101 - val_loss: 0.0097\n",
            "Epoch 6/30\n",
            "60000/60000 [==============================] - 6s 106us/sample - loss: 0.0097 - val_loss: 0.0094\n",
            "Epoch 7/30\n",
            "60000/60000 [==============================] - 6s 106us/sample - loss: 0.0094 - val_loss: 0.0091\n",
            "Epoch 8/30\n",
            "60000/60000 [==============================] - 6s 106us/sample - loss: 0.0092 - val_loss: 0.0087\n",
            "Epoch 9/30\n",
            "60000/60000 [==============================] - 6s 108us/sample - loss: 0.0090 - val_loss: 0.0086\n",
            "Epoch 10/30\n",
            "60000/60000 [==============================] - 6s 108us/sample - loss: 0.0088 - val_loss: 0.0086\n",
            "Epoch 11/30\n",
            "60000/60000 [==============================] - 6s 107us/sample - loss: 0.0087 - val_loss: 0.0085\n",
            "Epoch 12/30\n",
            "60000/60000 [==============================] - 6s 107us/sample - loss: 0.0086 - val_loss: 0.0083\n",
            "Epoch 13/30\n",
            "60000/60000 [==============================] - 6s 106us/sample - loss: 0.0085 - val_loss: 0.0082\n",
            "Epoch 14/30\n",
            "60000/60000 [==============================] - 6s 106us/sample - loss: 0.0084 - val_loss: 0.0080\n",
            "Epoch 15/30\n",
            "60000/60000 [==============================] - 6s 107us/sample - loss: 0.0084 - val_loss: 0.0081\n",
            "Epoch 16/30\n",
            "60000/60000 [==============================] - 6s 106us/sample - loss: 0.0083 - val_loss: 0.0080\n",
            "Epoch 17/30\n",
            "60000/60000 [==============================] - 6s 106us/sample - loss: 0.0082 - val_loss: 0.0079\n",
            "Epoch 18/30\n",
            "60000/60000 [==============================] - 6s 107us/sample - loss: 0.0082 - val_loss: 0.0080\n",
            "Epoch 19/30\n",
            "60000/60000 [==============================] - 6s 106us/sample - loss: 0.0082 - val_loss: 0.0080\n",
            "Epoch 20/30\n",
            "60000/60000 [==============================] - 6s 107us/sample - loss: 0.0081 - val_loss: 0.0079\n",
            "Epoch 21/30\n",
            "60000/60000 [==============================] - 6s 106us/sample - loss: 0.0081 - val_loss: 0.0080\n",
            "Epoch 22/30\n",
            "60000/60000 [==============================] - 6s 108us/sample - loss: 0.0080 - val_loss: 0.0077\n",
            "Epoch 23/30\n",
            "60000/60000 [==============================] - 6s 108us/sample - loss: 0.0080 - val_loss: 0.0078\n",
            "Epoch 24/30\n",
            "60000/60000 [==============================] - 6s 107us/sample - loss: 0.0079 - val_loss: 0.0076\n",
            "Epoch 25/30\n",
            "60000/60000 [==============================] - 6s 107us/sample - loss: 0.0079 - val_loss: 0.0078\n",
            "Epoch 26/30\n",
            "60000/60000 [==============================] - 6s 106us/sample - loss: 0.0079 - val_loss: 0.0077\n",
            "Epoch 27/30\n",
            "60000/60000 [==============================] - 6s 108us/sample - loss: 0.0079 - val_loss: 0.0077\n",
            "Epoch 28/30\n",
            "60000/60000 [==============================] - 6s 107us/sample - loss: 0.0078 - val_loss: 0.0077\n",
            "Epoch 29/30\n",
            "60000/60000 [==============================] - 6s 107us/sample - loss: 0.0078 - val_loss: 0.0077\n",
            "Epoch 30/30\n",
            "60000/60000 [==============================] - 6s 108us/sample - loss: 0.0078 - val_loss: 0.0075\n"
          ],
          "name": "stdout"
        }
      ]
    },
    {
      "cell_type": "markdown",
      "metadata": {
        "id": "iavJTS-hL7Cc",
        "colab_type": "text"
      },
      "source": [
        "### Visualizing the results\n",
        "\n",
        "Same visualization as before."
      ]
    },
    {
      "cell_type": "code",
      "metadata": {
        "id": "wAh58t7XwnH2",
        "colab_type": "code",
        "outputId": "25c88f7a-86bd-40f6-d973-c186f32d448c",
        "colab": {
          "base_uri": "https://localhost:8080/",
          "height": 265
        }
      },
      "source": [
        "decoded_imgs = autoencoder.predict(x_test_norm)\n",
        "print(x_test_norm[0].shape)\n",
        "\n",
        "plt.figure(figsize=(20,4))\n",
        "for i in range(10):\n",
        "    plt.subplot(2,10,i+1)\n",
        "    plt.xticks([])\n",
        "    plt.yticks([])\n",
        "    plt.imshow(x_test_norm[i][:, :, 0], cmap='gray')\n",
        "\n",
        "    plt.subplot(2,10,i+11)\n",
        "    plt.xticks([])\n",
        "    plt.yticks([])\n",
        "    plt.imshow(decoded_imgs[i][:, :, 0], cmap='gray')\n",
        "\n",
        "plt.show()"
      ],
      "execution_count": 28,
      "outputs": [
        {
          "output_type": "stream",
          "text": [
            "(28, 28, 1)\n"
          ],
          "name": "stdout"
        },
        {
          "output_type": "display_data",
          "data": {
            "image/png": "[encoded data removed]",
            "text/plain": [
              "<Figure size 1440x288 with 20 Axes>"
            ]
          },
          "metadata": {
            "tags": []
          }
        }
      ]
    },
    {
      "cell_type": "markdown",
      "metadata": {
        "id": "widK-NX3kOog",
        "colab_type": "text"
      },
      "source": [
        "## Image denoising\n",
        "\n",
        "An autoencoder can be used for image denoising by adding noise to the input image."
      ]
    },
    {
      "cell_type": "code",
      "metadata": {
        "id": "0KXAi7N36Fb7",
        "colab_type": "code",
        "colab": {}
      },
      "source": [
        "noise_factor = 0.1\n",
        "\n",
        "x_train_noisy = x_train_norm+np.random.normal(0, noise_factor, size=x_train_norm.shape) \n",
        "x_test_noisy = x_test_norm+np.random.normal(0, noise_factor, size=x_test_norm.shape) "
      ],
      "execution_count": 0,
      "outputs": []
    },
    {
      "cell_type": "code",
      "metadata": {
        "id": "8AXp_4GA5wp7",
        "colab_type": "code",
        "outputId": "8b909fb7-7493-4980-f092-7ca284de7615",
        "colab": {
          "base_uri": "https://localhost:8080/",
          "height": 1000
        }
      },
      "source": [
        "encoding_dim = 32\n",
        "\n",
        "input_e = layers.Input((28, 28, 1))\n",
        "e = layers.Flatten()(input_e)\n",
        "e = layers.Dense(128, activation='relu')(e)\n",
        "output_e = layers.Dense(encoding_dim, activation='relu')(e)\n",
        "encoder = Model(input_e, output_e)\n",
        "encoder.summary()\n",
        "\n",
        "input_d = layers.Input((encoding_dim))\n",
        "d = layers.Dense(128, activation='relu')(input_d)\n",
        "d = layers.Dense(784, activation='sigmoid')(d)\n",
        "output_d = layers.Reshape((28, 28, 1))(d)\n",
        "decoder = Model(input_d, output_d)\n",
        "decoder.summary()\n",
        "\n",
        "autoencoder = Model(input_e, decoder(encoder(input_e)))\n",
        "autoencoder.summary()\n",
        "\n",
        "opt = optimizers.Adam(lr=0.01)\n",
        "autoencoder.compile(optimizer=opt,\n",
        "            loss='mse')\n",
        "\n",
        "history = autoencoder.fit(x_train_noisy, x_train_norm, validation_data=(x_test_noisy, x_test_norm), epochs=30, batch_size=256)\n"
      ],
      "execution_count": 30,
      "outputs": [
        {
          "output_type": "stream",
          "text": [
            "Model: \"model_24\"\n",
            "_________________________________________________________________\n",
            "Layer (type)                 Output Shape              Param #   \n",
            "=================================================================\n",
            "input_17 (InputLayer)        [(None, 28, 28, 1)]       0         \n",
            "_________________________________________________________________\n",
            "flatten_8 (Flatten)          (None, 784)               0         \n",
            "_________________________________________________________________\n",
            "dense_28 (Dense)             (None, 128)               100480    \n",
            "_________________________________________________________________\n",
            "dense_29 (Dense)             (None, 32)                4128      \n",
            "=================================================================\n",
            "Total params: 104,608\n",
            "Trainable params: 104,608\n",
            "Non-trainable params: 0\n",
            "_________________________________________________________________\n",
            "Model: \"model_25\"\n",
            "_________________________________________________________________\n",
            "Layer (type)                 Output Shape              Param #   \n",
            "=================================================================\n",
            "input_18 (InputLayer)        [(None, 32)]              0         \n",
            "_________________________________________________________________\n",
            "dense_30 (Dense)             (None, 128)               4224      \n",
            "_________________________________________________________________\n",
            "dense_31 (Dense)             (None, 784)               101136    \n",
            "_________________________________________________________________\n",
            "reshape_8 (Reshape)          (None, 28, 28, 1)         0         \n",
            "=================================================================\n",
            "Total params: 105,360\n",
            "Trainable params: 105,360\n",
            "Non-trainable params: 0\n",
            "_________________________________________________________________\n",
            "Model: \"model_26\"\n",
            "_________________________________________________________________\n",
            "Layer (type)                 Output Shape              Param #   \n",
            "=================================================================\n",
            "input_17 (InputLayer)        [(None, 28, 28, 1)]       0         \n",
            "_________________________________________________________________\n",
            "model_24 (Model)             (None, 32)                104608    \n",
            "_________________________________________________________________\n",
            "model_25 (Model)             (None, 28, 28, 1)         105360    \n",
            "=================================================================\n",
            "Total params: 209,968\n",
            "Trainable params: 209,968\n",
            "Non-trainable params: 0\n",
            "_________________________________________________________________\n",
            "Train on 60000 samples, validate on 10000 samples\n",
            "Epoch 1/30\n",
            "60000/60000 [==============================] - 1s 23us/sample - loss: 0.0370 - val_loss: 0.0225\n",
            "Epoch 2/30\n",
            "60000/60000 [==============================] - 1s 17us/sample - loss: 0.0209 - val_loss: 0.0193\n",
            "Epoch 3/30\n",
            "60000/60000 [==============================] - 1s 17us/sample - loss: 0.0190 - val_loss: 0.0183\n",
            "Epoch 4/30\n",
            "60000/60000 [==============================] - 1s 17us/sample - loss: 0.0182 - val_loss: 0.0177\n",
            "Epoch 5/30\n",
            "60000/60000 [==============================] - 1s 17us/sample - loss: 0.0176 - val_loss: 0.0173\n",
            "Epoch 6/30\n",
            "60000/60000 [==============================] - 1s 17us/sample - loss: 0.0171 - val_loss: 0.0170\n",
            "Epoch 7/30\n",
            "60000/60000 [==============================] - 1s 17us/sample - loss: 0.0169 - val_loss: 0.0167\n",
            "Epoch 8/30\n",
            "60000/60000 [==============================] - 1s 17us/sample - loss: 0.0166 - val_loss: 0.0166\n",
            "Epoch 9/30\n",
            "60000/60000 [==============================] - 1s 17us/sample - loss: 0.0164 - val_loss: 0.0165\n",
            "Epoch 10/30\n",
            "60000/60000 [==============================] - 1s 17us/sample - loss: 0.0162 - val_loss: 0.0162\n",
            "Epoch 11/30\n",
            "60000/60000 [==============================] - 1s 17us/sample - loss: 0.0161 - val_loss: 0.0161\n",
            "Epoch 12/30\n",
            "60000/60000 [==============================] - 1s 17us/sample - loss: 0.0160 - val_loss: 0.0164\n",
            "Epoch 13/30\n",
            "60000/60000 [==============================] - 1s 17us/sample - loss: 0.0160 - val_loss: 0.0160\n",
            "Epoch 14/30\n",
            "60000/60000 [==============================] - 1s 17us/sample - loss: 0.0158 - val_loss: 0.0161\n",
            "Epoch 15/30\n",
            "60000/60000 [==============================] - 1s 17us/sample - loss: 0.0157 - val_loss: 0.0158\n",
            "Epoch 16/30\n",
            "60000/60000 [==============================] - 1s 17us/sample - loss: 0.0157 - val_loss: 0.0157\n",
            "Epoch 17/30\n",
            "60000/60000 [==============================] - 1s 17us/sample - loss: 0.0156 - val_loss: 0.0159\n",
            "Epoch 18/30\n",
            "60000/60000 [==============================] - 1s 17us/sample - loss: 0.0156 - val_loss: 0.0158\n",
            "Epoch 19/30\n",
            "60000/60000 [==============================] - 1s 17us/sample - loss: 0.0155 - val_loss: 0.0157\n",
            "Epoch 20/30\n",
            "60000/60000 [==============================] - 1s 18us/sample - loss: 0.0154 - val_loss: 0.0158\n",
            "Epoch 21/30\n",
            "60000/60000 [==============================] - 1s 17us/sample - loss: 0.0154 - val_loss: 0.0156\n",
            "Epoch 22/30\n",
            "60000/60000 [==============================] - 1s 18us/sample - loss: 0.0154 - val_loss: 0.0159\n",
            "Epoch 23/30\n",
            "60000/60000 [==============================] - 1s 17us/sample - loss: 0.0153 - val_loss: 0.0158\n",
            "Epoch 24/30\n",
            "60000/60000 [==============================] - 1s 17us/sample - loss: 0.0153 - val_loss: 0.0155\n",
            "Epoch 25/30\n",
            "60000/60000 [==============================] - 1s 17us/sample - loss: 0.0153 - val_loss: 0.0161\n",
            "Epoch 26/30\n",
            "60000/60000 [==============================] - 1s 18us/sample - loss: 0.0152 - val_loss: 0.0155\n",
            "Epoch 27/30\n",
            "60000/60000 [==============================] - 1s 17us/sample - loss: 0.0153 - val_loss: 0.0152\n",
            "Epoch 28/30\n",
            "60000/60000 [==============================] - 1s 17us/sample - loss: 0.0152 - val_loss: 0.0158\n",
            "Epoch 29/30\n",
            "60000/60000 [==============================] - 1s 17us/sample - loss: 0.0152 - val_loss: 0.0154\n",
            "Epoch 30/30\n",
            "60000/60000 [==============================] - 1s 17us/sample - loss: 0.0151 - val_loss: 0.0154\n"
          ],
          "name": "stdout"
        }
      ]
    },
    {
      "cell_type": "code",
      "metadata": {
        "id": "Ea3SKyWW50VE",
        "colab_type": "code",
        "outputId": "5faa6e1d-0b19-4f63-da40-682f04d4cde9",
        "colab": {
          "base_uri": "https://localhost:8080/",
          "height": 376
        }
      },
      "source": [
        "decoded_imgs = autoencoder.predict(x_test_noisy)\n",
        "print(x_test_noisy[0].shape)\n",
        "\n",
        "plt.figure(figsize=(20,6))\n",
        "for i in range(10):\n",
        "    plt.subplot(3,10,i+1)\n",
        "    plt.xticks([])\n",
        "    plt.yticks([])\n",
        "    plt.imshow(x_test_norm[i][:, :, 0], cmap='gray')\n",
        "\n",
        "    plt.subplot(3,10,i+11)\n",
        "    plt.xticks([])\n",
        "    plt.yticks([])\n",
        "    plt.imshow(x_test_noisy[i][:, :, 0], cmap='gray')\n",
        "\n",
        "    plt.subplot(3,10,i+21)\n",
        "    plt.xticks([])\n",
        "    plt.yticks([])\n",
        "    plt.imshow(decoded_imgs[i][:, :, 0], cmap='gray')\n",
        "\n",
        "plt.show()"
      ],
      "execution_count": 31,
      "outputs": [
        {
          "output_type": "stream",
          "text": [
            "(28, 28, 1)\n"
          ],
          "name": "stdout"
        },
        {
          "output_type": "display_data",
          "data": {
            "image/png": "[encoded data removed]",
            "text/plain": [
              "<Figure size 1440x432 with 30 Axes>"
            ]
          },
          "metadata": {
            "tags": []
          }
        }
      ]
    },
    {
      "cell_type": "markdown",
      "metadata": {
        "id": "pDsNO4_ckqcn",
        "colab_type": "text"
      },
      "source": [
        "## Image completion\n",
        "\n",
        "In the following example I am showing, how autoencoders can be used for image completion. First a mask needs to be applied to the image. The input of the autoencoder is the masked image and the output the content of the outmasked region."
      ]
    },
    {
      "cell_type": "markdown",
      "metadata": {
        "id": "5cJm2gHuey7G",
        "colab_type": "text"
      },
      "source": [
        "### Predicting the masked area"
      ]
    },
    {
      "cell_type": "code",
      "metadata": {
        "id": "dSYORinG8EdS",
        "colab_type": "code",
        "colab": {}
      },
      "source": [
        "mask_size = [12, 12]\n",
        "\n",
        "x_train_masked = x_train_norm.copy()\n",
        "y_train_masked = np.zeros((x_train_norm.shape[0], mask_size[0], mask_size[1], 1))\n",
        "for i in range(x_train_norm.shape[0]):\n",
        "    mask_loc = [np.random.randint(0, x_train_norm.shape[1]-mask_size[0]), np.random.randint(0, x_train_norm.shape[2]-mask_size[1])]\n",
        "    y_train_masked[i] = x_train_masked[i, mask_loc[0]:mask_loc[0]+mask_size[0], mask_loc[1]:mask_loc[1]+mask_size[1]]\n",
        "    x_train_masked[i, mask_loc[0]:mask_loc[0]+mask_size[0], mask_loc[1]:mask_loc[1]+mask_size[1]] = -1 \n",
        "\n",
        "x_test_masked = x_test_norm.copy()\n",
        "y_test_masked = np.zeros((x_test_norm.shape[0], mask_size[0], mask_size[1], 1))\n",
        "for i in range(x_test_norm.shape[0]):\n",
        "    mask_loc = [np.random.randint(0, x_test_masked.shape[1]-mask_size[0]), np.random.randint(0, x_test_masked.shape[2]-mask_size[1])]\n",
        "    y_test_masked[i] = x_test_masked[i, mask_loc[0]:mask_loc[0]+mask_size[0], mask_loc[1]:mask_loc[1]+mask_size[1]]\n",
        "    x_test_masked[i, mask_loc[0]:mask_loc[0]+mask_size[0], mask_loc[1]:mask_loc[1]+mask_size[1]] = -1 "
      ],
      "execution_count": 0,
      "outputs": []
    },
    {
      "cell_type": "code",
      "metadata": {
        "id": "7mBjzeNw8Bqd",
        "colab_type": "code",
        "outputId": "146b545c-7989-4ee9-b44f-d612031fd7b2",
        "colab": {
          "base_uri": "https://localhost:8080/",
          "height": 1000
        }
      },
      "source": [
        "encoding_dim = 32\n",
        "\n",
        "input_e = layers.Input((28, 28, 1))\n",
        "e = layers.Flatten()(input_e)\n",
        "e = layers.Dense(128, activation='relu')(e)\n",
        "output_e = layers.Dense(encoding_dim, activation='relu')(e)\n",
        "encoder = Model(input_e, output_e)\n",
        "encoder.summary()\n",
        "\n",
        "input_d = layers.Input((encoding_dim))\n",
        "d = layers.Dense(128, activation='relu')(input_d)\n",
        "d = layers.Dense(mask_size[0]*mask_size[1], activation='sigmoid')(d)\n",
        "output_d = layers.Reshape((mask_size[0], mask_size[1], 1))(d)\n",
        "decoder = Model(input_d, output_d)\n",
        "decoder.summary()\n",
        "\n",
        "autoencoder = Model(input_e, decoder(encoder(input_e)))\n",
        "autoencoder.summary()\n",
        "\n",
        "opt = optimizers.Adam(lr=0.01)\n",
        "autoencoder.compile(optimizer=opt,\n",
        "            loss='mse')\n",
        "\n",
        "history = autoencoder.fit(x_train_masked, y_train_masked, validation_data=(x_test_masked, y_test_masked), epochs=30, batch_size=256)\n"
      ],
      "execution_count": 33,
      "outputs": [
        {
          "output_type": "stream",
          "text": [
            "Model: \"model_27\"\n",
            "_________________________________________________________________\n",
            "Layer (type)                 Output Shape              Param #   \n",
            "=================================================================\n",
            "input_19 (InputLayer)        [(None, 28, 28, 1)]       0         \n",
            "_________________________________________________________________\n",
            "flatten_9 (Flatten)          (None, 784)               0         \n",
            "_________________________________________________________________\n",
            "dense_32 (Dense)             (None, 128)               100480    \n",
            "_________________________________________________________________\n",
            "dense_33 (Dense)             (None, 32)                4128      \n",
            "=================================================================\n",
            "Total params: 104,608\n",
            "Trainable params: 104,608\n",
            "Non-trainable params: 0\n",
            "_________________________________________________________________\n",
            "Model: \"model_28\"\n",
            "_________________________________________________________________\n",
            "Layer (type)                 Output Shape              Param #   \n",
            "=================================================================\n",
            "input_20 (InputLayer)        [(None, 32)]              0         \n",
            "_________________________________________________________________\n",
            "dense_34 (Dense)             (None, 128)               4224      \n",
            "_________________________________________________________________\n",
            "dense_35 (Dense)             (None, 144)               18576     \n",
            "_________________________________________________________________\n",
            "reshape_9 (Reshape)          (None, 12, 12, 1)         0         \n",
            "=================================================================\n",
            "Total params: 22,800\n",
            "Trainable params: 22,800\n",
            "Non-trainable params: 0\n",
            "_________________________________________________________________\n",
            "Model: \"model_29\"\n",
            "_________________________________________________________________\n",
            "Layer (type)                 Output Shape              Param #   \n",
            "=================================================================\n",
            "input_19 (InputLayer)        [(None, 28, 28, 1)]       0         \n",
            "_________________________________________________________________\n",
            "model_27 (Model)             (None, 32)                104608    \n",
            "_________________________________________________________________\n",
            "model_28 (Model)             (None, 12, 12, 1)         22800     \n",
            "=================================================================\n",
            "Total params: 127,408\n",
            "Trainable params: 127,408\n",
            "Non-trainable params: 0\n",
            "_________________________________________________________________\n",
            "Train on 60000 samples, validate on 10000 samples\n",
            "Epoch 1/30\n",
            "60000/60000 [==============================] - 1s 20us/sample - loss: 0.1155 - val_loss: 0.1073\n",
            "Epoch 2/30\n",
            "60000/60000 [==============================] - 1s 16us/sample - loss: 0.1026 - val_loss: 0.1009\n",
            "Epoch 3/30\n",
            "60000/60000 [==============================] - 1s 15us/sample - loss: 0.0979 - val_loss: 0.0978\n",
            "Epoch 4/30\n",
            "60000/60000 [==============================] - 1s 16us/sample - loss: 0.0954 - val_loss: 0.0973\n",
            "Epoch 5/30\n",
            "60000/60000 [==============================] - 1s 15us/sample - loss: 0.0932 - val_loss: 0.0944\n",
            "Epoch 6/30\n",
            "60000/60000 [==============================] - 1s 15us/sample - loss: 0.0917 - val_loss: 0.0936\n",
            "Epoch 7/30\n",
            "60000/60000 [==============================] - 1s 15us/sample - loss: 0.0909 - val_loss: 0.0926\n",
            "Epoch 8/30\n",
            "60000/60000 [==============================] - 1s 15us/sample - loss: 0.0898 - val_loss: 0.0918\n",
            "Epoch 9/30\n",
            "60000/60000 [==============================] - 1s 15us/sample - loss: 0.0890 - val_loss: 0.0927\n",
            "Epoch 10/30\n",
            "60000/60000 [==============================] - 1s 15us/sample - loss: 0.0887 - val_loss: 0.0902\n",
            "Epoch 11/30\n",
            "60000/60000 [==============================] - 1s 15us/sample - loss: 0.0877 - val_loss: 0.0902\n",
            "Epoch 12/30\n",
            "60000/60000 [==============================] - 1s 15us/sample - loss: 0.0873 - val_loss: 0.0906\n",
            "Epoch 13/30\n",
            "60000/60000 [==============================] - 1s 15us/sample - loss: 0.0867 - val_loss: 0.0900\n",
            "Epoch 14/30\n",
            "60000/60000 [==============================] - 1s 15us/sample - loss: 0.0866 - val_loss: 0.0893\n",
            "Epoch 15/30\n",
            "60000/60000 [==============================] - 1s 15us/sample - loss: 0.0858 - val_loss: 0.0907\n",
            "Epoch 16/30\n",
            "60000/60000 [==============================] - 1s 15us/sample - loss: 0.0858 - val_loss: 0.0904\n",
            "Epoch 17/30\n",
            "60000/60000 [==============================] - 1s 15us/sample - loss: 0.0854 - val_loss: 0.0897\n",
            "Epoch 18/30\n",
            "60000/60000 [==============================] - 1s 15us/sample - loss: 0.0850 - val_loss: 0.0892\n",
            "Epoch 19/30\n",
            "60000/60000 [==============================] - 1s 15us/sample - loss: 0.0847 - val_loss: 0.0896\n",
            "Epoch 20/30\n",
            "60000/60000 [==============================] - 1s 16us/sample - loss: 0.0844 - val_loss: 0.0896\n",
            "Epoch 21/30\n",
            "60000/60000 [==============================] - 1s 15us/sample - loss: 0.0841 - val_loss: 0.0899\n",
            "Epoch 22/30\n",
            "60000/60000 [==============================] - 1s 15us/sample - loss: 0.0839 - val_loss: 0.0890\n",
            "Epoch 23/30\n",
            "60000/60000 [==============================] - 1s 15us/sample - loss: 0.0838 - val_loss: 0.0892\n",
            "Epoch 24/30\n",
            "60000/60000 [==============================] - 1s 16us/sample - loss: 0.0834 - val_loss: 0.0896\n",
            "Epoch 25/30\n",
            "60000/60000 [==============================] - 1s 15us/sample - loss: 0.0834 - val_loss: 0.0885\n",
            "Epoch 26/30\n",
            "60000/60000 [==============================] - 1s 15us/sample - loss: 0.0832 - val_loss: 0.0886\n",
            "Epoch 27/30\n",
            "60000/60000 [==============================] - 1s 15us/sample - loss: 0.0829 - val_loss: 0.0884\n",
            "Epoch 28/30\n",
            "60000/60000 [==============================] - 1s 15us/sample - loss: 0.0828 - val_loss: 0.0892\n",
            "Epoch 29/30\n",
            "60000/60000 [==============================] - 1s 15us/sample - loss: 0.0825 - val_loss: 0.0894\n",
            "Epoch 30/30\n",
            "60000/60000 [==============================] - 1s 15us/sample - loss: 0.0823 - val_loss: 0.0892\n"
          ],
          "name": "stdout"
        }
      ]
    },
    {
      "cell_type": "code",
      "metadata": {
        "id": "ivXVfgKD8DY7",
        "colab_type": "code",
        "outputId": "10f223fa-45e0-40b0-f810-32392b6b35f7",
        "colab": {
          "base_uri": "https://localhost:8080/",
          "height": 376
        }
      },
      "source": [
        "decoded_imgs = autoencoder.predict(x_test_masked)\n",
        "x_test_masked_vis = x_test_masked.copy()\n",
        "x_test_masked_vis[x_test_masked_vis==-1] = 1\n",
        "x_test_masked_vis_res = x_test_masked.copy()\n",
        "x_test_masked_vis_res[x_test_masked_vis_res==-1] = decoded_imgs.flatten()\n",
        "print(x_test_norm[0].shape)\n",
        "\n",
        "plt.figure(figsize=(20,6))\n",
        "for i in range(10):\n",
        "    plt.subplot(3,10,i+1)\n",
        "    plt.xticks([])\n",
        "    plt.yticks([])\n",
        "    plt.imshow(x_test_norm[i][:, :, 0], cmap='gray')\n",
        "\n",
        "    plt.subplot(3,10,i+11)\n",
        "    plt.xticks([])\n",
        "    plt.yticks([])\n",
        "    plt.imshow(x_test_masked_vis[i][:, :, 0], cmap='gray')\n",
        "\n",
        "    plt.subplot(3,10,i+21)\n",
        "    plt.xticks([])\n",
        "    plt.yticks([])\n",
        "    plt.imshow(x_test_masked_vis_res[i][:, :, 0], cmap='gray')\n",
        "\n",
        "plt.show()"
      ],
      "execution_count": 34,
      "outputs": [
        {
          "output_type": "stream",
          "text": [
            "(28, 28, 1)\n"
          ],
          "name": "stdout"
        },
        {
          "output_type": "display_data",
          "data": {
            "image/png": "[encoded data removed]",
            "text/plain": [
              "<Figure size 1440x432 with 30 Axes>"
            ]
          },
          "metadata": {
            "tags": []
          }
        }
      ]
    },
    {
      "cell_type": "markdown",
      "metadata": {
        "id": "I_ewp2wXlMve",
        "colab_type": "text"
      },
      "source": [
        "The autoencoder was somewhat able to learn to complete the image. In some cases the edges of the outmasked area can be clearly seen. Maybe a better method would be to give the whole image as the output of the autoencoder."
      ]
    },
    {
      "cell_type": "markdown",
      "metadata": {
        "id": "XMpdQBKMe52f",
        "colab_type": "text"
      },
      "source": [
        "### Predicting the whole image "
      ]
    },
    {
      "cell_type": "code",
      "metadata": {
        "id": "ymJ_YMXye885",
        "colab_type": "code",
        "colab": {}
      },
      "source": [
        "mask_size = [12, 12]\n",
        "\n",
        "x_train_masked = x_train_norm.copy()\n",
        "y_train_masked = x_train_norm.copy()\n",
        "for i in range(x_train_norm.shape[0]):\n",
        "    mask_loc = [np.random.randint(0, x_train_norm.shape[1]-mask_size[0]), np.random.randint(0, x_train_norm.shape[2]-mask_size[1])]\n",
        "    x_train_masked[i, mask_loc[0]:mask_loc[0]+mask_size[0], mask_loc[1]:mask_loc[1]+mask_size[1]] = -1 \n",
        "\n",
        "x_test_masked = x_test_norm.copy()\n",
        "y_test_masked = x_test_norm.copy()\n",
        "for i in range(x_test_norm.shape[0]):\n",
        "    mask_loc = [np.random.randint(0, x_test_masked.shape[1]-mask_size[0]), np.random.randint(0, x_test_masked.shape[2]-mask_size[1])]\n",
        "    x_test_masked[i, mask_loc[0]:mask_loc[0]+mask_size[0], mask_loc[1]:mask_loc[1]+mask_size[1]] = -1 "
      ],
      "execution_count": 0,
      "outputs": []
    },
    {
      "cell_type": "code",
      "metadata": {
        "id": "2IOQ92A0fE6n",
        "colab_type": "code",
        "colab": {
          "base_uri": "https://localhost:8080/",
          "height": 1000
        },
        "outputId": "a67255db-ad11-41a3-e3cb-bbf8102aa09b"
      },
      "source": [
        "encoding_dim = 32\n",
        "\n",
        "input_e = layers.Input((28, 28, 1))\n",
        "e = layers.Flatten()(input_e)\n",
        "e = layers.Dense(128, activation='relu')(e)\n",
        "output_e = layers.Dense(encoding_dim, activation='relu')(e)\n",
        "encoder = Model(input_e, output_e)\n",
        "encoder.summary()\n",
        "\n",
        "input_d = layers.Input((encoding_dim))\n",
        "d = layers.Dense(128, activation='relu')(input_d)\n",
        "d = layers.Dense(28*28, activation='sigmoid')(d)\n",
        "output_d = layers.Reshape((28, 28, 1))(d)\n",
        "decoder = Model(input_d, output_d)\n",
        "decoder.summary()\n",
        "\n",
        "autoencoder = Model(input_e, decoder(encoder(input_e)))\n",
        "autoencoder.summary()\n",
        "\n",
        "opt = optimizers.Adam(lr=0.01)\n",
        "autoencoder.compile(optimizer=opt,\n",
        "            loss='mse')\n",
        "\n",
        "history = autoencoder.fit(x_train_masked, y_train_masked, validation_data=(x_test_masked, y_test_masked), epochs=30, batch_size=256)"
      ],
      "execution_count": 36,
      "outputs": [
        {
          "output_type": "stream",
          "text": [
            "Model: \"model_30\"\n",
            "_________________________________________________________________\n",
            "Layer (type)                 Output Shape              Param #   \n",
            "=================================================================\n",
            "input_21 (InputLayer)        [(None, 28, 28, 1)]       0         \n",
            "_________________________________________________________________\n",
            "flatten_10 (Flatten)         (None, 784)               0         \n",
            "_________________________________________________________________\n",
            "dense_36 (Dense)             (None, 128)               100480    \n",
            "_________________________________________________________________\n",
            "dense_37 (Dense)             (None, 32)                4128      \n",
            "=================================================================\n",
            "Total params: 104,608\n",
            "Trainable params: 104,608\n",
            "Non-trainable params: 0\n",
            "_________________________________________________________________\n",
            "Model: \"model_31\"\n",
            "_________________________________________________________________\n",
            "Layer (type)                 Output Shape              Param #   \n",
            "=================================================================\n",
            "input_22 (InputLayer)        [(None, 32)]              0         \n",
            "_________________________________________________________________\n",
            "dense_38 (Dense)             (None, 128)               4224      \n",
            "_________________________________________________________________\n",
            "dense_39 (Dense)             (None, 784)               101136    \n",
            "_________________________________________________________________\n",
            "reshape_10 (Reshape)         (None, 28, 28, 1)         0         \n",
            "=================================================================\n",
            "Total params: 105,360\n",
            "Trainable params: 105,360\n",
            "Non-trainable params: 0\n",
            "_________________________________________________________________\n",
            "Model: \"model_32\"\n",
            "_________________________________________________________________\n",
            "Layer (type)                 Output Shape              Param #   \n",
            "=================================================================\n",
            "input_21 (InputLayer)        [(None, 28, 28, 1)]       0         \n",
            "_________________________________________________________________\n",
            "model_30 (Model)             (None, 32)                104608    \n",
            "_________________________________________________________________\n",
            "model_31 (Model)             (None, 28, 28, 1)         105360    \n",
            "=================================================================\n",
            "Total params: 209,968\n",
            "Trainable params: 209,968\n",
            "Non-trainable params: 0\n",
            "_________________________________________________________________\n",
            "Train on 60000 samples, validate on 10000 samples\n",
            "Epoch 1/30\n",
            "60000/60000 [==============================] - 1s 22us/sample - loss: 0.0480 - val_loss: 0.0345\n",
            "Epoch 2/30\n",
            "60000/60000 [==============================] - 1s 17us/sample - loss: 0.0319 - val_loss: 0.0304\n",
            "Epoch 3/30\n",
            "60000/60000 [==============================] - 1s 17us/sample - loss: 0.0295 - val_loss: 0.0291\n",
            "Epoch 4/30\n",
            "60000/60000 [==============================] - 1s 17us/sample - loss: 0.0285 - val_loss: 0.0282\n",
            "Epoch 5/30\n",
            "60000/60000 [==============================] - 1s 17us/sample - loss: 0.0278 - val_loss: 0.0279\n",
            "Epoch 6/30\n",
            "60000/60000 [==============================] - 1s 17us/sample - loss: 0.0275 - val_loss: 0.0276\n",
            "Epoch 7/30\n",
            "60000/60000 [==============================] - 1s 17us/sample - loss: 0.0271 - val_loss: 0.0272\n",
            "Epoch 8/30\n",
            "60000/60000 [==============================] - 1s 17us/sample - loss: 0.0269 - val_loss: 0.0272\n",
            "Epoch 9/30\n",
            "60000/60000 [==============================] - 1s 18us/sample - loss: 0.0266 - val_loss: 0.0269\n",
            "Epoch 10/30\n",
            "60000/60000 [==============================] - 1s 18us/sample - loss: 0.0264 - val_loss: 0.0270\n",
            "Epoch 11/30\n",
            "60000/60000 [==============================] - 1s 18us/sample - loss: 0.0263 - val_loss: 0.0276\n",
            "Epoch 12/30\n",
            "60000/60000 [==============================] - 1s 18us/sample - loss: 0.0262 - val_loss: 0.0267\n",
            "Epoch 13/30\n",
            "60000/60000 [==============================] - 1s 18us/sample - loss: 0.0260 - val_loss: 0.0267\n",
            "Epoch 14/30\n",
            "60000/60000 [==============================] - 1s 18us/sample - loss: 0.0259 - val_loss: 0.0265\n",
            "Epoch 15/30\n",
            "60000/60000 [==============================] - 1s 18us/sample - loss: 0.0258 - val_loss: 0.0264\n",
            "Epoch 16/30\n",
            "60000/60000 [==============================] - 1s 18us/sample - loss: 0.0258 - val_loss: 0.0266\n",
            "Epoch 17/30\n",
            "60000/60000 [==============================] - 1s 18us/sample - loss: 0.0257 - val_loss: 0.0267\n",
            "Epoch 18/30\n",
            "60000/60000 [==============================] - 1s 18us/sample - loss: 0.0257 - val_loss: 0.0268\n",
            "Epoch 19/30\n",
            "60000/60000 [==============================] - 1s 17us/sample - loss: 0.0255 - val_loss: 0.0263\n",
            "Epoch 20/30\n",
            "60000/60000 [==============================] - 1s 17us/sample - loss: 0.0256 - val_loss: 0.0263\n",
            "Epoch 21/30\n",
            "60000/60000 [==============================] - 1s 18us/sample - loss: 0.0254 - val_loss: 0.0263\n",
            "Epoch 22/30\n",
            "60000/60000 [==============================] - 1s 17us/sample - loss: 0.0254 - val_loss: 0.0263\n",
            "Epoch 23/30\n",
            "60000/60000 [==============================] - 1s 17us/sample - loss: 0.0254 - val_loss: 0.0262\n",
            "Epoch 24/30\n",
            "60000/60000 [==============================] - 1s 18us/sample - loss: 0.0252 - val_loss: 0.0263\n",
            "Epoch 25/30\n",
            "60000/60000 [==============================] - 1s 17us/sample - loss: 0.0253 - val_loss: 0.0263\n",
            "Epoch 26/30\n",
            "60000/60000 [==============================] - 1s 17us/sample - loss: 0.0252 - val_loss: 0.0262\n",
            "Epoch 27/30\n",
            "60000/60000 [==============================] - 1s 17us/sample - loss: 0.0252 - val_loss: 0.0265\n",
            "Epoch 28/30\n",
            "60000/60000 [==============================] - 1s 17us/sample - loss: 0.0251 - val_loss: 0.0262\n",
            "Epoch 29/30\n",
            "60000/60000 [==============================] - 1s 17us/sample - loss: 0.0251 - val_loss: 0.0261\n",
            "Epoch 30/30\n",
            "60000/60000 [==============================] - 1s 17us/sample - loss: 0.0251 - val_loss: 0.0261\n"
          ],
          "name": "stdout"
        }
      ]
    },
    {
      "cell_type": "code",
      "metadata": {
        "id": "3EAkwFzDfJcf",
        "colab_type": "code",
        "colab": {
          "base_uri": "https://localhost:8080/",
          "height": 376
        },
        "outputId": "122aa837-0888-41fe-a2dd-e9bc929a8b5b"
      },
      "source": [
        "decoded_imgs = autoencoder.predict(x_test_masked)\n",
        "x_test_masked_vis = x_test_masked.copy()\n",
        "x_test_masked_vis[x_test_masked_vis==-1] = 1\n",
        "x_test_masked_vis_res = decoded_imgs\n",
        "print(x_test_norm[0].shape)\n",
        "\n",
        "plt.figure(figsize=(20,6))\n",
        "for i in range(10):\n",
        "    plt.subplot(3,10,i+1)\n",
        "    plt.xticks([])\n",
        "    plt.yticks([])\n",
        "    plt.imshow(x_test_norm[i][:, :, 0], cmap='gray')\n",
        "\n",
        "    plt.subplot(3,10,i+11)\n",
        "    plt.xticks([])\n",
        "    plt.yticks([])\n",
        "    plt.imshow(x_test_masked_vis[i][:, :, 0], cmap='gray')\n",
        "\n",
        "    plt.subplot(3,10,i+21)\n",
        "    plt.xticks([])\n",
        "    plt.yticks([])\n",
        "    plt.imshow(x_test_masked_vis_res[i][:, :, 0], cmap='gray')\n",
        "\n",
        "plt.show()"
      ],
      "execution_count": 37,
      "outputs": [
        {
          "output_type": "stream",
          "text": [
            "(28, 28, 1)\n"
          ],
          "name": "stdout"
        },
        {
          "output_type": "display_data",
          "data": {
            "image/png": "[encoded data removed]",
            "text/plain": [
              "<Figure size 1440x432 with 30 Axes>"
            ]
          },
          "metadata": {
            "tags": []
          }
        }
      ]
    }
  ]
}