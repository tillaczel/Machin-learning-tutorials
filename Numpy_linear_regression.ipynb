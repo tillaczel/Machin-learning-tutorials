{
  "nbformat": 4,
  "nbformat_minor": 0,
  "metadata": {
    "kernelspec": {
      "display_name": "Python 3",
      "language": "python",
      "name": "python3"
    },
    "language_info": {
      "codemirror_mode": {
        "name": "ipython",
        "version": 3
      },
      "file_extension": ".py",
      "mimetype": "text/x-python",
      "name": "python",
      "nbconvert_exporter": "python",
      "pygments_lexer": "ipython3",
      "version": "3.7.0"
    },
    "colab": {
      "name": "Numpy linear regression.ipynb",
      "provenance": [],
      "collapsed_sections": [],
      "include_colab_link": true
    }
  },
  "cells": [
    {
      "cell_type": "markdown",
      "metadata": {
        "id": "view-in-github",
        "colab_type": "text"
      },
      "source": [
        "<a href=\"https://colab.research.google.com/github/tillaczel/Machine-learning-workshop/blob/master/Numpy_linear_regression.ipynb\" target=\"_parent\"><img src=\"https://colab.research.google.com/assets/colab-badge.svg\" alt=\"Open In Colab\"/></a>"
      ]
    },
    {
      "cell_type": "markdown",
      "metadata": {
        "id": "hQER_BvIkHyZ",
        "colab_type": "text"
      },
      "source": [
        "# Linear regression\n",
        "Linear regression can be represented by a neural network (NN) with no hidden layer, a singel neuron and a linear activation function (for simplicity I have only one input as well). To train the model the forward and backward pass needs to be calculated. The forward pass of the NN is calculated by: $\\hat{y}=wx+b$. I am using the mean squared error as my loss function: $L=\\frac{1}{2}(\\hat{y}-y)^2$. The parcial derivatives of the loss function with respect to the weight and the bias are:\n",
        "$$\\frac{\\partial L}{\\partial w} =(wx+b-y)x$$ $$\\frac{\\partial L}{\\partial b}=wx+b-y$$\n",
        "The update to the weight and bias are: \n",
        "$$w \\leftarrow w-\\alpha (wx+b-y)x$$  $$b \\leftarrow b-\\alpha (wx+b-y)$$ \n",
        "where $\\alpha$ is the learning rate.\n"
      ]
    },
    {
      "cell_type": "markdown",
      "metadata": {
        "id": "RVUeGzjOkHyg",
        "colab_type": "text"
      },
      "source": [
        "## Importing libraries"
      ]
    },
    {
      "cell_type": "code",
      "metadata": {
        "id": "a_3FTwn9kHy1",
        "colab_type": "code",
        "colab": {}
      },
      "source": [
        "import numpy as np\n",
        "import matplotlib.pyplot as plt"
      ],
      "execution_count": 0,
      "outputs": []
    },
    {
      "cell_type": "markdown",
      "metadata": {
        "id": "By0styH7kHzC",
        "colab_type": "text"
      },
      "source": [
        "## Defineing the neural network and visualization"
      ]
    },
    {
      "cell_type": "code",
      "metadata": {
        "id": "ipg7QPQCkHzF",
        "colab_type": "code",
        "colab": {}
      },
      "source": [
        "class neuron():\n",
        "\n",
        "    def __init__(self,learning_rate):\n",
        "        self.learning_rate = learning_rate\n",
        "        \n",
        "        self.w = np.random.randn(1)\n",
        "        self.b = np.random.randn(1)\n",
        "        \n",
        "    def predict(self,X):\n",
        "        return self.w*X+self.b\n",
        "    \n",
        "    def train(self,X,Y,epoch):\n",
        "        for e in range(epoch):\n",
        "            dz = self.w*X+self.b-Y\n",
        "            dw = np.mean(dz*X)\n",
        "            db = np.mean(dz)\n",
        "            self.w += -learning_rate*dw\n",
        "            self.b += -learning_rate*db\n",
        "            \n",
        "def vis(X,Y,old_model_prediction):\n",
        "    fig = plt.figure(figsize=(12,6))\n",
        "    \n",
        "    plt.subplot(1,2,1)\n",
        "    plt.scatter(X,Y,label='Data')\n",
        "    plt.plot(X,old_model_prediction,label='Linear regression')\n",
        "    plt.legend()\n",
        "    plt.title('Data and the prediction of the model before training')\n",
        "    \n",
        "    plt.subplot(1,2,2)\n",
        "    plt.scatter(X,Y,label='Data')\n",
        "    plt.plot(X,model.predict(X),label='Linear regression')\n",
        "    plt.legend()\n",
        "    plt.title('Data and the prediction of the model after training')\n",
        "    \n",
        "    plt.show()"
      ],
      "execution_count": 0,
      "outputs": []
    },
    {
      "cell_type": "markdown",
      "metadata": {
        "id": "2mTYFyRvkH0l",
        "colab_type": "text"
      },
      "source": [
        "## Experiment 1: linear data"
      ]
    },
    {
      "cell_type": "code",
      "metadata": {
        "id": "ZEyw4Pi3kH0u",
        "colab_type": "code",
        "colab": {}
      },
      "source": [
        "learning_rate = 0.01\n",
        "model = neuron(learning_rate)"
      ],
      "execution_count": 0,
      "outputs": []
    },
    {
      "cell_type": "markdown",
      "metadata": {
        "id": "Y1bF8f9LkH06",
        "colab_type": "text"
      },
      "source": [
        "Creating the data and saving the prediction of the initialized model."
      ]
    },
    {
      "cell_type": "code",
      "metadata": {
        "id": "qCtXgXKfkH1H",
        "colab_type": "code",
        "colab": {}
      },
      "source": [
        "w = -0.7\n",
        "b = 2.5\n",
        "X = np.arange(11)-5\n",
        "Y = w*X+b\n",
        "old_model_prediction = model.predict(X)"
      ],
      "execution_count": 0,
      "outputs": []
    },
    {
      "cell_type": "markdown",
      "metadata": {
        "id": "HMov-HzJkH1Q",
        "colab_type": "text"
      },
      "source": [
        "Training the network and visualizing the resutls"
      ]
    },
    {
      "cell_type": "code",
      "metadata": {
        "id": "RImykUkwkH1W",
        "colab_type": "code",
        "outputId": "9a78ca8a-cffa-46ea-a4fc-2aca5f7cf41d",
        "colab": {
          "base_uri": "https://localhost:8080/",
          "height": 491
        }
      },
      "source": [
        "model.train(X,Y,1000)\n",
        "vis(X,Y,old_model_prediction)\n",
        "print(f'Optimal value for weight is {w}, trained value is {np.asscalar(np.round(model.w,4))}.')\n",
        "print(f'Optimal value for bias is {b}, trained value is {np.asscalar(np.round(model.b,4))}.')"
      ],
      "execution_count": 5,
      "outputs": [
        {
          "output_type": "display_data",
          "data": {
            "image/png": "[encoded data removed]",
            "text/plain": [
              "<Figure size 864x432 with 2 Axes>"
            ]
          },
          "metadata": {
            "tags": []
          }
        },
        {
          "output_type": "stream",
          "text": [
            "Optimal value for weight is -0.7, trained value is -0.7.\n",
            "Optimal value for bias is 2.5, trained value is 2.4999.\n"
          ],
          "name": "stdout"
        },
        {
          "output_type": "stream",
          "text": [
            "/usr/local/lib/python3.6/dist-packages/ipykernel_launcher.py:3: DeprecationWarning: np.asscalar(a) is deprecated since NumPy v1.16, use a.item() instead\n",
            "  This is separate from the ipykernel package so we can avoid doing imports until\n",
            "/usr/local/lib/python3.6/dist-packages/ipykernel_launcher.py:4: DeprecationWarning: np.asscalar(a) is deprecated since NumPy v1.16, use a.item() instead\n",
            "  after removing the cwd from sys.path.\n"
          ],
          "name": "stderr"
        }
      ]
    },
    {
      "cell_type": "markdown",
      "metadata": {
        "id": "UfTaLRKTkH2W",
        "colab_type": "text"
      },
      "source": [
        "## Experiment 2: quadratic function"
      ]
    },
    {
      "cell_type": "code",
      "metadata": {
        "id": "tU7tccACkH2b",
        "colab_type": "code",
        "colab": {}
      },
      "source": [
        "learning_rate = 0.01\n",
        "model = neuron(learning_rate)"
      ],
      "execution_count": 0,
      "outputs": []
    },
    {
      "cell_type": "markdown",
      "metadata": {
        "id": "0VG3fosqkH2i",
        "colab_type": "text"
      },
      "source": [
        "By changing the equation of $Y$ the underlieng function can be changed."
      ]
    },
    {
      "cell_type": "code",
      "metadata": {
        "id": "pNNvpnT3kH2v",
        "colab_type": "code",
        "colab": {}
      },
      "source": [
        "w = 1\n",
        "b = -2\n",
        "X = np.arange(11)-5\n",
        "Y = w*X**2+b\n",
        "old_model_prediction = model.predict(X)"
      ],
      "execution_count": 0,
      "outputs": []
    },
    {
      "cell_type": "markdown",
      "metadata": {
        "id": "qEU_6LUAkH25",
        "colab_type": "text"
      },
      "source": [
        "A neural network with no hidden layer, one neuron and linear activation function is unable to fit well to the quadratic data. The model is not complex enough, it has high bias. A neural network needs to have at least one hidden layer (and finite amount of neurons in the hidden layer) to be able to approximate any function (universal approximation theorem). Aldough one hidden layer is enough, there are cases where a network with more hidden layers, but much less neurons per layer (and so  in total with less parameters) can approximate complex functions with higher precision."
      ]
    },
    {
      "cell_type": "code",
      "metadata": {
        "id": "Dj9hKjiSkH3L",
        "colab_type": "code",
        "outputId": "1eb42edd-d41e-44f8-f360-ccb1ee95e4ae",
        "colab": {
          "base_uri": "https://localhost:8080/",
          "height": 390
        }
      },
      "source": [
        "model.train(X,Y,1000)\n",
        "vis(X,Y,old_model_prediction)"
      ],
      "execution_count": 8,
      "outputs": [
        {
          "output_type": "display_data",
          "data": {
            "image/png": "[encoded data removed]",
            "text/plain": [
              "<Figure size 864x432 with 2 Axes>"
            ]
          },
          "metadata": {
            "tags": []
          }
        }
      ]
    }
  ]
}