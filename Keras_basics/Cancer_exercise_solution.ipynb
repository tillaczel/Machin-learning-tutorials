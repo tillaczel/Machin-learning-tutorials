{
  "nbformat": 4,
  "nbformat_minor": 0,
  "metadata": {
    "colab": {
      "name": "Cancer exercise solution.ipynb",
      "provenance": [],
      "include_colab_link": true
    },
    "kernelspec": {
      "name": "python3",
      "display_name": "Python 3"
    }
  },
  "cells": [
    {
      "cell_type": "markdown",
      "metadata": {
        "id": "view-in-github",
        "colab_type": "text"
      },
      "source": [
        "<a href=\"https://colab.research.google.com/github/tillaczel/Machine-learning-workshop/blob/resturcture/Keras_basics/Cancer_exercise_solution.ipynb\" target=\"_parent\"><img src=\"https://colab.research.google.com/assets/colab-badge.svg\" alt=\"Open In Colab\"/></a>"
      ]
    },
    {
      "cell_type": "markdown",
      "metadata": {
        "id": "jUNE5lYP86vr",
        "colab_type": "text"
      },
      "source": [
        "# Predicting probability of cancer\n",
        "In this notebook your task is to build a model, which can predict the probability of cancer given a sample.\n",
        "All code is complete except the build_model() function."
      ]
    },
    {
      "cell_type": "markdown",
      "metadata": {
        "id": "B1tQRQdC9hoh",
        "colab_type": "text"
      },
      "source": [
        "## Install and import\n",
        "First let's upgrade tensorflow to 2.0, then import all the nescecary libraries."
      ]
    },
    {
      "cell_type": "code",
      "metadata": {
        "id": "glrSqx0Whhxt",
        "colab_type": "code",
        "outputId": "c36ba33f-0c3b-4f27-c085-0d1ac1438e16",
        "colab": {
          "base_uri": "https://localhost:8080/",
          "height": 1000
        }
      },
      "source": [
        "!pip install tensorflow --upgrade\n",
        "\n",
        "from tensorflow.keras.models import Sequential\n",
        "from tensorflow.keras.layers import Dense\n",
        "from tensorflow.keras import optimizers\n",
        "import numpy as np\n",
        "import matplotlib.pyplot as plt\n",
        "\n",
        "from sklearn.datasets import load_breast_cancer\n",
        "from sklearn.utils import shuffle"
      ],
      "execution_count": 0,
      "outputs": [
        {
          "output_type": "stream",
          "text": [
            "Collecting tensorflow\n",
            "\u001b[?25l  Downloading https://files.pythonhosted.org/packages/46/0f/7bd55361168bb32796b360ad15a25de6966c9c1beb58a8e30c01c8279862/tensorflow-2.0.0-cp36-cp36m-manylinux2010_x86_64.whl (86.3MB)\n",
            "\u001b[K     |████████████████████████████████| 86.3MB 40kB/s \n",
            "\u001b[?25hRequirement already satisfied, skipping upgrade: wheel>=0.26 in /usr/local/lib/python3.6/dist-packages (from tensorflow) (0.33.6)\n",
            "Requirement already satisfied, skipping upgrade: gast==0.2.2 in /usr/local/lib/python3.6/dist-packages (from tensorflow) (0.2.2)\n",
            "Requirement already satisfied, skipping upgrade: grpcio>=1.8.6 in /usr/local/lib/python3.6/dist-packages (from tensorflow) (1.15.0)\n",
            "Requirement already satisfied, skipping upgrade: google-pasta>=0.1.6 in /usr/local/lib/python3.6/dist-packages (from tensorflow) (0.1.8)\n",
            "Requirement already satisfied, skipping upgrade: protobuf>=3.6.1 in /usr/local/lib/python3.6/dist-packages (from tensorflow) (3.10.0)\n",
            "Requirement already satisfied, skipping upgrade: wrapt>=1.11.1 in /usr/local/lib/python3.6/dist-packages (from tensorflow) (1.11.2)\n",
            "Requirement already satisfied, skipping upgrade: keras-applications>=1.0.8 in /usr/local/lib/python3.6/dist-packages (from tensorflow) (1.0.8)\n",
            "Requirement already satisfied, skipping upgrade: numpy<2.0,>=1.16.0 in /usr/local/lib/python3.6/dist-packages (from tensorflow) (1.17.4)\n",
            "Requirement already satisfied, skipping upgrade: six>=1.10.0 in /usr/local/lib/python3.6/dist-packages (from tensorflow) (1.12.0)\n",
            "Collecting tensorflow-estimator<2.1.0,>=2.0.0\n",
            "\u001b[?25l  Downloading https://files.pythonhosted.org/packages/fc/08/8b927337b7019c374719145d1dceba21a8bb909b93b1ad6f8fb7d22c1ca1/tensorflow_estimator-2.0.1-py2.py3-none-any.whl (449kB)\n",
            "\u001b[K     |████████████████████████████████| 450kB 47.5MB/s \n",
            "\u001b[?25hCollecting tensorboard<2.1.0,>=2.0.0\n",
            "\u001b[?25l  Downloading https://files.pythonhosted.org/packages/d3/9e/a48cd34dd7b672ffc227b566f7d16d63c62c58b542d54efa45848c395dd4/tensorboard-2.0.1-py3-none-any.whl (3.8MB)\n",
            "\u001b[K     |████████████████████████████████| 3.8MB 50.2MB/s \n",
            "\u001b[?25hRequirement already satisfied, skipping upgrade: astor>=0.6.0 in /usr/local/lib/python3.6/dist-packages (from tensorflow) (0.8.0)\n",
            "Requirement already satisfied, skipping upgrade: opt-einsum>=2.3.2 in /usr/local/lib/python3.6/dist-packages (from tensorflow) (3.1.0)\n",
            "Requirement already satisfied, skipping upgrade: keras-preprocessing>=1.0.5 in /usr/local/lib/python3.6/dist-packages (from tensorflow) (1.1.0)\n",
            "Requirement already satisfied, skipping upgrade: termcolor>=1.1.0 in /usr/local/lib/python3.6/dist-packages (from tensorflow) (1.1.0)\n",
            "Requirement already satisfied, skipping upgrade: absl-py>=0.7.0 in /usr/local/lib/python3.6/dist-packages (from tensorflow) (0.8.1)\n",
            "Requirement already satisfied, skipping upgrade: setuptools in /usr/local/lib/python3.6/dist-packages (from protobuf>=3.6.1->tensorflow) (41.4.0)\n",
            "Requirement already satisfied, skipping upgrade: h5py in /usr/local/lib/python3.6/dist-packages (from keras-applications>=1.0.8->tensorflow) (2.8.0)\n",
            "Collecting google-auth<2,>=1.6.3\n",
            "\u001b[?25l  Downloading https://files.pythonhosted.org/packages/7b/cb/786dc53d93494784935a62947643b48250b84a882474e714f9af5e1a1928/google_auth-1.7.1-py2.py3-none-any.whl (74kB)\n",
            "\u001b[K     |████████████████████████████████| 81kB 10.8MB/s \n",
            "\u001b[?25hRequirement already satisfied, skipping upgrade: markdown>=2.6.8 in /usr/local/lib/python3.6/dist-packages (from tensorboard<2.1.0,>=2.0.0->tensorflow) (3.1.1)\n",
            "Requirement already satisfied, skipping upgrade: google-auth-oauthlib<0.5,>=0.4.1 in /usr/local/lib/python3.6/dist-packages (from tensorboard<2.1.0,>=2.0.0->tensorflow) (0.4.1)\n",
            "Requirement already satisfied, skipping upgrade: werkzeug>=0.11.15 in /usr/local/lib/python3.6/dist-packages (from tensorboard<2.1.0,>=2.0.0->tensorflow) (0.16.0)\n",
            "Requirement already satisfied, skipping upgrade: pyasn1-modules>=0.2.1 in /usr/local/lib/python3.6/dist-packages (from google-auth<2,>=1.6.3->tensorboard<2.1.0,>=2.0.0->tensorflow) (0.2.7)\n",
            "Requirement already satisfied, skipping upgrade: cachetools<3.2,>=2.0.0 in /usr/local/lib/python3.6/dist-packages (from google-auth<2,>=1.6.3->tensorboard<2.1.0,>=2.0.0->tensorflow) (3.1.1)\n",
            "Requirement already satisfied, skipping upgrade: rsa<4.1,>=3.1.4 in /usr/local/lib/python3.6/dist-packages (from google-auth<2,>=1.6.3->tensorboard<2.1.0,>=2.0.0->tensorflow) (4.0)\n",
            "Requirement already satisfied, skipping upgrade: requests-oauthlib>=0.7.0 in /usr/local/lib/python3.6/dist-packages (from google-auth-oauthlib<0.5,>=0.4.1->tensorboard<2.1.0,>=2.0.0->tensorflow) (1.3.0)\n",
            "Requirement already satisfied, skipping upgrade: pyasn1<0.5.0,>=0.4.6 in /usr/local/lib/python3.6/dist-packages (from pyasn1-modules>=0.2.1->google-auth<2,>=1.6.3->tensorboard<2.1.0,>=2.0.0->tensorflow) (0.4.7)\n",
            "Requirement already satisfied, skipping upgrade: requests>=2.0.0 in /usr/local/lib/python3.6/dist-packages (from requests-oauthlib>=0.7.0->google-auth-oauthlib<0.5,>=0.4.1->tensorboard<2.1.0,>=2.0.0->tensorflow) (2.21.0)\n",
            "Requirement already satisfied, skipping upgrade: oauthlib>=3.0.0 in /usr/local/lib/python3.6/dist-packages (from requests-oauthlib>=0.7.0->google-auth-oauthlib<0.5,>=0.4.1->tensorboard<2.1.0,>=2.0.0->tensorflow) (3.1.0)\n",
            "Requirement already satisfied, skipping upgrade: urllib3<1.25,>=1.21.1 in /usr/local/lib/python3.6/dist-packages (from requests>=2.0.0->requests-oauthlib>=0.7.0->google-auth-oauthlib<0.5,>=0.4.1->tensorboard<2.1.0,>=2.0.0->tensorflow) (1.24.3)\n",
            "Requirement already satisfied, skipping upgrade: certifi>=2017.4.17 in /usr/local/lib/python3.6/dist-packages (from requests>=2.0.0->requests-oauthlib>=0.7.0->google-auth-oauthlib<0.5,>=0.4.1->tensorboard<2.1.0,>=2.0.0->tensorflow) (2019.9.11)\n",
            "Requirement already satisfied, skipping upgrade: idna<2.9,>=2.5 in /usr/local/lib/python3.6/dist-packages (from requests>=2.0.0->requests-oauthlib>=0.7.0->google-auth-oauthlib<0.5,>=0.4.1->tensorboard<2.1.0,>=2.0.0->tensorflow) (2.8)\n",
            "Requirement already satisfied, skipping upgrade: chardet<3.1.0,>=3.0.2 in /usr/local/lib/python3.6/dist-packages (from requests>=2.0.0->requests-oauthlib>=0.7.0->google-auth-oauthlib<0.5,>=0.4.1->tensorboard<2.1.0,>=2.0.0->tensorflow) (3.0.4)\n",
            "\u001b[31mERROR: tensorboard 2.0.1 has requirement grpcio>=1.24.3, but you'll have grpcio 1.15.0 which is incompatible.\u001b[0m\n",
            "\u001b[31mERROR: google-colab 1.0.0 has requirement google-auth~=1.4.0, but you'll have google-auth 1.7.1 which is incompatible.\u001b[0m\n",
            "Installing collected packages: tensorflow-estimator, google-auth, tensorboard, tensorflow\n",
            "  Found existing installation: tensorflow-estimator 1.15.1\n",
            "    Uninstalling tensorflow-estimator-1.15.1:\n",
            "      Successfully uninstalled tensorflow-estimator-1.15.1\n",
            "  Found existing installation: google-auth 1.4.2\n",
            "    Uninstalling google-auth-1.4.2:\n",
            "      Successfully uninstalled google-auth-1.4.2\n",
            "  Found existing installation: tensorboard 1.15.0\n",
            "    Uninstalling tensorboard-1.15.0:\n",
            "      Successfully uninstalled tensorboard-1.15.0\n",
            "  Found existing installation: tensorflow 1.15.0\n",
            "    Uninstalling tensorflow-1.15.0:\n",
            "      Successfully uninstalled tensorflow-1.15.0\n",
            "Successfully installed google-auth-1.7.1 tensorboard-2.0.1 tensorflow-2.0.0 tensorflow-estimator-2.0.1\n"
          ],
          "name": "stdout"
        },
        {
          "output_type": "display_data",
          "data": {
            "application/vnd.colab-display-data+json": {
              "pip_warning": {
                "packages": [
                  "google"
                ]
              }
            }
          },
          "metadata": {
            "tags": []
          }
        }
      ]
    },
    {
      "cell_type": "markdown",
      "metadata": {
        "id": "c9oxHQkB9xxp",
        "colab_type": "text"
      },
      "source": [
        "## Importing and understanding the dataset\n",
        "\n",
        "We are using the breast cancer dataset from sklearn.\n",
        "The description of the dataset is printed out."
      ]
    },
    {
      "cell_type": "code",
      "metadata": {
        "id": "saxvHPzy6WG0",
        "colab_type": "code",
        "outputId": "0c63473c-262c-4b25-9d84-6feb82271444",
        "colab": {
          "base_uri": "https://localhost:8080/",
          "height": 1000
        }
      },
      "source": [
        "dataset = load_breast_cancer()\n",
        "print(dataset.DESCR)"
      ],
      "execution_count": 0,
      "outputs": [
        {
          "output_type": "stream",
          "text": [
            ".. _breast_cancer_dataset:\n",
            "\n",
            "Breast cancer wisconsin (diagnostic) dataset\n",
            "--------------------------------------------\n",
            "\n",
            "**Data Set Characteristics:**\n",
            "\n",
            "    :Number of Instances: 569\n",
            "\n",
            "    :Number of Attributes: 30 numeric, predictive attributes and the class\n",
            "\n",
            "    :Attribute Information:\n",
            "        - radius (mean of distances from center to points on the perimeter)\n",
            "        - texture (standard deviation of gray-scale values)\n",
            "        - perimeter\n",
            "        - area\n",
            "        - smoothness (local variation in radius lengths)\n",
            "        - compactness (perimeter^2 / area - 1.0)\n",
            "        - concavity (severity of concave portions of the contour)\n",
            "        - concave points (number of concave portions of the contour)\n",
            "        - symmetry \n",
            "        - fractal dimension (\"coastline approximation\" - 1)\n",
            "\n",
            "        The mean, standard error, and \"worst\" or largest (mean of the three\n",
            "        largest values) of these features were computed for each image,\n",
            "        resulting in 30 features.  For instance, field 3 is Mean Radius, field\n",
            "        13 is Radius SE, field 23 is Worst Radius.\n",
            "\n",
            "        - class:\n",
            "                - WDBC-Malignant\n",
            "                - WDBC-Benign\n",
            "\n",
            "    :Summary Statistics:\n",
            "\n",
            "    ===================================== ====== ======\n",
            "                                           Min    Max\n",
            "    ===================================== ====== ======\n",
            "    radius (mean):                        6.981  28.11\n",
            "    texture (mean):                       9.71   39.28\n",
            "    perimeter (mean):                     43.79  188.5\n",
            "    area (mean):                          143.5  2501.0\n",
            "    smoothness (mean):                    0.053  0.163\n",
            "    compactness (mean):                   0.019  0.345\n",
            "    concavity (mean):                     0.0    0.427\n",
            "    concave points (mean):                0.0    0.201\n",
            "    symmetry (mean):                      0.106  0.304\n",
            "    fractal dimension (mean):             0.05   0.097\n",
            "    radius (standard error):              0.112  2.873\n",
            "    texture (standard error):             0.36   4.885\n",
            "    perimeter (standard error):           0.757  21.98\n",
            "    area (standard error):                6.802  542.2\n",
            "    smoothness (standard error):          0.002  0.031\n",
            "    compactness (standard error):         0.002  0.135\n",
            "    concavity (standard error):           0.0    0.396\n",
            "    concave points (standard error):      0.0    0.053\n",
            "    symmetry (standard error):            0.008  0.079\n",
            "    fractal dimension (standard error):   0.001  0.03\n",
            "    radius (worst):                       7.93   36.04\n",
            "    texture (worst):                      12.02  49.54\n",
            "    perimeter (worst):                    50.41  251.2\n",
            "    area (worst):                         185.2  4254.0\n",
            "    smoothness (worst):                   0.071  0.223\n",
            "    compactness (worst):                  0.027  1.058\n",
            "    concavity (worst):                    0.0    1.252\n",
            "    concave points (worst):               0.0    0.291\n",
            "    symmetry (worst):                     0.156  0.664\n",
            "    fractal dimension (worst):            0.055  0.208\n",
            "    ===================================== ====== ======\n",
            "\n",
            "    :Missing Attribute Values: None\n",
            "\n",
            "    :Class Distribution: 212 - Malignant, 357 - Benign\n",
            "\n",
            "    :Creator:  Dr. William H. Wolberg, W. Nick Street, Olvi L. Mangasarian\n",
            "\n",
            "    :Donor: Nick Street\n",
            "\n",
            "    :Date: November, 1995\n",
            "\n",
            "This is a copy of UCI ML Breast Cancer Wisconsin (Diagnostic) datasets.\n",
            "https://goo.gl/U2Uwz2\n",
            "\n",
            "Features are computed from a digitized image of a fine needle\n",
            "aspirate (FNA) of a breast mass.  They describe\n",
            "characteristics of the cell nuclei present in the image.\n",
            "\n",
            "Separating plane described above was obtained using\n",
            "Multisurface Method-Tree (MSM-T) [K. P. Bennett, \"Decision Tree\n",
            "Construction Via Linear Programming.\" Proceedings of the 4th\n",
            "Midwest Artificial Intelligence and Cognitive Science Society,\n",
            "pp. 97-101, 1992], a classification method which uses linear\n",
            "programming to construct a decision tree.  Relevant features\n",
            "were selected using an exhaustive search in the space of 1-4\n",
            "features and 1-3 separating planes.\n",
            "\n",
            "The actual linear program used to obtain the separating plane\n",
            "in the 3-dimensional space is that described in:\n",
            "[K. P. Bennett and O. L. Mangasarian: \"Robust Linear\n",
            "Programming Discrimination of Two Linearly Inseparable Sets\",\n",
            "Optimization Methods and Software 1, 1992, 23-34].\n",
            "\n",
            "This database is also available through the UW CS ftp server:\n",
            "\n",
            "ftp ftp.cs.wisc.edu\n",
            "cd math-prog/cpo-dataset/machine-learn/WDBC/\n",
            "\n",
            ".. topic:: References\n",
            "\n",
            "   - W.N. Street, W.H. Wolberg and O.L. Mangasarian. Nuclear feature extraction \n",
            "     for breast tumor diagnosis. IS&T/SPIE 1993 International Symposium on \n",
            "     Electronic Imaging: Science and Technology, volume 1905, pages 861-870,\n",
            "     San Jose, CA, 1993.\n",
            "   - O.L. Mangasarian, W.N. Street and W.H. Wolberg. Breast cancer diagnosis and \n",
            "     prognosis via linear programming. Operations Research, 43(4), pages 570-577, \n",
            "     July-August 1995.\n",
            "   - W.H. Wolberg, W.N. Street, and O.L. Mangasarian. Machine learning techniques\n",
            "     to diagnose breast cancer from fine-needle aspirates. Cancer Letters 77 (1994) \n",
            "     163-171.\n"
          ],
          "name": "stdout"
        }
      ]
    },
    {
      "cell_type": "markdown",
      "metadata": {
        "id": "PLcz8J0c-Pac",
        "colab_type": "text"
      },
      "source": [
        "## Prepare data\n",
        "\n",
        "To avoid bias in the training data, the data needs to be shuffled before the train validation split. We are using a 80% validation split."
      ]
    },
    {
      "cell_type": "code",
      "metadata": {
        "id": "aoACwUGs_egK",
        "colab_type": "code",
        "colab": {}
      },
      "source": [
        "x, y = shuffle(dataset.data, dataset.target, random_state=1)\n",
        "\n",
        "train_ratio = 0.8\n",
        "x_train, y_train = x[:int(train_ratio*len(x))], y[:int(train_ratio*len(y))]\n",
        "x_test, y_test = x[int(train_ratio*len(x)):], y[int(train_ratio*len(y)):]"
      ],
      "execution_count": 0,
      "outputs": []
    },
    {
      "cell_type": "markdown",
      "metadata": {
        "id": "NK8JeBdG-6DQ",
        "colab_type": "text"
      },
      "source": [
        "After printing out the dataset it can be seen, that the input needs to be normalized."
      ]
    },
    {
      "cell_type": "code",
      "metadata": {
        "id": "uiuQUbig8Mic",
        "colab_type": "code",
        "outputId": "0ebf7903-5714-4b03-82d1-e5150a151fb2",
        "colab": {
          "base_uri": "https://localhost:8080/",
          "height": 357
        }
      },
      "source": [
        "print(x_train)\n",
        "print(y_train)"
      ],
      "execution_count": 0,
      "outputs": [
        {
          "output_type": "stream",
          "text": [
            "[[1.469e+01 1.398e+01 9.822e+01 ... 1.108e-01 2.827e-01 9.208e-02]\n",
            " [1.317e+01 1.866e+01 8.598e+01 ... 2.088e-01 3.900e-01 1.179e-01]\n",
            " [1.295e+01 1.602e+01 8.314e+01 ... 1.056e-01 3.380e-01 9.584e-02]\n",
            " ...\n",
            " [8.734e+00 1.684e+01 5.527e+01 ... 0.000e+00 2.445e-01 8.865e-02]\n",
            " [1.877e+01 2.143e+01 1.229e+02 ... 2.048e-01 3.679e-01 9.870e-02]\n",
            " [1.127e+01 1.296e+01 7.316e+01 ... 1.318e-01 3.343e-01 9.215e-02]]\n",
            "[1 0 1 0 0 0 0 0 1 1 1 0 0 1 1 1 1 1 1 0 1 1 0 1 0 1 1 0 0 0 0 1 0 0 1 1 0\n",
            " 1 0 1 1 1 1 1 1 0 1 1 1 0 0 0 1 1 1 1 1 0 1 1 1 0 1 1 1 1 1 0 1 1 1 1 0 0\n",
            " 1 0 0 0 1 0 1 0 1 0 1 1 0 1 0 1 1 0 1 1 0 0 1 1 1 1 1 1 1 1 1 1 1 1 0 0 0\n",
            " 1 1 1 0 0 1 1 1 1 1 0 0 1 1 0 0 1 0 0 1 1 1 0 1 0 0 1 1 1 0 0 1 0 1 0 1 1\n",
            " 1 0 1 1 1 0 1 1 1 1 1 1 1 1 1 0 1 1 0 0 0 1 1 1 1 1 1 1 1 1 1 1 1 1 1 1 1\n",
            " 0 0 1 0 1 1 1 1 0 0 1 1 0 0 1 0 1 0 1 0 0 1 1 0 0 1 1 1 1 0 1 1 1 1 1 1 1\n",
            " 0 1 0 1 1 0 0 0 0 1 1 0 1 0 0 0 1 0 1 1 1 1 1 0 1 1 0 0 0 0 1 0 1 1 0 1 0\n",
            " 1 1 1 0 1 1 1 0 1 1 1 1 0 1 1 0 0 0 1 1 0 1 1 1 1 1 0 1 1 1 0 1 0 0 0 0 1\n",
            " 0 0 0 1 1 0 1 1 1 1 0 0 1 1 1 0 1 1 1 0 1 1 0 1 1 1 1 0 0 1 0 0 1 0 1 0 0\n",
            " 1 1 0 1 1 1 1 1 0 1 1 1 1 0 1 1 1 1 1 0 0 0 1 0 0 1 0 1 1 1 0 1 0 1 1 1 1\n",
            " 0 0 1 1 1 1 0 1 1 0 0 0 1 0 0 0 1 1 1 1 1 1 1 0 1 0 0 0 0 1 1 0 1 1 1 1 1\n",
            " 1 1 0 0 1 1 1 1 0 1 1 1 1 0 1 1 1 0 1 0 1 1 0 0 0 0 0 1 1 1 1 1 0 1 1 1 1\n",
            " 0 0 1 1 1 0 1 1 1 0 1]\n"
          ],
          "name": "stdout"
        }
      ]
    },
    {
      "cell_type": "markdown",
      "metadata": {
        "id": "hhLbJl8e_B4i",
        "colab_type": "text"
      },
      "source": [
        "To avoid information leakage, the mean and standard deviation for the normalization needs to be calculated only on the training dataset. For numerical stability 1e+6 is added to the standard deviation."
      ]
    },
    {
      "cell_type": "code",
      "metadata": {
        "id": "8uKSRSfdAjTx",
        "colab_type": "code",
        "colab": {}
      },
      "source": [
        "mean = np.mean(x_train)\n",
        "std = np.std(x_train)\n",
        "\n",
        "x_train_norm, x_test_norm = (x_train-mean)/(std+1e-6), (x_test-mean)/(std+1e-6)"
      ],
      "execution_count": 0,
      "outputs": []
    },
    {
      "cell_type": "code",
      "metadata": {
        "id": "-2sEHhrB8WYT",
        "colab_type": "code",
        "outputId": "24d7d0d0-59e4-4c9c-a4aa-764b1b6f4575",
        "colab": {
          "base_uri": "https://localhost:8080/",
          "height": 238
        }
      },
      "source": [
        "print(x_train_norm)"
      ],
      "execution_count": 0,
      "outputs": [
        {
          "output_type": "stream",
          "text": [
            "[[-0.20671989 -0.20983555  0.15983156 ... -0.27069722 -0.26994288\n",
            "  -0.27077937]\n",
            " [-0.21339004 -0.18929849  0.10611925 ... -0.27026717 -0.26947202\n",
            "  -0.27066607]\n",
            " [-0.21435546 -0.2008835   0.09365659 ... -0.27072004 -0.26970021\n",
            "  -0.27076287]\n",
            " ...\n",
            " [-0.23285637 -0.19728513 -0.02864425 ... -0.27118344 -0.27011051\n",
            "  -0.27079442]\n",
            " [-0.18881578 -0.17714301  0.26813385 ... -0.27028473 -0.269569\n",
            "  -0.27075032]\n",
            " [-0.22172774 -0.21431158  0.04986174 ... -0.27060507 -0.26971645\n",
            "  -0.27077906]]\n"
          ],
          "name": "stdout"
        }
      ]
    },
    {
      "cell_type": "markdown",
      "metadata": {
        "id": "wKXA2BBG-Ttj",
        "colab_type": "text"
      },
      "source": [
        "## Task\n",
        "\n",
        "Complete the build_model() function!"
      ]
    },
    {
      "cell_type": "code",
      "metadata": {
        "id": "Ym1dWpMJiJCg",
        "colab_type": "code",
        "colab": {}
      },
      "source": [
        "def build_model(x_train_norm, y_train, x_test_norm, y_test):\n",
        "    model = Sequential()\n",
        "    model.add(Dense(128, input_dim=30, activation='relu'))\n",
        "    model.add(Dense(1, activation='sigmoid'))\n",
        "\n",
        "    optimizer = optimizers.Adam(lr=0.001)\n",
        "\n",
        "    model.compile(optimizer=optimizer,\n",
        "                loss='mse',\n",
        "                metrics=['accuracy'])\n",
        "\n",
        "    history = model.fit(x_train_norm, y_train, validation_data=(x_test_norm, y_test), epochs=100, batch_size=32)\n",
        "    return model, history"
      ],
      "execution_count": 0,
      "outputs": []
    },
    {
      "cell_type": "code",
      "metadata": {
        "id": "nlQNqCh47d0N",
        "colab_type": "code",
        "outputId": "4634f19d-5782-4458-f4ba-1f54a11548db",
        "colab": {
          "base_uri": "https://localhost:8080/",
          "height": 1000
        }
      },
      "source": [
        "model, history = build_model(x_train_norm, y_train, x_test_norm, y_test)"
      ],
      "execution_count": 0,
      "outputs": [
        {
          "output_type": "stream",
          "text": [
            "Train on 455 samples, validate on 114 samples\n",
            "Epoch 1/100\n",
            "455/455 [==============================] - 1s 1ms/sample - loss: 0.1836 - accuracy: 0.8352 - val_loss: 0.1510 - val_accuracy: 0.8596\n",
            "Epoch 2/100\n",
            "455/455 [==============================] - 0s 110us/sample - loss: 0.1334 - accuracy: 0.8923 - val_loss: 0.1154 - val_accuracy: 0.8684\n",
            "Epoch 3/100\n",
            "455/455 [==============================] - 0s 92us/sample - loss: 0.1079 - accuracy: 0.8945 - val_loss: 0.0963 - val_accuracy: 0.8772\n",
            "Epoch 4/100\n",
            "455/455 [==============================] - 0s 92us/sample - loss: 0.0939 - accuracy: 0.9121 - val_loss: 0.0857 - val_accuracy: 0.8947\n",
            "Epoch 5/100\n",
            "455/455 [==============================] - 0s 108us/sample - loss: 0.0860 - accuracy: 0.9011 - val_loss: 0.0786 - val_accuracy: 0.9035\n",
            "Epoch 6/100\n",
            "455/455 [==============================] - 0s 102us/sample - loss: 0.0805 - accuracy: 0.9143 - val_loss: 0.0735 - val_accuracy: 0.9035\n",
            "Epoch 7/100\n",
            "455/455 [==============================] - 0s 104us/sample - loss: 0.0771 - accuracy: 0.9077 - val_loss: 0.0716 - val_accuracy: 0.9035\n",
            "Epoch 8/100\n",
            "455/455 [==============================] - 0s 102us/sample - loss: 0.0743 - accuracy: 0.9231 - val_loss: 0.0666 - val_accuracy: 0.8947\n",
            "Epoch 9/100\n",
            "455/455 [==============================] - 0s 105us/sample - loss: 0.0737 - accuracy: 0.9187 - val_loss: 0.0667 - val_accuracy: 0.9035\n",
            "Epoch 10/100\n",
            "455/455 [==============================] - 0s 104us/sample - loss: 0.0711 - accuracy: 0.9209 - val_loss: 0.0638 - val_accuracy: 0.8860\n",
            "Epoch 11/100\n",
            "455/455 [==============================] - 0s 98us/sample - loss: 0.0696 - accuracy: 0.9209 - val_loss: 0.0621 - val_accuracy: 0.8947\n",
            "Epoch 12/100\n",
            "455/455 [==============================] - 0s 95us/sample - loss: 0.0687 - accuracy: 0.9209 - val_loss: 0.0614 - val_accuracy: 0.8947\n",
            "Epoch 13/100\n",
            "455/455 [==============================] - 0s 93us/sample - loss: 0.0678 - accuracy: 0.9209 - val_loss: 0.0603 - val_accuracy: 0.8947\n",
            "Epoch 14/100\n",
            "455/455 [==============================] - 0s 89us/sample - loss: 0.0668 - accuracy: 0.9231 - val_loss: 0.0588 - val_accuracy: 0.9123\n",
            "Epoch 15/100\n",
            "455/455 [==============================] - 0s 94us/sample - loss: 0.0668 - accuracy: 0.9209 - val_loss: 0.0574 - val_accuracy: 0.9211\n",
            "Epoch 16/100\n",
            "455/455 [==============================] - 0s 92us/sample - loss: 0.0661 - accuracy: 0.9231 - val_loss: 0.0573 - val_accuracy: 0.9123\n",
            "Epoch 17/100\n",
            "455/455 [==============================] - 0s 95us/sample - loss: 0.0653 - accuracy: 0.9253 - val_loss: 0.0570 - val_accuracy: 0.9123\n",
            "Epoch 18/100\n",
            "455/455 [==============================] - 0s 98us/sample - loss: 0.0645 - accuracy: 0.9231 - val_loss: 0.0552 - val_accuracy: 0.9211\n",
            "Epoch 19/100\n",
            "455/455 [==============================] - 0s 101us/sample - loss: 0.0641 - accuracy: 0.9231 - val_loss: 0.0554 - val_accuracy: 0.9211\n",
            "Epoch 20/100\n",
            "455/455 [==============================] - 0s 89us/sample - loss: 0.0639 - accuracy: 0.9231 - val_loss: 0.0537 - val_accuracy: 0.9211\n",
            "Epoch 21/100\n",
            "455/455 [==============================] - 0s 92us/sample - loss: 0.0636 - accuracy: 0.9143 - val_loss: 0.0541 - val_accuracy: 0.9211\n",
            "Epoch 22/100\n",
            "455/455 [==============================] - 0s 93us/sample - loss: 0.0659 - accuracy: 0.9165 - val_loss: 0.0549 - val_accuracy: 0.9211\n",
            "Epoch 23/100\n",
            "455/455 [==============================] - 0s 90us/sample - loss: 0.0634 - accuracy: 0.9187 - val_loss: 0.0506 - val_accuracy: 0.9123\n",
            "Epoch 24/100\n",
            "455/455 [==============================] - 0s 86us/sample - loss: 0.0629 - accuracy: 0.9143 - val_loss: 0.0539 - val_accuracy: 0.9211\n",
            "Epoch 25/100\n",
            "455/455 [==============================] - 0s 100us/sample - loss: 0.0626 - accuracy: 0.9231 - val_loss: 0.0520 - val_accuracy: 0.9211\n",
            "Epoch 26/100\n",
            "455/455 [==============================] - 0s 103us/sample - loss: 0.0621 - accuracy: 0.9253 - val_loss: 0.0514 - val_accuracy: 0.9211\n",
            "Epoch 27/100\n",
            "455/455 [==============================] - 0s 102us/sample - loss: 0.0621 - accuracy: 0.9187 - val_loss: 0.0505 - val_accuracy: 0.9211\n",
            "Epoch 28/100\n",
            "455/455 [==============================] - 0s 96us/sample - loss: 0.0616 - accuracy: 0.9231 - val_loss: 0.0515 - val_accuracy: 0.9211\n",
            "Epoch 29/100\n",
            "455/455 [==============================] - 0s 98us/sample - loss: 0.0624 - accuracy: 0.9209 - val_loss: 0.0502 - val_accuracy: 0.9211\n",
            "Epoch 30/100\n",
            "455/455 [==============================] - 0s 103us/sample - loss: 0.0616 - accuracy: 0.9253 - val_loss: 0.0506 - val_accuracy: 0.9211\n",
            "Epoch 31/100\n",
            "455/455 [==============================] - 0s 95us/sample - loss: 0.0609 - accuracy: 0.9231 - val_loss: 0.0488 - val_accuracy: 0.9211\n",
            "Epoch 32/100\n",
            "455/455 [==============================] - 0s 104us/sample - loss: 0.0605 - accuracy: 0.9209 - val_loss: 0.0498 - val_accuracy: 0.9211\n",
            "Epoch 33/100\n",
            "455/455 [==============================] - 0s 94us/sample - loss: 0.0611 - accuracy: 0.9143 - val_loss: 0.0507 - val_accuracy: 0.9298\n",
            "Epoch 34/100\n",
            "455/455 [==============================] - 0s 93us/sample - loss: 0.0604 - accuracy: 0.9231 - val_loss: 0.0483 - val_accuracy: 0.9211\n",
            "Epoch 35/100\n",
            "455/455 [==============================] - 0s 87us/sample - loss: 0.0606 - accuracy: 0.9187 - val_loss: 0.0487 - val_accuracy: 0.9211\n",
            "Epoch 36/100\n",
            "455/455 [==============================] - 0s 94us/sample - loss: 0.0600 - accuracy: 0.9187 - val_loss: 0.0481 - val_accuracy: 0.9211\n",
            "Epoch 37/100\n",
            "455/455 [==============================] - 0s 92us/sample - loss: 0.0600 - accuracy: 0.9209 - val_loss: 0.0482 - val_accuracy: 0.9211\n",
            "Epoch 38/100\n",
            "455/455 [==============================] - 0s 102us/sample - loss: 0.0595 - accuracy: 0.9209 - val_loss: 0.0472 - val_accuracy: 0.9211\n",
            "Epoch 39/100\n",
            "455/455 [==============================] - 0s 101us/sample - loss: 0.0597 - accuracy: 0.9187 - val_loss: 0.0463 - val_accuracy: 0.9298\n",
            "Epoch 40/100\n",
            "455/455 [==============================] - 0s 96us/sample - loss: 0.0600 - accuracy: 0.9209 - val_loss: 0.0467 - val_accuracy: 0.9211\n",
            "Epoch 41/100\n",
            "455/455 [==============================] - 0s 90us/sample - loss: 0.0587 - accuracy: 0.9231 - val_loss: 0.0487 - val_accuracy: 0.9298\n",
            "Epoch 42/100\n",
            "455/455 [==============================] - 0s 99us/sample - loss: 0.0599 - accuracy: 0.9143 - val_loss: 0.0470 - val_accuracy: 0.9298\n",
            "Epoch 43/100\n",
            "455/455 [==============================] - 0s 97us/sample - loss: 0.0607 - accuracy: 0.9253 - val_loss: 0.0458 - val_accuracy: 0.9298\n",
            "Epoch 44/100\n",
            "455/455 [==============================] - 0s 91us/sample - loss: 0.0597 - accuracy: 0.9165 - val_loss: 0.0442 - val_accuracy: 0.9298\n",
            "Epoch 45/100\n",
            "455/455 [==============================] - 0s 95us/sample - loss: 0.0605 - accuracy: 0.9209 - val_loss: 0.0465 - val_accuracy: 0.9298\n",
            "Epoch 46/100\n",
            "455/455 [==============================] - 0s 92us/sample - loss: 0.0590 - accuracy: 0.9253 - val_loss: 0.0459 - val_accuracy: 0.9298\n",
            "Epoch 47/100\n",
            "455/455 [==============================] - 0s 102us/sample - loss: 0.0589 - accuracy: 0.9165 - val_loss: 0.0460 - val_accuracy: 0.9298\n",
            "Epoch 48/100\n",
            "455/455 [==============================] - 0s 95us/sample - loss: 0.0585 - accuracy: 0.9209 - val_loss: 0.0458 - val_accuracy: 0.9298\n",
            "Epoch 49/100\n",
            "455/455 [==============================] - 0s 100us/sample - loss: 0.0593 - accuracy: 0.9253 - val_loss: 0.0447 - val_accuracy: 0.9386\n",
            "Epoch 50/100\n",
            "455/455 [==============================] - 0s 108us/sample - loss: 0.0577 - accuracy: 0.9187 - val_loss: 0.0435 - val_accuracy: 0.9386\n",
            "Epoch 51/100\n",
            "455/455 [==============================] - 0s 92us/sample - loss: 0.0579 - accuracy: 0.9187 - val_loss: 0.0441 - val_accuracy: 0.9386\n",
            "Epoch 52/100\n",
            "455/455 [==============================] - 0s 98us/sample - loss: 0.0580 - accuracy: 0.9253 - val_loss: 0.0441 - val_accuracy: 0.9386\n",
            "Epoch 53/100\n",
            "455/455 [==============================] - 0s 100us/sample - loss: 0.0570 - accuracy: 0.9231 - val_loss: 0.0446 - val_accuracy: 0.9386\n",
            "Epoch 54/100\n",
            "455/455 [==============================] - 0s 98us/sample - loss: 0.0568 - accuracy: 0.9231 - val_loss: 0.0432 - val_accuracy: 0.9474\n",
            "Epoch 55/100\n",
            "455/455 [==============================] - 0s 101us/sample - loss: 0.0573 - accuracy: 0.9165 - val_loss: 0.0437 - val_accuracy: 0.9386\n",
            "Epoch 56/100\n",
            "455/455 [==============================] - 0s 104us/sample - loss: 0.0572 - accuracy: 0.9253 - val_loss: 0.0435 - val_accuracy: 0.9386\n",
            "Epoch 57/100\n",
            "455/455 [==============================] - 0s 100us/sample - loss: 0.0569 - accuracy: 0.9165 - val_loss: 0.0417 - val_accuracy: 0.9298\n",
            "Epoch 58/100\n",
            "455/455 [==============================] - 0s 93us/sample - loss: 0.0561 - accuracy: 0.9209 - val_loss: 0.0446 - val_accuracy: 0.9474\n",
            "Epoch 59/100\n",
            "455/455 [==============================] - 0s 92us/sample - loss: 0.0571 - accuracy: 0.9253 - val_loss: 0.0427 - val_accuracy: 0.9474\n",
            "Epoch 60/100\n",
            "455/455 [==============================] - 0s 94us/sample - loss: 0.0566 - accuracy: 0.9165 - val_loss: 0.0410 - val_accuracy: 0.9298\n",
            "Epoch 61/100\n",
            "455/455 [==============================] - 0s 105us/sample - loss: 0.0581 - accuracy: 0.9187 - val_loss: 0.0440 - val_accuracy: 0.9474\n",
            "Epoch 62/100\n",
            "455/455 [==============================] - 0s 86us/sample - loss: 0.0569 - accuracy: 0.9253 - val_loss: 0.0439 - val_accuracy: 0.9474\n",
            "Epoch 63/100\n",
            "455/455 [==============================] - 0s 100us/sample - loss: 0.0564 - accuracy: 0.9253 - val_loss: 0.0421 - val_accuracy: 0.9474\n",
            "Epoch 64/100\n",
            "455/455 [==============================] - 0s 91us/sample - loss: 0.0557 - accuracy: 0.9275 - val_loss: 0.0408 - val_accuracy: 0.9474\n",
            "Epoch 65/100\n",
            "455/455 [==============================] - 0s 91us/sample - loss: 0.0561 - accuracy: 0.9231 - val_loss: 0.0427 - val_accuracy: 0.9386\n",
            "Epoch 66/100\n",
            "455/455 [==============================] - 0s 91us/sample - loss: 0.0556 - accuracy: 0.9253 - val_loss: 0.0412 - val_accuracy: 0.9474\n",
            "Epoch 67/100\n",
            "455/455 [==============================] - 0s 93us/sample - loss: 0.0568 - accuracy: 0.9275 - val_loss: 0.0423 - val_accuracy: 0.9561\n",
            "Epoch 68/100\n",
            "455/455 [==============================] - 0s 101us/sample - loss: 0.0550 - accuracy: 0.9253 - val_loss: 0.0402 - val_accuracy: 0.9474\n",
            "Epoch 69/100\n",
            "455/455 [==============================] - 0s 96us/sample - loss: 0.0561 - accuracy: 0.9165 - val_loss: 0.0405 - val_accuracy: 0.9474\n",
            "Epoch 70/100\n",
            "455/455 [==============================] - 0s 96us/sample - loss: 0.0548 - accuracy: 0.9253 - val_loss: 0.0413 - val_accuracy: 0.9474\n",
            "Epoch 71/100\n",
            "455/455 [==============================] - 0s 94us/sample - loss: 0.0562 - accuracy: 0.9165 - val_loss: 0.0412 - val_accuracy: 0.9474\n",
            "Epoch 72/100\n",
            "455/455 [==============================] - 0s 104us/sample - loss: 0.0556 - accuracy: 0.9275 - val_loss: 0.0395 - val_accuracy: 0.9474\n",
            "Epoch 73/100\n",
            "455/455 [==============================] - 0s 98us/sample - loss: 0.0543 - accuracy: 0.9209 - val_loss: 0.0398 - val_accuracy: 0.9474\n",
            "Epoch 74/100\n",
            "455/455 [==============================] - 0s 96us/sample - loss: 0.0550 - accuracy: 0.9275 - val_loss: 0.0395 - val_accuracy: 0.9474\n",
            "Epoch 75/100\n",
            "455/455 [==============================] - 0s 90us/sample - loss: 0.0548 - accuracy: 0.9231 - val_loss: 0.0403 - val_accuracy: 0.9474\n",
            "Epoch 76/100\n",
            "455/455 [==============================] - 0s 93us/sample - loss: 0.0562 - accuracy: 0.9275 - val_loss: 0.0401 - val_accuracy: 0.9474\n",
            "Epoch 77/100\n",
            "455/455 [==============================] - 0s 88us/sample - loss: 0.0540 - accuracy: 0.9231 - val_loss: 0.0387 - val_accuracy: 0.9474\n",
            "Epoch 78/100\n",
            "455/455 [==============================] - 0s 92us/sample - loss: 0.0539 - accuracy: 0.9187 - val_loss: 0.0395 - val_accuracy: 0.9474\n",
            "Epoch 79/100\n",
            "455/455 [==============================] - 0s 93us/sample - loss: 0.0539 - accuracy: 0.9231 - val_loss: 0.0385 - val_accuracy: 0.9474\n",
            "Epoch 80/100\n",
            "455/455 [==============================] - 0s 98us/sample - loss: 0.0541 - accuracy: 0.9209 - val_loss: 0.0401 - val_accuracy: 0.9561\n",
            "Epoch 81/100\n",
            "455/455 [==============================] - 0s 95us/sample - loss: 0.0540 - accuracy: 0.9319 - val_loss: 0.0381 - val_accuracy: 0.9474\n",
            "Epoch 82/100\n",
            "455/455 [==============================] - 0s 90us/sample - loss: 0.0548 - accuracy: 0.9165 - val_loss: 0.0400 - val_accuracy: 0.9561\n",
            "Epoch 83/100\n",
            "455/455 [==============================] - 0s 98us/sample - loss: 0.0536 - accuracy: 0.9231 - val_loss: 0.0371 - val_accuracy: 0.9386\n",
            "Epoch 84/100\n",
            "455/455 [==============================] - 0s 93us/sample - loss: 0.0537 - accuracy: 0.9231 - val_loss: 0.0386 - val_accuracy: 0.9474\n",
            "Epoch 85/100\n",
            "455/455 [==============================] - 0s 95us/sample - loss: 0.0532 - accuracy: 0.9319 - val_loss: 0.0383 - val_accuracy: 0.9474\n",
            "Epoch 86/100\n",
            "455/455 [==============================] - 0s 88us/sample - loss: 0.0533 - accuracy: 0.9209 - val_loss: 0.0383 - val_accuracy: 0.9474\n",
            "Epoch 87/100\n",
            "455/455 [==============================] - 0s 93us/sample - loss: 0.0539 - accuracy: 0.9297 - val_loss: 0.0386 - val_accuracy: 0.9561\n",
            "Epoch 88/100\n",
            "455/455 [==============================] - 0s 98us/sample - loss: 0.0539 - accuracy: 0.9297 - val_loss: 0.0367 - val_accuracy: 0.9386\n",
            "Epoch 89/100\n",
            "455/455 [==============================] - 0s 95us/sample - loss: 0.0541 - accuracy: 0.9231 - val_loss: 0.0400 - val_accuracy: 0.9561\n",
            "Epoch 90/100\n",
            "455/455 [==============================] - 0s 98us/sample - loss: 0.0564 - accuracy: 0.9209 - val_loss: 0.0374 - val_accuracy: 0.9474\n",
            "Epoch 91/100\n",
            "455/455 [==============================] - 0s 100us/sample - loss: 0.0540 - accuracy: 0.9253 - val_loss: 0.0369 - val_accuracy: 0.9474\n",
            "Epoch 92/100\n",
            "455/455 [==============================] - 0s 98us/sample - loss: 0.0532 - accuracy: 0.9297 - val_loss: 0.0372 - val_accuracy: 0.9474\n",
            "Epoch 93/100\n",
            "455/455 [==============================] - 0s 97us/sample - loss: 0.0527 - accuracy: 0.9341 - val_loss: 0.0370 - val_accuracy: 0.9474\n",
            "Epoch 94/100\n",
            "455/455 [==============================] - 0s 136us/sample - loss: 0.0525 - accuracy: 0.9253 - val_loss: 0.0365 - val_accuracy: 0.9474\n",
            "Epoch 95/100\n",
            "455/455 [==============================] - 0s 96us/sample - loss: 0.0533 - accuracy: 0.9275 - val_loss: 0.0363 - val_accuracy: 0.9474\n",
            "Epoch 96/100\n",
            "455/455 [==============================] - 0s 96us/sample - loss: 0.0526 - accuracy: 0.9209 - val_loss: 0.0369 - val_accuracy: 0.9561\n",
            "Epoch 97/100\n",
            "455/455 [==============================] - 0s 94us/sample - loss: 0.0523 - accuracy: 0.9319 - val_loss: 0.0377 - val_accuracy: 0.9561\n",
            "Epoch 98/100\n",
            "455/455 [==============================] - 0s 111us/sample - loss: 0.0525 - accuracy: 0.9231 - val_loss: 0.0357 - val_accuracy: 0.9386\n",
            "Epoch 99/100\n",
            "455/455 [==============================] - 0s 102us/sample - loss: 0.0531 - accuracy: 0.9231 - val_loss: 0.0382 - val_accuracy: 0.9561\n",
            "Epoch 100/100\n",
            "455/455 [==============================] - 0s 107us/sample - loss: 0.0533 - accuracy: 0.9253 - val_loss: 0.0360 - val_accuracy: 0.9474\n"
          ],
          "name": "stdout"
        }
      ]
    },
    {
      "cell_type": "markdown",
      "metadata": {
        "id": "1y228YXx-W2w",
        "colab_type": "text"
      },
      "source": [
        "## Training visualization\n",
        "\n",
        "To spot over and underfitting, the training and validation loss and accuracy are plotted."
      ]
    },
    {
      "cell_type": "code",
      "metadata": {
        "id": "y6wG9QJt7XPE",
        "colab_type": "code",
        "outputId": "68fe9b0e-031d-467b-89c0-7b8e05b945e3",
        "colab": {
          "base_uri": "https://localhost:8080/",
          "height": 499
        }
      },
      "source": [
        "fig = plt.figure(figsize=(16,8))\n",
        "plt.plot(history.history['loss'])\n",
        "plt.plot(history.history['val_loss'])\n",
        "plt.legend(['loss', 'val_loss'])\n",
        "plt.title('Losses')\n",
        "plt.show()"
      ],
      "execution_count": 0,
      "outputs": [
        {
          "output_type": "display_data",
          "data": {
            "image/png": "[encoded data removed]",
            "text/plain": [
              "<Figure size 1152x576 with 1 Axes>"
            ]
          },
          "metadata": {
            "tags": []
          }
        }
      ]
    },
    {
      "cell_type": "code",
      "metadata": {
        "id": "saV-ISAw7bAE",
        "colab_type": "code",
        "outputId": "15a999de-455a-4e11-cd58-c195d31f32f7",
        "colab": {
          "base_uri": "https://localhost:8080/",
          "height": 499
        }
      },
      "source": [
        "fig = plt.figure(figsize=(16,8))\n",
        "plt.plot(history.history['accuracy'])\n",
        "plt.plot(history.history['val_accuracy'])\n",
        "plt.legend(['accuracy', 'val_accuracy'])\n",
        "plt.title('Accuracy')\n",
        "plt.show()"
      ],
      "execution_count": 0,
      "outputs": [
        {
          "output_type": "display_data",
          "data": {
            "image/png": "[encoded data removed]",
            "text/plain": [
              "<Figure size 1152x576 with 1 Axes>"
            ]
          },
          "metadata": {
            "tags": []
          }
        }
      ]
    },
    {
      "cell_type": "markdown",
      "metadata": {
        "id": "fjFpG_DD-bfb",
        "colab_type": "text"
      },
      "source": [
        "## Validation\n",
        "\n",
        "The task is to maximize the accuracy on the validation dataset."
      ]
    },
    {
      "cell_type": "code",
      "metadata": {
        "id": "yT9Hsls2S7v6",
        "colab_type": "code",
        "outputId": "71ff03ce-b839-4e28-ea3a-7c42b55d59a9",
        "colab": {
          "base_uri": "https://localhost:8080/",
          "height": 34
        }
      },
      "source": [
        "decision_boundary = 0.5\n",
        "\n",
        "prediction = np.round(model.predict(x_test_norm)[:,0]+0.5-decision_boundary,0).astype(int)\n",
        "\n",
        "accuracy = (np.sum(np.multiply(prediction==1, y_test==1))+np.sum(np.multiply(prediction==0, y_test==0)))/len(y_test)\n",
        "\n",
        "print(f'accuracy: {accuracy}')"
      ],
      "execution_count": 0,
      "outputs": [
        {
          "output_type": "stream",
          "text": [
            "accuracy: 0.9473684210526315\n"
          ],
          "name": "stdout"
        }
      ]
    }
  ]
}