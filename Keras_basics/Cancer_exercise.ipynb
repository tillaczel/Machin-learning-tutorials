{
  "nbformat": 4,
  "nbformat_minor": 0,
  "metadata": {
    "colab": {
      "name": "Cancer exercise.ipynb ",
      "provenance": [],
      "include_colab_link": true
    },
    "kernelspec": {
      "name": "python3",
      "display_name": "Python 3"
    }
  },
  "cells": [
    {
      "cell_type": "markdown",
      "metadata": {
        "id": "view-in-github",
        "colab_type": "text"
      },
      "source": [
        "<a href=\"https://colab.research.google.com/github/tillaczel/Machine-learning-workshop/blob/resturcture/Keras_basics/Cancer_exercise.ipynb\" target=\"_parent\"><img src=\"https://colab.research.google.com/assets/colab-badge.svg\" alt=\"Open In Colab\"/></a>"
      ]
    },
    {
      "cell_type": "markdown",
      "metadata": {
        "id": "jUNE5lYP86vr",
        "colab_type": "text"
      },
      "source": [
        "# Predicting probability of cancer\n",
        "In this notebook your task is to build a model, which can predict the probability of cancer given a sample.\n",
        "All code is complete except the build_model() function."
      ]
    },
    {
      "cell_type": "markdown",
      "metadata": {
        "id": "B1tQRQdC9hoh",
        "colab_type": "text"
      },
      "source": [
        "## Install and import\n",
        "First let's upgrade tensorflow to 2.0, then import all the nescecary libraries."
      ]
    },
    {
      "cell_type": "code",
      "metadata": {
        "id": "glrSqx0Whhxt",
        "colab_type": "code",
        "colab": {}
      },
      "source": [
        "!pip install tensorflow --upgrade\n",
        "\n",
        "from tensorflow.keras.models import Sequential\n",
        "from tensorflow.keras.layers import Dense\n",
        "from tensorflow.keras import optimizers\n",
        "import numpy as np\n",
        "import matplotlib.pyplot as plt\n",
        "\n",
        "from sklearn.datasets import load_breast_cancer\n",
        "from sklearn.utils import shuffle"
      ],
      "execution_count": 0,
      "outputs": []
    },
    {
      "cell_type": "markdown",
      "metadata": {
        "id": "c9oxHQkB9xxp",
        "colab_type": "text"
      },
      "source": [
        "## Importing and understanding the dataset\n",
        "\n",
        "We are using the breast cancer dataset from sklearn.\n",
        "The description of the dataset is printed out."
      ]
    },
    {
      "cell_type": "code",
      "metadata": {
        "id": "saxvHPzy6WG0",
        "colab_type": "code",
        "colab": {}
      },
      "source": [
        "dataset = load_breast_cancer()\n",
        "print(dataset.DESCR)"
      ],
      "execution_count": 0,
      "outputs": []
    },
    {
      "cell_type": "markdown",
      "metadata": {
        "id": "PLcz8J0c-Pac",
        "colab_type": "text"
      },
      "source": [
        "## Prepare data\n",
        "\n",
        "To avoid bias in the training data, the data needs to be shuffled before the train validation split. We are using a 80% validation split."
      ]
    },
    {
      "cell_type": "code",
      "metadata": {
        "id": "aoACwUGs_egK",
        "colab_type": "code",
        "colab": {}
      },
      "source": [
        "x, y = shuffle(dataset.data, dataset.target, random_state=1)\n",
        "\n",
        "train_ratio = 0.8\n",
        "x_train, y_train = x[:int(train_ratio*len(x))], y[:int(train_ratio*len(y))]\n",
        "x_test, y_test = x[int(train_ratio*len(x)):], y[int(train_ratio*len(y)):]"
      ],
      "execution_count": 0,
      "outputs": []
    },
    {
      "cell_type": "markdown",
      "metadata": {
        "id": "NK8JeBdG-6DQ",
        "colab_type": "text"
      },
      "source": [
        "After printing out the dataset it can be seen, that the input needs to be normalized."
      ]
    },
    {
      "cell_type": "code",
      "metadata": {
        "id": "uiuQUbig8Mic",
        "colab_type": "code",
        "colab": {}
      },
      "source": [
        "print(x_train)\n",
        "print(y_train)"
      ],
      "execution_count": 0,
      "outputs": []
    },
    {
      "cell_type": "markdown",
      "metadata": {
        "id": "hhLbJl8e_B4i",
        "colab_type": "text"
      },
      "source": [
        "To avoid information leakage, the mean and standard deviation for the normalization needs to be calculated only on the training dataset. For numerical stability 1e+6 is added to the standard deviation."
      ]
    },
    {
      "cell_type": "code",
      "metadata": {
        "id": "8uKSRSfdAjTx",
        "colab_type": "code",
        "colab": {}
      },
      "source": [
        "mean = np.mean(x_train)\n",
        "std = np.std(x_train)\n",
        "\n",
        "x_train_norm, x_test_norm = (x_train-mean)/(std+1e-6), (x_test-mean)/(std+1e-6)"
      ],
      "execution_count": 0,
      "outputs": []
    },
    {
      "cell_type": "code",
      "metadata": {
        "id": "-2sEHhrB8WYT",
        "colab_type": "code",
        "colab": {}
      },
      "source": [
        "print(x_train_norm)"
      ],
      "execution_count": 0,
      "outputs": []
    },
    {
      "cell_type": "markdown",
      "metadata": {
        "id": "wKXA2BBG-Ttj",
        "colab_type": "text"
      },
      "source": [
        "## Task\n",
        "\n",
        "Complete the build_model() function!"
      ]
    },
    {
      "cell_type": "code",
      "metadata": {
        "id": "Ym1dWpMJiJCg",
        "colab_type": "code",
        "colab": {}
      },
      "source": [
        "def build_model(x_train_norm, y_train, x_test_norm, y_test):\n",
        "\n",
        "    return model, history"
      ],
      "execution_count": 0,
      "outputs": []
    },
    {
      "cell_type": "code",
      "metadata": {
        "id": "nlQNqCh47d0N",
        "colab_type": "code",
        "colab": {}
      },
      "source": [
        "model, history = build_model(x_train_norm, y_train, x_test_norm, y_test)"
      ],
      "execution_count": 0,
      "outputs": []
    },
    {
      "cell_type": "markdown",
      "metadata": {
        "id": "1y228YXx-W2w",
        "colab_type": "text"
      },
      "source": [
        "## Training visualization\n",
        "\n",
        "To spot over and underfitting, the training and validation loss and accuracy are plotted."
      ]
    },
    {
      "cell_type": "code",
      "metadata": {
        "id": "y6wG9QJt7XPE",
        "colab_type": "code",
        "colab": {}
      },
      "source": [
        "fig = plt.figure(figsize=(16,8))\n",
        "plt.plot(history.history['loss'])\n",
        "plt.plot(history.history['val_loss'])\n",
        "plt.legend(['loss', 'val_loss'])\n",
        "plt.title('Losses')\n",
        "plt.show()"
      ],
      "execution_count": 0,
      "outputs": []
    },
    {
      "cell_type": "code",
      "metadata": {
        "id": "saV-ISAw7bAE",
        "colab_type": "code",
        "colab": {}
      },
      "source": [
        "fig = plt.figure(figsize=(16,8))\n",
        "plt.plot(history.history['accuracy'])\n",
        "plt.plot(history.history['val_accuracy'])\n",
        "plt.legend(['accuracy', 'val_accuracy'])\n",
        "plt.title('Accuracy')\n",
        "plt.show()"
      ],
      "execution_count": 0,
      "outputs": []
    },
    {
      "cell_type": "markdown",
      "metadata": {
        "id": "fjFpG_DD-bfb",
        "colab_type": "text"
      },
      "source": [
        "## Validation\n",
        "\n",
        "The task is to maximize the accuracy on the validation dataset."
      ]
    },
    {
      "cell_type": "code",
      "metadata": {
        "id": "yT9Hsls2S7v6",
        "colab_type": "code",
        "colab": {}
      },
      "source": [
        "decision_boundary = 0.5\n",
        "\n",
        "prediction = np.round(model.predict(x_test_norm)[:,0]+0.5-decision_boundary,0).astype(int)\n",
        "\n",
        "accuracy = (np.sum(np.multiply(prediction==1, y_test==1))+np.sum(np.multiply(prediction==0, y_test==0)))/len(y_test)\n",
        "\n",
        "print(f'accuracy: {accuracy}')"
      ],
      "execution_count": 0,
      "outputs": []
    }
  ]
}