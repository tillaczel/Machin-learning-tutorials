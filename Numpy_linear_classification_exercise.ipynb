{
  "nbformat": 4,
  "nbformat_minor": 0,
  "metadata": {
    "kernelspec": {
      "display_name": "Python 3",
      "language": "python",
      "name": "python3"
    },
    "language_info": {
      "codemirror_mode": {
        "name": "ipython",
        "version": 3
      },
      "file_extension": ".py",
      "mimetype": "text/x-python",
      "name": "python",
      "nbconvert_exporter": "python",
      "pygments_lexer": "ipython3",
      "version": "3.7.0"
    },
    "colab": {
      "name": "Numpy linear classification exercise.ipynb",
      "provenance": [],
      "collapsed_sections": [],
      "include_colab_link": true
    }
  },
  "cells": [
    {
      "cell_type": "markdown",
      "metadata": {
        "id": "view-in-github",
        "colab_type": "text"
      },
      "source": [
        "<a href=\"https://colab.research.google.com/github/tillaczel/Machine-learning-workshop/blob/master/Numpy_linear_classification_exercise.ipynb\" target=\"_parent\"><img src=\"https://colab.research.google.com/assets/colab-badge.svg\" alt=\"Open In Colab\"/></a>"
      ]
    },
    {
      "cell_type": "markdown",
      "metadata": {
        "id": "hQER_BvIkHyZ",
        "colab_type": "text"
      },
      "source": [
        "# Linear classification\n",
        "Build a neural network, which can classify lineary separable data. The classifier should be a logistic regression with a treshold of 0.5. Use MSE for the loss function. Complete the code in the 'TASK: defining the neural network' section.\n"
      ]
    },
    {
      "cell_type": "markdown",
      "metadata": {
        "id": "RVUeGzjOkHyg",
        "colab_type": "text"
      },
      "source": [
        "## Importing libraries"
      ]
    },
    {
      "cell_type": "code",
      "metadata": {
        "id": "a_3FTwn9kHy1",
        "colab_type": "code",
        "colab": {}
      },
      "source": [
        "import numpy as np\n",
        "import matplotlib.pyplot as plt"
      ],
      "execution_count": 0,
      "outputs": []
    },
    {
      "cell_type": "markdown",
      "metadata": {
        "id": "By0styH7kHzC",
        "colab_type": "text"
      },
      "source": [
        "## Defineing visualization"
      ]
    },
    {
      "cell_type": "code",
      "metadata": {
        "id": "jBDK_daT8UnU",
        "colab_type": "code",
        "colab": {}
      },
      "source": [
        "def vis(X,Y,title):\n",
        "    fig = plt.figure(figsize=(8,8))\n",
        "    \n",
        "    plt.subplot(2,1,1)\n",
        "    plt.scatter(X[:,0], X[:,1], c=Y)\n",
        "    plt.title(title)"
      ],
      "execution_count": 0,
      "outputs": []
    },
    {
      "cell_type": "markdown",
      "metadata": {
        "id": "kYtQFw-d8btP",
        "colab_type": "text"
      },
      "source": [
        "## TASK: Defineing the neural network"
      ]
    },
    {
      "cell_type": "code",
      "metadata": {
        "id": "ipg7QPQCkHzF",
        "colab_type": "code",
        "colab": {}
      },
      "source": [
        "class neuron():\n",
        "\n",
        "    def __init__(self,learning_rate):\n",
        "\n",
        "\n",
        "    def predict(self,X):\n",
        "\n",
        "\n",
        "    def train(self,X,Y,epoch):\n"
      ],
      "execution_count": 0,
      "outputs": []
    },
    {
      "cell_type": "markdown",
      "metadata": {
        "id": "2mTYFyRvkH0l",
        "colab_type": "text"
      },
      "source": [
        "## Training the model"
      ]
    },
    {
      "cell_type": "code",
      "metadata": {
        "id": "ZEyw4Pi3kH0u",
        "colab_type": "code",
        "colab": {}
      },
      "source": [
        "learning_rate = 0.01\n",
        "model = neuron(learning_rate)"
      ],
      "execution_count": 0,
      "outputs": []
    },
    {
      "cell_type": "markdown",
      "metadata": {
        "id": "Y1bF8f9LkH06",
        "colab_type": "text"
      },
      "source": [
        "Creating the data and saving the prediction of the initialized model."
      ]
    },
    {
      "cell_type": "code",
      "metadata": {
        "id": "qCtXgXKfkH1H",
        "colab_type": "code",
        "colab": {}
      },
      "source": [
        "X = np.random.rand(10000,2)*2-1\n",
        "Y = np.clip((X[:,1]-X[:,0])*np.inf,0,1)\n",
        "vis(X, Y, 'Training data')\n",
        "old_model_prediction = model.predict(X)"
      ],
      "execution_count": 0,
      "outputs": []
    },
    {
      "cell_type": "markdown",
      "metadata": {
        "id": "HMov-HzJkH1Q",
        "colab_type": "text"
      },
      "source": [
        "Training the network and visualizing the resutls"
      ]
    },
    {
      "cell_type": "code",
      "metadata": {
        "colab_type": "code",
        "id": "i3XvHZNd8-Ak",
        "colab": {}
      },
      "source": [
        "model.train(X,Y,10000)\n",
        "vis(X, np.round(old_model_prediction), 'Prediction of the model before training')\n",
        "vis(X, np.round(model.predict(X)), 'Prediction of the model after training')"
      ],
      "execution_count": 0,
      "outputs": []
    }
  ]
}