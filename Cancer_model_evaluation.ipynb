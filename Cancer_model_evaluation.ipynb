{
  "nbformat": 4,
  "nbformat_minor": 0,
  "metadata": {
    "colab": {
      "name": "Cancer model evaluation.ipynb",
      "provenance": [],
      "include_colab_link": true
    },
    "kernelspec": {
      "name": "python3",
      "display_name": "Python 3"
    }
  },
  "cells": [
    {
      "cell_type": "markdown",
      "metadata": {
        "id": "view-in-github",
        "colab_type": "text"
      },
      "source": [
        "<a href=\"https://colab.research.google.com/github/tillaczel/Machine-learning-workshop/blob/master/Cancer_model_evaluation.ipynb\" target=\"_parent\"><img src=\"https://colab.research.google.com/assets/colab-badge.svg\" alt=\"Open In Colab\"/></a>"
      ]
    },
    {
      "cell_type": "markdown",
      "metadata": {
        "id": "jUNE5lYP86vr",
        "colab_type": "text"
      },
      "source": [
        "# Predicting probability of cancer with k-fold cross valiadtion and f1 score\n",
        "This notebook builds upon the previus excercise (https://github.com/tillaczel/Machine-learning-workshop/blob/master/Cancer_excercise.ipynb). It is extended with k-fold cross valiadtion and the f1 score"
      ]
    },
    {
      "cell_type": "markdown",
      "metadata": {
        "id": "B1tQRQdC9hoh",
        "colab_type": "text"
      },
      "source": [
        "## Install and import\n",
        "First let's upgrade tensorflow to 2.0, then import all the nescecary libraries."
      ]
    },
    {
      "cell_type": "code",
      "metadata": {
        "id": "glrSqx0Whhxt",
        "colab_type": "code",
        "colab": {
          "base_uri": "https://localhost:8080/",
          "height": 608
        },
        "outputId": "50cc654e-b889-41e1-cddd-deae3e805939"
      },
      "source": [
        "!pip install tensorflow --upgrade\n",
        "\n",
        "from tensorflow.keras.models import Sequential\n",
        "from tensorflow.keras.layers import Dense\n",
        "from tensorflow.keras import optimizers\n",
        "import numpy as np\n",
        "import matplotlib.pyplot as plt\n",
        "\n",
        "from sklearn.datasets import load_breast_cancer\n",
        "from sklearn.utils import shuffle"
      ],
      "execution_count": 1,
      "outputs": [
        {
          "output_type": "stream",
          "text": [
            "Requirement already up-to-date: tensorflow in /usr/local/lib/python3.6/dist-packages (2.0.0)\n",
            "Requirement already satisfied, skipping upgrade: tensorflow-estimator<2.1.0,>=2.0.0 in /usr/local/lib/python3.6/dist-packages (from tensorflow) (2.0.1)\n",
            "Requirement already satisfied, skipping upgrade: google-pasta>=0.1.6 in /usr/local/lib/python3.6/dist-packages (from tensorflow) (0.1.8)\n",
            "Requirement already satisfied, skipping upgrade: tensorboard<2.1.0,>=2.0.0 in /usr/local/lib/python3.6/dist-packages (from tensorflow) (2.0.1)\n",
            "Requirement already satisfied, skipping upgrade: numpy<2.0,>=1.16.0 in /usr/local/lib/python3.6/dist-packages (from tensorflow) (1.17.3)\n",
            "Requirement already satisfied, skipping upgrade: keras-preprocessing>=1.0.5 in /usr/local/lib/python3.6/dist-packages (from tensorflow) (1.1.0)\n",
            "Requirement already satisfied, skipping upgrade: gast==0.2.2 in /usr/local/lib/python3.6/dist-packages (from tensorflow) (0.2.2)\n",
            "Requirement already satisfied, skipping upgrade: absl-py>=0.7.0 in /usr/local/lib/python3.6/dist-packages (from tensorflow) (0.8.1)\n",
            "Requirement already satisfied, skipping upgrade: termcolor>=1.1.0 in /usr/local/lib/python3.6/dist-packages (from tensorflow) (1.1.0)\n",
            "Requirement already satisfied, skipping upgrade: opt-einsum>=2.3.2 in /usr/local/lib/python3.6/dist-packages (from tensorflow) (3.1.0)\n",
            "Requirement already satisfied, skipping upgrade: grpcio>=1.8.6 in /usr/local/lib/python3.6/dist-packages (from tensorflow) (1.15.0)\n",
            "Requirement already satisfied, skipping upgrade: astor>=0.6.0 in /usr/local/lib/python3.6/dist-packages (from tensorflow) (0.8.0)\n",
            "Requirement already satisfied, skipping upgrade: six>=1.10.0 in /usr/local/lib/python3.6/dist-packages (from tensorflow) (1.12.0)\n",
            "Requirement already satisfied, skipping upgrade: keras-applications>=1.0.8 in /usr/local/lib/python3.6/dist-packages (from tensorflow) (1.0.8)\n",
            "Requirement already satisfied, skipping upgrade: wheel>=0.26 in /usr/local/lib/python3.6/dist-packages (from tensorflow) (0.33.6)\n",
            "Requirement already satisfied, skipping upgrade: wrapt>=1.11.1 in /usr/local/lib/python3.6/dist-packages (from tensorflow) (1.11.2)\n",
            "Requirement already satisfied, skipping upgrade: protobuf>=3.6.1 in /usr/local/lib/python3.6/dist-packages (from tensorflow) (3.10.0)\n",
            "Requirement already satisfied, skipping upgrade: setuptools>=41.0.0 in /usr/local/lib/python3.6/dist-packages (from tensorboard<2.1.0,>=2.0.0->tensorflow) (41.4.0)\n",
            "Requirement already satisfied, skipping upgrade: google-auth<2,>=1.6.3 in /usr/local/lib/python3.6/dist-packages (from tensorboard<2.1.0,>=2.0.0->tensorflow) (1.7.0)\n",
            "Requirement already satisfied, skipping upgrade: google-auth-oauthlib<0.5,>=0.4.1 in /usr/local/lib/python3.6/dist-packages (from tensorboard<2.1.0,>=2.0.0->tensorflow) (0.4.1)\n",
            "Requirement already satisfied, skipping upgrade: markdown>=2.6.8 in /usr/local/lib/python3.6/dist-packages (from tensorboard<2.1.0,>=2.0.0->tensorflow) (3.1.1)\n",
            "Requirement already satisfied, skipping upgrade: werkzeug>=0.11.15 in /usr/local/lib/python3.6/dist-packages (from tensorboard<2.1.0,>=2.0.0->tensorflow) (0.16.0)\n",
            "Requirement already satisfied, skipping upgrade: h5py in /usr/local/lib/python3.6/dist-packages (from keras-applications>=1.0.8->tensorflow) (2.8.0)\n",
            "Requirement already satisfied, skipping upgrade: cachetools<3.2,>=2.0.0 in /usr/local/lib/python3.6/dist-packages (from google-auth<2,>=1.6.3->tensorboard<2.1.0,>=2.0.0->tensorflow) (3.1.1)\n",
            "Requirement already satisfied, skipping upgrade: rsa<4.1,>=3.1.4 in /usr/local/lib/python3.6/dist-packages (from google-auth<2,>=1.6.3->tensorboard<2.1.0,>=2.0.0->tensorflow) (4.0)\n",
            "Requirement already satisfied, skipping upgrade: pyasn1-modules>=0.2.1 in /usr/local/lib/python3.6/dist-packages (from google-auth<2,>=1.6.3->tensorboard<2.1.0,>=2.0.0->tensorflow) (0.2.7)\n",
            "Requirement already satisfied, skipping upgrade: requests-oauthlib>=0.7.0 in /usr/local/lib/python3.6/dist-packages (from google-auth-oauthlib<0.5,>=0.4.1->tensorboard<2.1.0,>=2.0.0->tensorflow) (1.3.0)\n",
            "Requirement already satisfied, skipping upgrade: pyasn1>=0.1.3 in /usr/local/lib/python3.6/dist-packages (from rsa<4.1,>=3.1.4->google-auth<2,>=1.6.3->tensorboard<2.1.0,>=2.0.0->tensorflow) (0.4.7)\n",
            "Requirement already satisfied, skipping upgrade: oauthlib>=3.0.0 in /usr/local/lib/python3.6/dist-packages (from requests-oauthlib>=0.7.0->google-auth-oauthlib<0.5,>=0.4.1->tensorboard<2.1.0,>=2.0.0->tensorflow) (3.1.0)\n",
            "Requirement already satisfied, skipping upgrade: requests>=2.0.0 in /usr/local/lib/python3.6/dist-packages (from requests-oauthlib>=0.7.0->google-auth-oauthlib<0.5,>=0.4.1->tensorboard<2.1.0,>=2.0.0->tensorflow) (2.21.0)\n",
            "Requirement already satisfied, skipping upgrade: certifi>=2017.4.17 in /usr/local/lib/python3.6/dist-packages (from requests>=2.0.0->requests-oauthlib>=0.7.0->google-auth-oauthlib<0.5,>=0.4.1->tensorboard<2.1.0,>=2.0.0->tensorflow) (2019.9.11)\n",
            "Requirement already satisfied, skipping upgrade: chardet<3.1.0,>=3.0.2 in /usr/local/lib/python3.6/dist-packages (from requests>=2.0.0->requests-oauthlib>=0.7.0->google-auth-oauthlib<0.5,>=0.4.1->tensorboard<2.1.0,>=2.0.0->tensorflow) (3.0.4)\n",
            "Requirement already satisfied, skipping upgrade: idna<2.9,>=2.5 in /usr/local/lib/python3.6/dist-packages (from requests>=2.0.0->requests-oauthlib>=0.7.0->google-auth-oauthlib<0.5,>=0.4.1->tensorboard<2.1.0,>=2.0.0->tensorflow) (2.8)\n",
            "Requirement already satisfied, skipping upgrade: urllib3<1.25,>=1.21.1 in /usr/local/lib/python3.6/dist-packages (from requests>=2.0.0->requests-oauthlib>=0.7.0->google-auth-oauthlib<0.5,>=0.4.1->tensorboard<2.1.0,>=2.0.0->tensorflow) (1.24.3)\n"
          ],
          "name": "stdout"
        }
      ]
    },
    {
      "cell_type": "markdown",
      "metadata": {
        "id": "c9oxHQkB9xxp",
        "colab_type": "text"
      },
      "source": [
        "## Importing and understanding the dataset\n",
        "\n",
        "We are using the breast cancer dataset from sklearn.\n",
        "The description of the dataset is printed out."
      ]
    },
    {
      "cell_type": "code",
      "metadata": {
        "id": "saxvHPzy6WG0",
        "colab_type": "code",
        "colab": {
          "base_uri": "https://localhost:8080/",
          "height": 1000
        },
        "outputId": "7815fc9f-b783-4575-8bcd-93ea43c0cda1"
      },
      "source": [
        "dataset = load_breast_cancer()\n",
        "print(dataset.DESCR)"
      ],
      "execution_count": 2,
      "outputs": [
        {
          "output_type": "stream",
          "text": [
            ".. _breast_cancer_dataset:\n",
            "\n",
            "Breast cancer wisconsin (diagnostic) dataset\n",
            "--------------------------------------------\n",
            "\n",
            "**Data Set Characteristics:**\n",
            "\n",
            "    :Number of Instances: 569\n",
            "\n",
            "    :Number of Attributes: 30 numeric, predictive attributes and the class\n",
            "\n",
            "    :Attribute Information:\n",
            "        - radius (mean of distances from center to points on the perimeter)\n",
            "        - texture (standard deviation of gray-scale values)\n",
            "        - perimeter\n",
            "        - area\n",
            "        - smoothness (local variation in radius lengths)\n",
            "        - compactness (perimeter^2 / area - 1.0)\n",
            "        - concavity (severity of concave portions of the contour)\n",
            "        - concave points (number of concave portions of the contour)\n",
            "        - symmetry \n",
            "        - fractal dimension (\"coastline approximation\" - 1)\n",
            "\n",
            "        The mean, standard error, and \"worst\" or largest (mean of the three\n",
            "        largest values) of these features were computed for each image,\n",
            "        resulting in 30 features.  For instance, field 3 is Mean Radius, field\n",
            "        13 is Radius SE, field 23 is Worst Radius.\n",
            "\n",
            "        - class:\n",
            "                - WDBC-Malignant\n",
            "                - WDBC-Benign\n",
            "\n",
            "    :Summary Statistics:\n",
            "\n",
            "    ===================================== ====== ======\n",
            "                                           Min    Max\n",
            "    ===================================== ====== ======\n",
            "    radius (mean):                        6.981  28.11\n",
            "    texture (mean):                       9.71   39.28\n",
            "    perimeter (mean):                     43.79  188.5\n",
            "    area (mean):                          143.5  2501.0\n",
            "    smoothness (mean):                    0.053  0.163\n",
            "    compactness (mean):                   0.019  0.345\n",
            "    concavity (mean):                     0.0    0.427\n",
            "    concave points (mean):                0.0    0.201\n",
            "    symmetry (mean):                      0.106  0.304\n",
            "    fractal dimension (mean):             0.05   0.097\n",
            "    radius (standard error):              0.112  2.873\n",
            "    texture (standard error):             0.36   4.885\n",
            "    perimeter (standard error):           0.757  21.98\n",
            "    area (standard error):                6.802  542.2\n",
            "    smoothness (standard error):          0.002  0.031\n",
            "    compactness (standard error):         0.002  0.135\n",
            "    concavity (standard error):           0.0    0.396\n",
            "    concave points (standard error):      0.0    0.053\n",
            "    symmetry (standard error):            0.008  0.079\n",
            "    fractal dimension (standard error):   0.001  0.03\n",
            "    radius (worst):                       7.93   36.04\n",
            "    texture (worst):                      12.02  49.54\n",
            "    perimeter (worst):                    50.41  251.2\n",
            "    area (worst):                         185.2  4254.0\n",
            "    smoothness (worst):                   0.071  0.223\n",
            "    compactness (worst):                  0.027  1.058\n",
            "    concavity (worst):                    0.0    1.252\n",
            "    concave points (worst):               0.0    0.291\n",
            "    symmetry (worst):                     0.156  0.664\n",
            "    fractal dimension (worst):            0.055  0.208\n",
            "    ===================================== ====== ======\n",
            "\n",
            "    :Missing Attribute Values: None\n",
            "\n",
            "    :Class Distribution: 212 - Malignant, 357 - Benign\n",
            "\n",
            "    :Creator:  Dr. William H. Wolberg, W. Nick Street, Olvi L. Mangasarian\n",
            "\n",
            "    :Donor: Nick Street\n",
            "\n",
            "    :Date: November, 1995\n",
            "\n",
            "This is a copy of UCI ML Breast Cancer Wisconsin (Diagnostic) datasets.\n",
            "https://goo.gl/U2Uwz2\n",
            "\n",
            "Features are computed from a digitized image of a fine needle\n",
            "aspirate (FNA) of a breast mass.  They describe\n",
            "characteristics of the cell nuclei present in the image.\n",
            "\n",
            "Separating plane described above was obtained using\n",
            "Multisurface Method-Tree (MSM-T) [K. P. Bennett, \"Decision Tree\n",
            "Construction Via Linear Programming.\" Proceedings of the 4th\n",
            "Midwest Artificial Intelligence and Cognitive Science Society,\n",
            "pp. 97-101, 1992], a classification method which uses linear\n",
            "programming to construct a decision tree.  Relevant features\n",
            "were selected using an exhaustive search in the space of 1-4\n",
            "features and 1-3 separating planes.\n",
            "\n",
            "The actual linear program used to obtain the separating plane\n",
            "in the 3-dimensional space is that described in:\n",
            "[K. P. Bennett and O. L. Mangasarian: \"Robust Linear\n",
            "Programming Discrimination of Two Linearly Inseparable Sets\",\n",
            "Optimization Methods and Software 1, 1992, 23-34].\n",
            "\n",
            "This database is also available through the UW CS ftp server:\n",
            "\n",
            "ftp ftp.cs.wisc.edu\n",
            "cd math-prog/cpo-dataset/machine-learn/WDBC/\n",
            "\n",
            ".. topic:: References\n",
            "\n",
            "   - W.N. Street, W.H. Wolberg and O.L. Mangasarian. Nuclear feature extraction \n",
            "     for breast tumor diagnosis. IS&T/SPIE 1993 International Symposium on \n",
            "     Electronic Imaging: Science and Technology, volume 1905, pages 861-870,\n",
            "     San Jose, CA, 1993.\n",
            "   - O.L. Mangasarian, W.N. Street and W.H. Wolberg. Breast cancer diagnosis and \n",
            "     prognosis via linear programming. Operations Research, 43(4), pages 570-577, \n",
            "     July-August 1995.\n",
            "   - W.H. Wolberg, W.N. Street, and O.L. Mangasarian. Machine learning techniques\n",
            "     to diagnose breast cancer from fine-needle aspirates. Cancer Letters 77 (1994) \n",
            "     163-171.\n"
          ],
          "name": "stdout"
        }
      ]
    },
    {
      "cell_type": "markdown",
      "metadata": {
        "id": "PLcz8J0c-Pac",
        "colab_type": "text"
      },
      "source": [
        "## K-fold cross validation\n",
        "\n",
        "To avoid bias in the training data, the data needs to be shuffled before the train split. In k-fold cross validation the data is split into k segments. For each segment the model is trained on the rest and evaulated on the segment."
      ]
    },
    {
      "cell_type": "code",
      "metadata": {
        "id": "aoACwUGs_egK",
        "colab_type": "code",
        "colab": {}
      },
      "source": [
        "x, y = shuffle(dataset.data, dataset.target, random_state=1)\n",
        "\n",
        "def k_fold(k, i, x, y):\n",
        "    valid_start_i = int(len(y)/k*i)\n",
        "    valid_end_i = int(len(y)/k*(i+1))\n",
        "    x_train = np.concatenate((x[:valid_start_i], x[valid_end_i:]), axis=0)\n",
        "    y_train = np.concatenate((y[:valid_start_i], y[valid_end_i:]))\n",
        "    x_test = x[valid_start_i:valid_end_i]\n",
        "    y_test = y[valid_start_i:valid_end_i]\n",
        "\n",
        "    mean = np.mean(x_train)\n",
        "    std = np.std(x_train)\n",
        "\n",
        "    x_train_norm, x_test_norm = (x_train-mean)/(std+1e-6), (x_test-mean)/(std+1e-6)\n",
        "\n",
        "    return x_train_norm, y_train, x_test_norm, y_test"
      ],
      "execution_count": 0,
      "outputs": []
    },
    {
      "cell_type": "markdown",
      "metadata": {
        "id": "wKXA2BBG-Ttj",
        "colab_type": "text"
      },
      "source": [
        "## Building model\n",
        "\n",
        "Complete the build_model() function!"
      ]
    },
    {
      "cell_type": "code",
      "metadata": {
        "id": "Ym1dWpMJiJCg",
        "colab_type": "code",
        "colab": {}
      },
      "source": [
        "def build_model(x_train_norm, y_train,x_test_norm, y_test):\n",
        "    model = Sequential()\n",
        "    model.add(Dense(128, input_dim=30, activation='relu'))\n",
        "    model.add(Dense(1, activation='sigmoid'))\n",
        "\n",
        "    model.compile(optimizer='sgd',\n",
        "                loss='mse',\n",
        "                metrics=['accuracy'])\n",
        "\n",
        "    history = model.fit(x_train_norm, y_train, validation_data=(x_test_norm, y_test), epochs=10, batch_size=32)\n",
        "    return model, history"
      ],
      "execution_count": 0,
      "outputs": []
    },
    {
      "cell_type": "markdown",
      "metadata": {
        "id": "wP2ZLAgUQcKH",
        "colab_type": "text"
      },
      "source": [
        "## Training"
      ]
    },
    {
      "cell_type": "code",
      "metadata": {
        "id": "nlQNqCh47d0N",
        "colab_type": "code",
        "colab": {
          "base_uri": "https://localhost:8080/",
          "height": 1000
        },
        "outputId": "8a12d022-8982-42de-fb23-5ff43618c350"
      },
      "source": [
        "k = 5\n",
        "\n",
        "accuracy = np.zeros((k))\n",
        "precision = np.zeros((k))\n",
        "recall = np.zeros((k))\n",
        "f1_score = np.zeros((k))\n",
        "\n",
        "for i in range(k):\n",
        "    print(f'Iteration {i} from {k}.')\n",
        "\n",
        "    x_train_norm, y_train, x_test_norm, y_test = k_fold(k, i, x, y)\n",
        "\n",
        "    model, history = build_model(x_train_norm, y_train,x_test_norm, y_test)\n",
        "    decision_boundary = 0.5\n",
        "    prediction = np.round(model.predict(x_test_norm)[:,0]+0.5-decision_boundary,0).astype(int)\n",
        "\n",
        "    accuracy[i] = (np.sum(np.multiply(prediction==1, y_test==1))+np.sum(np.multiply(prediction==0, y_test==0)))/len(y_test)\n",
        "    precision[i] = np.sum(np.multiply(prediction==1, y_test==1))/np.sum(prediction==1)\n",
        "    recall[i] = np.sum(np.multiply(prediction==0, y_test==0))/np.sum(prediction==0)\n",
        "    f1_score[i] = 2*(precision[i]*recall[i])/(precision[i]+recall[i])"
      ],
      "execution_count": 5,
      "outputs": [
        {
          "output_type": "stream",
          "text": [
            "Iteration 0 from 5.\n",
            "Train on 456 samples, validate on 113 samples\n",
            "Epoch 1/10\n",
            "456/456 [==============================] - 1s 1ms/sample - loss: 0.2493 - accuracy: 0.3728 - val_loss: 0.2472 - val_accuracy: 0.3717\n",
            "Epoch 2/10\n",
            "456/456 [==============================] - 0s 100us/sample - loss: 0.2378 - accuracy: 0.3772 - val_loss: 0.2386 - val_accuracy: 0.3894\n",
            "Epoch 3/10\n",
            "456/456 [==============================] - 0s 97us/sample - loss: 0.2283 - accuracy: 0.4232 - val_loss: 0.2303 - val_accuracy: 0.5133\n",
            "Epoch 4/10\n",
            "456/456 [==============================] - 0s 146us/sample - loss: 0.2195 - accuracy: 0.6316 - val_loss: 0.2244 - val_accuracy: 0.5752\n",
            "Epoch 5/10\n",
            "456/456 [==============================] - 0s 105us/sample - loss: 0.2121 - accuracy: 0.7281 - val_loss: 0.2183 - val_accuracy: 0.7522\n",
            "Epoch 6/10\n",
            "456/456 [==============================] - 0s 99us/sample - loss: 0.2051 - accuracy: 0.8048 - val_loss: 0.2119 - val_accuracy: 0.8496\n",
            "Epoch 7/10\n",
            "456/456 [==============================] - 0s 92us/sample - loss: 0.1985 - accuracy: 0.8838 - val_loss: 0.2065 - val_accuracy: 0.8673\n",
            "Epoch 8/10\n",
            "456/456 [==============================] - 0s 110us/sample - loss: 0.1925 - accuracy: 0.9145 - val_loss: 0.2018 - val_accuracy: 0.8673\n",
            "Epoch 9/10\n",
            "456/456 [==============================] - 0s 106us/sample - loss: 0.1870 - accuracy: 0.9211 - val_loss: 0.1970 - val_accuracy: 0.8584\n",
            "Epoch 10/10\n",
            "456/456 [==============================] - 0s 108us/sample - loss: 0.1814 - accuracy: 0.9145 - val_loss: 0.1924 - val_accuracy: 0.9027\n",
            "Iteration 1 from 5.\n",
            "Train on 455 samples, validate on 114 samples\n",
            "Epoch 1/10\n",
            "455/455 [==============================] - 1s 1ms/sample - loss: 0.2628 - accuracy: 0.5714 - val_loss: 0.2509 - val_accuracy: 0.4035\n",
            "Epoch 2/10\n",
            "455/455 [==============================] - 0s 92us/sample - loss: 0.2430 - accuracy: 0.4901 - val_loss: 0.2400 - val_accuracy: 0.4386\n",
            "Epoch 3/10\n",
            "455/455 [==============================] - 0s 94us/sample - loss: 0.2304 - accuracy: 0.5978 - val_loss: 0.2313 - val_accuracy: 0.4825\n",
            "Epoch 4/10\n",
            "455/455 [==============================] - 0s 92us/sample - loss: 0.2206 - accuracy: 0.6593 - val_loss: 0.2221 - val_accuracy: 0.6930\n",
            "Epoch 5/10\n",
            "455/455 [==============================] - 0s 95us/sample - loss: 0.2128 - accuracy: 0.8088 - val_loss: 0.2148 - val_accuracy: 0.7719\n",
            "Epoch 6/10\n",
            "455/455 [==============================] - 0s 107us/sample - loss: 0.2057 - accuracy: 0.8286 - val_loss: 0.2076 - val_accuracy: 0.8596\n",
            "Epoch 7/10\n",
            "455/455 [==============================] - 0s 99us/sample - loss: 0.1999 - accuracy: 0.8857 - val_loss: 0.2025 - val_accuracy: 0.8596\n",
            "Epoch 8/10\n",
            "455/455 [==============================] - 0s 99us/sample - loss: 0.1943 - accuracy: 0.8901 - val_loss: 0.1980 - val_accuracy: 0.8596\n",
            "Epoch 9/10\n",
            "455/455 [==============================] - 0s 99us/sample - loss: 0.1896 - accuracy: 0.9077 - val_loss: 0.1927 - val_accuracy: 0.8684\n",
            "Epoch 10/10\n",
            "455/455 [==============================] - 0s 97us/sample - loss: 0.1849 - accuracy: 0.9011 - val_loss: 0.1875 - val_accuracy: 0.8772\n",
            "Iteration 2 from 5.\n",
            "Train on 455 samples, validate on 114 samples\n",
            "Epoch 1/10\n",
            "455/455 [==============================] - 0s 939us/sample - loss: 0.2537 - accuracy: 0.6484 - val_loss: 0.2414 - val_accuracy: 0.6228\n",
            "Epoch 2/10\n",
            "455/455 [==============================] - 0s 118us/sample - loss: 0.2306 - accuracy: 0.8132 - val_loss: 0.2195 - val_accuracy: 0.8246\n",
            "Epoch 3/10\n",
            "455/455 [==============================] - 0s 104us/sample - loss: 0.2201 - accuracy: 0.8527 - val_loss: 0.2073 - val_accuracy: 0.7544\n",
            "Epoch 4/10\n",
            "455/455 [==============================] - 0s 102us/sample - loss: 0.2124 - accuracy: 0.8242 - val_loss: 0.2010 - val_accuracy: 0.8596\n",
            "Epoch 5/10\n",
            "455/455 [==============================] - 0s 106us/sample - loss: 0.2059 - accuracy: 0.8791 - val_loss: 0.1932 - val_accuracy: 0.8421\n",
            "Epoch 6/10\n",
            "455/455 [==============================] - 0s 98us/sample - loss: 0.1995 - accuracy: 0.8769 - val_loss: 0.1871 - val_accuracy: 0.8684\n",
            "Epoch 7/10\n",
            "455/455 [==============================] - 0s 119us/sample - loss: 0.1934 - accuracy: 0.8813 - val_loss: 0.1820 - val_accuracy: 0.9035\n",
            "Epoch 8/10\n",
            "455/455 [==============================] - 0s 102us/sample - loss: 0.1877 - accuracy: 0.8879 - val_loss: 0.1765 - val_accuracy: 0.9035\n",
            "Epoch 9/10\n",
            "455/455 [==============================] - 0s 98us/sample - loss: 0.1825 - accuracy: 0.9033 - val_loss: 0.1720 - val_accuracy: 0.8947\n",
            "Epoch 10/10\n",
            "455/455 [==============================] - 0s 104us/sample - loss: 0.1775 - accuracy: 0.9077 - val_loss: 0.1664 - val_accuracy: 0.9035\n",
            "Iteration 3 from 5.\n",
            "Train on 455 samples, validate on 114 samples\n",
            "Epoch 1/10\n",
            "455/455 [==============================] - 1s 1ms/sample - loss: 0.2598 - accuracy: 0.2352 - val_loss: 0.2492 - val_accuracy: 0.3509\n",
            "Epoch 2/10\n",
            "455/455 [==============================] - 0s 97us/sample - loss: 0.2461 - accuracy: 0.3758 - val_loss: 0.2393 - val_accuracy: 0.3684\n",
            "Epoch 3/10\n",
            "455/455 [==============================] - 0s 96us/sample - loss: 0.2376 - accuracy: 0.4066 - val_loss: 0.2308 - val_accuracy: 0.5614\n",
            "Epoch 4/10\n",
            "455/455 [==============================] - 0s 101us/sample - loss: 0.2307 - accuracy: 0.5297 - val_loss: 0.2237 - val_accuracy: 0.7895\n",
            "Epoch 5/10\n",
            "455/455 [==============================] - 0s 104us/sample - loss: 0.2245 - accuracy: 0.7253 - val_loss: 0.2163 - val_accuracy: 0.7807\n",
            "Epoch 6/10\n",
            "455/455 [==============================] - 0s 107us/sample - loss: 0.2185 - accuracy: 0.6967 - val_loss: 0.2100 - val_accuracy: 0.8596\n",
            "Epoch 7/10\n",
            "455/455 [==============================] - 0s 113us/sample - loss: 0.2126 - accuracy: 0.8066 - val_loss: 0.2039 - val_accuracy: 0.8684\n",
            "Epoch 8/10\n",
            "455/455 [==============================] - 0s 103us/sample - loss: 0.2073 - accuracy: 0.8242 - val_loss: 0.1982 - val_accuracy: 0.8947\n",
            "Epoch 9/10\n",
            "455/455 [==============================] - 0s 108us/sample - loss: 0.2024 - accuracy: 0.8593 - val_loss: 0.1927 - val_accuracy: 0.9211\n",
            "Epoch 10/10\n",
            "455/455 [==============================] - 0s 102us/sample - loss: 0.1973 - accuracy: 0.8725 - val_loss: 0.1871 - val_accuracy: 0.9123\n",
            "Iteration 4 from 5.\n",
            "Train on 455 samples, validate on 114 samples\n",
            "Epoch 1/10\n",
            "455/455 [==============================] - 0s 929us/sample - loss: 0.2411 - accuracy: 0.3670 - val_loss: 0.2275 - val_accuracy: 0.3947\n",
            "Epoch 2/10\n",
            "455/455 [==============================] - 0s 111us/sample - loss: 0.2279 - accuracy: 0.4396 - val_loss: 0.2205 - val_accuracy: 0.6053\n",
            "Epoch 3/10\n",
            "455/455 [==============================] - 0s 99us/sample - loss: 0.2206 - accuracy: 0.7011 - val_loss: 0.2140 - val_accuracy: 0.7895\n",
            "Epoch 4/10\n",
            "455/455 [==============================] - 0s 94us/sample - loss: 0.2137 - accuracy: 0.8286 - val_loss: 0.2079 - val_accuracy: 0.8947\n",
            "Epoch 5/10\n",
            "455/455 [==============================] - 0s 101us/sample - loss: 0.2074 - accuracy: 0.8725 - val_loss: 0.2030 - val_accuracy: 0.9298\n",
            "Epoch 6/10\n",
            "455/455 [==============================] - 0s 110us/sample - loss: 0.2017 - accuracy: 0.9143 - val_loss: 0.1975 - val_accuracy: 0.9123\n",
            "Epoch 7/10\n",
            "455/455 [==============================] - 0s 111us/sample - loss: 0.1962 - accuracy: 0.9165 - val_loss: 0.1928 - val_accuracy: 0.9298\n",
            "Epoch 8/10\n",
            "455/455 [==============================] - 0s 94us/sample - loss: 0.1910 - accuracy: 0.9165 - val_loss: 0.1866 - val_accuracy: 0.9298\n",
            "Epoch 9/10\n",
            "455/455 [==============================] - 0s 101us/sample - loss: 0.1861 - accuracy: 0.9143 - val_loss: 0.1830 - val_accuracy: 0.9298\n",
            "Epoch 10/10\n",
            "455/455 [==============================] - 0s 114us/sample - loss: 0.1816 - accuracy: 0.9187 - val_loss: 0.1776 - val_accuracy: 0.9123\n",
            "accuracy: 0.9015836050302749\n",
            "precision: 0.9141062891360688\n",
            "recall: 0.8893052475979306\n",
            "f1_score: 0.8978544465401026\n"
          ],
          "name": "stdout"
        }
      ]
    },
    {
      "cell_type": "markdown",
      "metadata": {
        "id": "fjFpG_DD-bfb",
        "colab_type": "text"
      },
      "source": [
        "## Validation\n",
        "\n",
        "The accuracy is the percentage of correctly classified datapoints. If the dataset is illbalanced it is not a good metric, because a model, which always predict one class can achieve high value.\n",
        "\n",
        "The precision is the percentage of true positive in all positive.\n",
        "The recall is the percentage of true negative in all negative.\n",
        "\n",
        "The f1 score combines the precision and recall into one score. It has its maximum, when both precision and recall is 1. If either of those decresaes it decreases as well. Other functions can be defined to combine the two metrics."
      ]
    },
    {
      "cell_type": "code",
      "metadata": {
        "id": "yT9Hsls2S7v6",
        "colab_type": "code",
        "colab": {}
      },
      "source": [
        "print(f'accuracy: {np.mean(accuracy)}')\n",
        "print(f'precision: {np.mean(precision)}')\n",
        "print(f'recall: {np.mean(recall)}')\n",
        "print(f'f1_score: {np.mean(f1_score)}')"
      ],
      "execution_count": 0,
      "outputs": []
    }
  ]
}